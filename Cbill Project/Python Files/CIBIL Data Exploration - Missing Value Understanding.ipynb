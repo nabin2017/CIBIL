{
 "cells": [
  {
   "cell_type": "markdown",
   "metadata": {},
   "source": [
    "#  Correlation of Features\n"
   ]
  },
  {
   "cell_type": "code",
   "execution_count": 1,
   "metadata": {},
   "outputs": [
    {
     "data": {
      "text/html": [
       "        <script type=\"text/javascript\">\n",
       "        window.PlotlyConfig = {MathJaxConfig: 'local'};\n",
       "        if (window.MathJax) {MathJax.Hub.Config({SVG: {font: \"STIX-Web\"}});}\n",
       "        if (typeof require !== 'undefined') {\n",
       "        require.undef(\"plotly\");\n",
       "        requirejs.config({\n",
       "            paths: {\n",
       "                'plotly': ['https://cdn.plot.ly/plotly-latest.min']\n",
       "            }\n",
       "        });\n",
       "        require(['plotly'], function(Plotly) {\n",
       "            window._Plotly = Plotly;\n",
       "        });\n",
       "        }\n",
       "        </script>\n",
       "        "
      ]
     },
     "metadata": {},
     "output_type": "display_data"
    }
   ],
   "source": [
    "# data analysis and wrangling\n",
    "import pandas as pd\n",
    "import numpy as np\n",
    "import random as rnd\n",
    "\n",
    "\n",
    "# visualization\n",
    "import matplotlib.pyplot as plt\n",
    "%matplotlib inline\n",
    "\n",
    "# Import statements required for Plotly \n",
    "import plotly.offline as py\n",
    "py.init_notebook_mode(connected=True)\n",
    "import plotly.graph_objs as go\n",
    "import plotly.tools as tls\n",
    "\n",
    "\n",
    "# for warnings \n",
    "import warnings\n",
    "warnings.filterwarnings('ignore')\n",
    "\n",
    "# machine learning\n",
    "from sklearn.ensemble import RandomForestClassifier\n",
    "from sklearn.tree import DecisionTreeClassifier\n",
    "from sklearn.preprocessing import LabelEncoder\n",
    "from sklearn.metrics import accuracy_score, log_loss\n",
    "from imblearn.over_sampling import SMOTE\n",
    "\n",
    "# Collections\n",
    "from collections import Counter"
   ]
  },
  {
   "cell_type": "code",
   "execution_count": 2,
   "metadata": {},
   "outputs": [],
   "source": [
    "# Reading Data for the training files\n",
    "enquiry = pd.read_csv('D:\\\\Projects\\\\Cbill\\\\test data\\\\test data\\\\raw_enquiry_70_new.csv')\n",
    "data = pd.read_csv('D:\\\\Projects\\\\Cbill\\\\test data\\\\test data\\\\raw_data_70_new.csv')\n",
    "account = pd.read_csv('D:\\\\Projects\\\\Cbill\\\\test data\\\\test data\\\\raw_account_70_new.csv')"
   ]
  },
  {
   "cell_type": "markdown",
   "metadata": {},
   "source": [
    "## Enquiry Data Analysis"
   ]
  },
  {
   "cell_type": "code",
   "execution_count": 3,
   "metadata": {},
   "outputs": [
    {
     "data": {
      "text/html": [
       "<div>\n",
       "<style scoped>\n",
       "    .dataframe tbody tr th:only-of-type {\n",
       "        vertical-align: middle;\n",
       "    }\n",
       "\n",
       "    .dataframe tbody tr th {\n",
       "        vertical-align: top;\n",
       "    }\n",
       "\n",
       "    .dataframe thead th {\n",
       "        text-align: right;\n",
       "    }\n",
       "</style>\n",
       "<table border=\"1\" class=\"dataframe\">\n",
       "  <thead>\n",
       "    <tr style=\"text-align: right;\">\n",
       "      <th></th>\n",
       "      <th>dt_opened</th>\n",
       "      <th>customer_no</th>\n",
       "      <th>upload_dt</th>\n",
       "      <th>enquiry_dt</th>\n",
       "      <th>enq_purpose</th>\n",
       "      <th>enq_amt</th>\n",
       "    </tr>\n",
       "  </thead>\n",
       "  <tbody>\n",
       "    <tr>\n",
       "      <th>0</th>\n",
       "      <td>18-Apr-15</td>\n",
       "      <td>1</td>\n",
       "      <td>21-Apr-15</td>\n",
       "      <td>19-Dec-14</td>\n",
       "      <td>2.0</td>\n",
       "      <td>3500000.0</td>\n",
       "    </tr>\n",
       "    <tr>\n",
       "      <th>1</th>\n",
       "      <td>18-Apr-15</td>\n",
       "      <td>1</td>\n",
       "      <td>21-Apr-15</td>\n",
       "      <td>5-Mar-14</td>\n",
       "      <td>5.0</td>\n",
       "      <td>500000.0</td>\n",
       "    </tr>\n",
       "    <tr>\n",
       "      <th>2</th>\n",
       "      <td>18-Apr-15</td>\n",
       "      <td>1</td>\n",
       "      <td>21-Apr-15</td>\n",
       "      <td>5-Mar-14</td>\n",
       "      <td>0.0</td>\n",
       "      <td>50000.0</td>\n",
       "    </tr>\n",
       "    <tr>\n",
       "      <th>3</th>\n",
       "      <td>18-Apr-15</td>\n",
       "      <td>1</td>\n",
       "      <td>21-Apr-15</td>\n",
       "      <td>22-Feb-14</td>\n",
       "      <td>10.0</td>\n",
       "      <td>50000.0</td>\n",
       "    </tr>\n",
       "    <tr>\n",
       "      <th>4</th>\n",
       "      <td>18-Apr-15</td>\n",
       "      <td>1</td>\n",
       "      <td>21-Apr-15</td>\n",
       "      <td>11-Jun-13</td>\n",
       "      <td>10.0</td>\n",
       "      <td>1000.0</td>\n",
       "    </tr>\n",
       "  </tbody>\n",
       "</table>\n",
       "</div>"
      ],
      "text/plain": [
       "   dt_opened  customer_no  upload_dt enquiry_dt  enq_purpose    enq_amt\n",
       "0  18-Apr-15            1  21-Apr-15  19-Dec-14          2.0  3500000.0\n",
       "1  18-Apr-15            1  21-Apr-15   5-Mar-14          5.0   500000.0\n",
       "2  18-Apr-15            1  21-Apr-15   5-Mar-14          0.0    50000.0\n",
       "3  18-Apr-15            1  21-Apr-15  22-Feb-14         10.0    50000.0\n",
       "4  18-Apr-15            1  21-Apr-15  11-Jun-13         10.0     1000.0"
      ]
     },
     "execution_count": 3,
     "metadata": {},
     "output_type": "execute_result"
    }
   ],
   "source": [
    "# Understanding data for Enquiry\n",
    "enquiry.head()"
   ]
  },
  {
   "cell_type": "code",
   "execution_count": 4,
   "metadata": {
    "scrolled": true
   },
   "outputs": [
    {
     "data": {
      "text/html": [
       "<div>\n",
       "<style scoped>\n",
       "    .dataframe tbody tr th:only-of-type {\n",
       "        vertical-align: middle;\n",
       "    }\n",
       "\n",
       "    .dataframe tbody tr th {\n",
       "        vertical-align: top;\n",
       "    }\n",
       "\n",
       "    .dataframe thead th {\n",
       "        text-align: right;\n",
       "    }\n",
       "</style>\n",
       "<table border=\"1\" class=\"dataframe\">\n",
       "  <thead>\n",
       "    <tr style=\"text-align: right;\">\n",
       "      <th></th>\n",
       "      <th>enq_purpose</th>\n",
       "    </tr>\n",
       "  </thead>\n",
       "  <tbody>\n",
       "    <tr>\n",
       "      <th>10.0</th>\n",
       "      <td>238150</td>\n",
       "    </tr>\n",
       "    <tr>\n",
       "      <th>5.0</th>\n",
       "      <td>81881</td>\n",
       "    </tr>\n",
       "    <tr>\n",
       "      <th>1.0</th>\n",
       "      <td>23708</td>\n",
       "    </tr>\n",
       "    <tr>\n",
       "      <th>6.0</th>\n",
       "      <td>17426</td>\n",
       "    </tr>\n",
       "    <tr>\n",
       "      <th>2.0</th>\n",
       "      <td>15576</td>\n",
       "    </tr>\n",
       "    <tr>\n",
       "      <th>0.0</th>\n",
       "      <td>15048</td>\n",
       "    </tr>\n",
       "    <tr>\n",
       "      <th>13.0</th>\n",
       "      <td>11179</td>\n",
       "    </tr>\n",
       "    <tr>\n",
       "      <th>51.0</th>\n",
       "      <td>3942</td>\n",
       "    </tr>\n",
       "    <tr>\n",
       "      <th>3.0</th>\n",
       "      <td>1728</td>\n",
       "    </tr>\n",
       "    <tr>\n",
       "      <th>7.0</th>\n",
       "      <td>1351</td>\n",
       "    </tr>\n",
       "    <tr>\n",
       "      <th>12.0</th>\n",
       "      <td>1000</td>\n",
       "    </tr>\n",
       "    <tr>\n",
       "      <th>8.0</th>\n",
       "      <td>563</td>\n",
       "    </tr>\n",
       "    <tr>\n",
       "      <th>17.0</th>\n",
       "      <td>410</td>\n",
       "    </tr>\n",
       "    <tr>\n",
       "      <th>4.0</th>\n",
       "      <td>280</td>\n",
       "    </tr>\n",
       "    <tr>\n",
       "      <th>32.0</th>\n",
       "      <td>170</td>\n",
       "    </tr>\n",
       "    <tr>\n",
       "      <th>54.0</th>\n",
       "      <td>154</td>\n",
       "    </tr>\n",
       "    <tr>\n",
       "      <th>52.0</th>\n",
       "      <td>130</td>\n",
       "    </tr>\n",
       "    <tr>\n",
       "      <th>14.0</th>\n",
       "      <td>95</td>\n",
       "    </tr>\n",
       "    <tr>\n",
       "      <th>53.0</th>\n",
       "      <td>72</td>\n",
       "    </tr>\n",
       "    <tr>\n",
       "      <th>9.0</th>\n",
       "      <td>51</td>\n",
       "    </tr>\n",
       "    <tr>\n",
       "      <th>40.0</th>\n",
       "      <td>22</td>\n",
       "    </tr>\n",
       "    <tr>\n",
       "      <th>35.0</th>\n",
       "      <td>19</td>\n",
       "    </tr>\n",
       "    <tr>\n",
       "      <th>59.0</th>\n",
       "      <td>15</td>\n",
       "    </tr>\n",
       "    <tr>\n",
       "      <th>33.0</th>\n",
       "      <td>14</td>\n",
       "    </tr>\n",
       "    <tr>\n",
       "      <th>15.0</th>\n",
       "      <td>13</td>\n",
       "    </tr>\n",
       "    <tr>\n",
       "      <th>11.0</th>\n",
       "      <td>13</td>\n",
       "    </tr>\n",
       "    <tr>\n",
       "      <th>56.0</th>\n",
       "      <td>13</td>\n",
       "    </tr>\n",
       "    <tr>\n",
       "      <th>55.0</th>\n",
       "      <td>12</td>\n",
       "    </tr>\n",
       "    <tr>\n",
       "      <th>57.0</th>\n",
       "      <td>10</td>\n",
       "    </tr>\n",
       "    <tr>\n",
       "      <th>41.0</th>\n",
       "      <td>7</td>\n",
       "    </tr>\n",
       "    <tr>\n",
       "      <th>43.0</th>\n",
       "      <td>6</td>\n",
       "    </tr>\n",
       "    <tr>\n",
       "      <th>58.0</th>\n",
       "      <td>6</td>\n",
       "    </tr>\n",
       "    <tr>\n",
       "      <th>36.0</th>\n",
       "      <td>6</td>\n",
       "    </tr>\n",
       "    <tr>\n",
       "      <th>31.0</th>\n",
       "      <td>3</td>\n",
       "    </tr>\n",
       "    <tr>\n",
       "      <th>34.0</th>\n",
       "      <td>3</td>\n",
       "    </tr>\n",
       "    <tr>\n",
       "      <th>16.0</th>\n",
       "      <td>2</td>\n",
       "    </tr>\n",
       "  </tbody>\n",
       "</table>\n",
       "</div>"
      ],
      "text/plain": [
       "      enq_purpose\n",
       "10.0       238150\n",
       "5.0         81881\n",
       "1.0         23708\n",
       "6.0         17426\n",
       "2.0         15576\n",
       "0.0         15048\n",
       "13.0        11179\n",
       "51.0         3942\n",
       "3.0          1728\n",
       "7.0          1351\n",
       "12.0         1000\n",
       "8.0           563\n",
       "17.0          410\n",
       "4.0           280\n",
       "32.0          170\n",
       "54.0          154\n",
       "52.0          130\n",
       "14.0           95\n",
       "53.0           72\n",
       "9.0            51\n",
       "40.0           22\n",
       "35.0           19\n",
       "59.0           15\n",
       "33.0           14\n",
       "15.0           13\n",
       "11.0           13\n",
       "56.0           13\n",
       "55.0           12\n",
       "57.0           10\n",
       "41.0            7\n",
       "43.0            6\n",
       "58.0            6\n",
       "36.0            6\n",
       "31.0            3\n",
       "34.0            3\n",
       "16.0            2"
      ]
     },
     "execution_count": 4,
     "metadata": {},
     "output_type": "execute_result"
    }
   ],
   "source": [
    "# Getting Unique count of enq_purpose to understand Spread\n",
    "pd.DataFrame(enquiry.enq_purpose.value_counts())"
   ]
  },
  {
   "cell_type": "code",
   "execution_count": 5,
   "metadata": {},
   "outputs": [
    {
     "data": {
      "text/plain": [
       "<matplotlib.axes._subplots.AxesSubplot at 0x17ea82ceb00>"
      ]
     },
     "execution_count": 5,
     "metadata": {},
     "output_type": "execute_result"
    },
    {
     "data": {
      "image/png": "[encoded data removed]",
      "text/plain": [
       "<Figure size 432x288 with 1 Axes>"
      ]
     },
     "metadata": {
      "needs_background": "light"
     },
     "output_type": "display_data"
    }
   ],
   "source": [
    "# understand Spread of enq_purpose\n",
    "pd.DataFrame(enquiry.enq_purpose.value_counts()).plot.bar()"
   ]
  },
  {
   "cell_type": "markdown",
   "metadata": {},
   "source": [
    "### Creating Correlation Plots for Enquiry"
   ]
  },
  {
   "cell_type": "code",
   "execution_count": 6,
   "metadata": {
    "scrolled": false
   },
   "outputs": [],
   "source": [
    "# Doing Correlation\n",
    "# creating a list of only numerical values\n",
    "categorical_enquiry = []\n",
    "for col, value in enquiry.iteritems():\n",
    "    if value.dtype == 'object':\n",
    "        categorical_enquiry.append(col)\n",
    "# Store the numerical columns in a list numerical\n",
    "numerical_enquiry = enquiry.columns.difference(categorical_enquiry)"
   ]
  },
  {
   "cell_type": "code",
   "execution_count": 7,
   "metadata": {},
   "outputs": [
    {
     "data": {
      "application/vnd.plotly.v1+json": {
       "config": {
        "linkText": "Export to plot.ly",
        "plotlyServerURL": "https://plot.ly",
        "showLink": false
       },
       "data": [
        {
         "colorscale": [
          [
           0,
           "#440154"
          ],
          [
           0.1111111111111111,
           "#482878"
          ],
          [
           0.2222222222222222,
           "#3e4989"
          ],
          [
           0.3333333333333333,
           "#31688e"
          ],
          [
           0.4444444444444444,
           "#26828e"
          ],
          [
           0.5555555555555556,
           "#1f9e89"
          ],
          [
           0.6666666666666666,
           "#35b779"
          ],
          [
           0.7777777777777778,
           "#6ece58"
          ],
          [
           0.8888888888888888,
           "#b5de2b"
          ],
          [
           1,
           "#fde725"
          ]
         ],
         "reversescale": false,
         "type": "heatmap",
         "x": [
          "customer_no",
          "enq_amt",
          "enq_purpose"
         ],
         "y": [
          "customer_no",
          "enq_amt",
          "enq_purpose"
         ],
         "z": [
          [
           1,
           -0.014068012541695854,
           -0.010926450290436493
          ],
          [
           -0.014068012541695854,
           1,
           0.05062369115948172
          ],
          [
           -0.010926450290436493,
           0.05062369115948172,
           1
          ]
         ]
        }
       ],
       "layout": {
        "height": 700,
        "template": {
         "data": {
          "bar": [
           {
            "error_x": {
             "color": "#2a3f5f"
            },
            "error_y": {
             "color": "#2a3f5f"
            },
            "marker": {
             "line": {
              "color": "#E5ECF6",
              "width": 0.5
             }
            },
            "type": "bar"
           }
          ],
          "barpolar": [
           {
            "marker": {
             "line": {
              "color": "#E5ECF6",
              "width": 0.5
             }
            },
            "type": "barpolar"
           }
          ],
          "carpet": [
           {
            "aaxis": {
             "endlinecolor": "#2a3f5f",
             "gridcolor": "white",
             "linecolor": "white",
             "minorgridcolor": "white",
             "startlinecolor": "#2a3f5f"
            },
            "baxis": {
             "endlinecolor": "#2a3f5f",
             "gridcolor": "white",
             "linecolor": "white",
             "minorgridcolor": "white",
             "startlinecolor": "#2a3f5f"
            },
            "type": "carpet"
           }
          ],
          "choropleth": [
           {
            "colorbar": {
             "outlinewidth": 0,
             "ticks": ""
            },
            "type": "choropleth"
           }
          ],
          "contour": [
           {
            "colorbar": {
             "outlinewidth": 0,
             "ticks": ""
            },
            "colorscale": [
             [
              0,
              "#0d0887"
             ],
             [
              0.1111111111111111,
              "#46039f"
             ],
             [
              0.2222222222222222,
              "#7201a8"
             ],
             [
              0.3333333333333333,
              "#9c179e"
             ],
             [
              0.4444444444444444,
              "#bd3786"
             ],
             [
              0.5555555555555556,
              "#d8576b"
             ],
             [
              0.6666666666666666,
              "#ed7953"
             ],
             [
              0.7777777777777778,
              "#fb9f3a"
             ],
             [
              0.8888888888888888,
              "#fdca26"
             ],
             [
              1,
              "#f0f921"
             ]
            ],
            "type": "contour"
           }
          ],
          "contourcarpet": [
           {
            "colorbar": {
             "outlinewidth": 0,
             "ticks": ""
            },
            "type": "contourcarpet"
           }
          ],
          "heatmap": [
           {
            "colorbar": {
             "outlinewidth": 0,
             "ticks": ""
            },
            "colorscale": [
             [
              0,
              "#0d0887"
             ],
             [
              0.1111111111111111,
              "#46039f"
             ],
             [
              0.2222222222222222,
              "#7201a8"
             ],
             [
              0.3333333333333333,
              "#9c179e"
             ],
             [
              0.4444444444444444,
              "#bd3786"
             ],
             [
              0.5555555555555556,
              "#d8576b"
             ],
             [
              0.6666666666666666,
              "#ed7953"
             ],
             [
              0.7777777777777778,
              "#fb9f3a"
             ],
             [
              0.8888888888888888,
              "#fdca26"
             ],
             [
              1,
              "#f0f921"
             ]
            ],
            "type": "heatmap"
           }
          ],
          "heatmapgl": [
           {
            "colorbar": {
             "outlinewidth": 0,
             "ticks": ""
            },
            "colorscale": [
             [
              0,
              "#0d0887"
             ],
             [
              0.1111111111111111,
              "#46039f"
             ],
             [
              0.2222222222222222,
              "#7201a8"
             ],
             [
              0.3333333333333333,
              "#9c179e"
             ],
             [
              0.4444444444444444,
              "#bd3786"
             ],
             [
              0.5555555555555556,
              "#d8576b"
             ],
             [
              0.6666666666666666,
              "#ed7953"
             ],
             [
              0.7777777777777778,
              "#fb9f3a"
             ],
             [
              0.8888888888888888,
              "#fdca26"
             ],
             [
              1,
              "#f0f921"
             ]
            ],
            "type": "heatmapgl"
           }
          ],
          "histogram": [
           {
            "marker": {
             "colorbar": {
              "outlinewidth": 0,
              "ticks": ""
             }
            },
            "type": "histogram"
           }
          ],
          "histogram2d": [
           {
            "colorbar": {
             "outlinewidth": 0,
             "ticks": ""
            },
            "colorscale": [
             [
              0,
              "#0d0887"
             ],
             [
              0.1111111111111111,
              "#46039f"
             ],
             [
              0.2222222222222222,
              "#7201a8"
             ],
             [
              0.3333333333333333,
              "#9c179e"
             ],
             [
              0.4444444444444444,
              "#bd3786"
             ],
             [
              0.5555555555555556,
              "#d8576b"
             ],
             [
              0.6666666666666666,
              "#ed7953"
             ],
             [
              0.7777777777777778,
              "#fb9f3a"
             ],
             [
              0.8888888888888888,
              "#fdca26"
             ],
             [
              1,
              "#f0f921"
             ]
            ],
            "type": "histogram2d"
           }
          ],
          "histogram2dcontour": [
           {
            "colorbar": {
             "outlinewidth": 0,
             "ticks": ""
            },
            "colorscale": [
             [
              0,
              "#0d0887"
             ],
             [
              0.1111111111111111,
              "#46039f"
             ],
             [
              0.2222222222222222,
              "#7201a8"
             ],
             [
              0.3333333333333333,
              "#9c179e"
             ],
             [
              0.4444444444444444,
              "#bd3786"
             ],
             [
              0.5555555555555556,
              "#d8576b"
             ],
             [
              0.6666666666666666,
              "#ed7953"
             ],
             [
              0.7777777777777778,
              "#fb9f3a"
             ],
             [
              0.8888888888888888,
              "#fdca26"
             ],
             [
              1,
              "#f0f921"
             ]
            ],
            "type": "histogram2dcontour"
           }
          ],
          "mesh3d": [
           {
            "colorbar": {
             "outlinewidth": 0,
             "ticks": ""
            },
            "type": "mesh3d"
           }
          ],
          "parcoords": [
           {
            "line": {
             "colorbar": {
              "outlinewidth": 0,
              "ticks": ""
             }
            },
            "type": "parcoords"
           }
          ],
          "scatter": [
           {
            "marker": {
             "colorbar": {
              "outlinewidth": 0,
              "ticks": ""
             }
            },
            "type": "scatter"
           }
          ],
          "scatter3d": [
           {
            "line": {
             "colorbar": {
              "outlinewidth": 0,
              "ticks": ""
             }
            },
            "marker": {
             "colorbar": {
              "outlinewidth": 0,
              "ticks": ""
             }
            },
            "type": "scatter3d"
           }
          ],
          "scattercarpet": [
           {
            "marker": {
             "colorbar": {
              "outlinewidth": 0,
              "ticks": ""
             }
            },
            "type": "scattercarpet"
           }
          ],
          "scattergeo": [
           {
            "marker": {
             "colorbar": {
              "outlinewidth": 0,
              "ticks": ""
             }
            },
            "type": "scattergeo"
           }
          ],
          "scattergl": [
           {
            "marker": {
             "colorbar": {
              "outlinewidth": 0,
              "ticks": ""
             }
            },
            "type": "scattergl"
           }
          ],
          "scattermapbox": [
           {
            "marker": {
             "colorbar": {
              "outlinewidth": 0,
              "ticks": ""
             }
            },
            "type": "scattermapbox"
           }
          ],
          "scatterpolar": [
           {
            "marker": {
             "colorbar": {
              "outlinewidth": 0,
              "ticks": ""
             }
            },
            "type": "scatterpolar"
           }
          ],
          "scatterpolargl": [
           {
            "marker": {
             "colorbar": {
              "outlinewidth": 0,
              "ticks": ""
             }
            },
            "type": "scatterpolargl"
           }
          ],
          "scatterternary": [
           {
            "marker": {
             "colorbar": {
              "outlinewidth": 0,
              "ticks": ""
             }
            },
            "type": "scatterternary"
           }
          ],
          "surface": [
           {
            "colorbar": {
             "outlinewidth": 0,
             "ticks": ""
            },
            "colorscale": [
             [
              0,
              "#0d0887"
             ],
             [
              0.1111111111111111,
              "#46039f"
             ],
             [
              0.2222222222222222,
              "#7201a8"
             ],
             [
              0.3333333333333333,
              "#9c179e"
             ],
             [
              0.4444444444444444,
              "#bd3786"
             ],
             [
              0.5555555555555556,
              "#d8576b"
             ],
             [
              0.6666666666666666,
              "#ed7953"
             ],
             [
              0.7777777777777778,
              "#fb9f3a"
             ],
             [
              0.8888888888888888,
              "#fdca26"
             ],
             [
              1,
              "#f0f921"
             ]
            ],
            "type": "surface"
           }
          ],
          "table": [
           {
            "cells": {
             "fill": {
              "color": "#EBF0F8"
             },
             "line": {
              "color": "white"
             }
            },
            "header": {
             "fill": {
              "color": "#C8D4E3"
             },
             "line": {
              "color": "white"
             }
            },
            "type": "table"
           }
          ]
         },
         "layout": {
          "annotationdefaults": {
           "arrowcolor": "#2a3f5f",
           "arrowhead": 0,
           "arrowwidth": 1
          },
          "colorscale": {
           "diverging": [
            [
             0,
             "#8e0152"
            ],
            [
             0.1,
             "#c51b7d"
            ],
            [
             0.2,
             "#de77ae"
            ],
            [
             0.3,
             "#f1b6da"
            ],
            [
             0.4,
             "#fde0ef"
            ],
            [
             0.5,
             "#f7f7f7"
            ],
            [
             0.6,
             "#e6f5d0"
            ],
            [
             0.7,
             "#b8e186"
            ],
            [
             0.8,
             "#7fbc41"
            ],
            [
             0.9,
             "#4d9221"
            ],
            [
             1,
             "#276419"
            ]
           ],
           "sequential": [
            [
             0,
             "#0d0887"
            ],
            [
             0.1111111111111111,
             "#46039f"
            ],
            [
             0.2222222222222222,
             "#7201a8"
            ],
            [
             0.3333333333333333,
             "#9c179e"
            ],
            [
             0.4444444444444444,
             "#bd3786"
            ],
            [
             0.5555555555555556,
             "#d8576b"
            ],
            [
             0.6666666666666666,
             "#ed7953"
            ],
            [
             0.7777777777777778,
             "#fb9f3a"
            ],
            [
             0.8888888888888888,
             "#fdca26"
            ],
            [
             1,
             "#f0f921"
            ]
           ],
           "sequentialminus": [
            [
             0,
             "#0d0887"
            ],
            [
             0.1111111111111111,
             "#46039f"
            ],
            [
             0.2222222222222222,
             "#7201a8"
            ],
            [
             0.3333333333333333,
             "#9c179e"
            ],
            [
             0.4444444444444444,
             "#bd3786"
            ],
            [
             0.5555555555555556,
             "#d8576b"
            ],
            [
             0.6666666666666666,
             "#ed7953"
            ],
            [
             0.7777777777777778,
             "#fb9f3a"
            ],
            [
             0.8888888888888888,
             "#fdca26"
            ],
            [
             1,
             "#f0f921"
            ]
           ]
          },
          "colorway": [
           "#636efa",
           "#EF553B",
           "#00cc96",
           "#ab63fa",
           "#FFA15A",
           "#19d3f3",
           "#FF6692",
           "#B6E880",
           "#FF97FF",
           "#FECB52"
          ],
          "font": {
           "color": "#2a3f5f"
          },
          "geo": {
           "bgcolor": "white",
           "lakecolor": "white",
           "landcolor": "#E5ECF6",
           "showlakes": true,
           "showland": true,
           "subunitcolor": "white"
          },
          "hoverlabel": {
           "align": "left"
          },
          "hovermode": "closest",
          "mapbox": {
           "style": "light"
          },
          "paper_bgcolor": "white",
          "plot_bgcolor": "#E5ECF6",
          "polar": {
           "angularaxis": {
            "gridcolor": "white",
            "linecolor": "white",
            "ticks": ""
           },
           "bgcolor": "#E5ECF6",
           "radialaxis": {
            "gridcolor": "white",
            "linecolor": "white",
            "ticks": ""
           }
          },
          "scene": {
           "xaxis": {
            "backgroundcolor": "#E5ECF6",
            "gridcolor": "white",
            "gridwidth": 2,
            "linecolor": "white",
            "showbackground": true,
            "ticks": "",
            "zerolinecolor": "white"
           },
           "yaxis": {
            "backgroundcolor": "#E5ECF6",
            "gridcolor": "white",
            "gridwidth": 2,
            "linecolor": "white",
            "showbackground": true,
            "ticks": "",
            "zerolinecolor": "white"
           },
           "zaxis": {
            "backgroundcolor": "#E5ECF6",
            "gridcolor": "white",
            "gridwidth": 2,
            "linecolor": "white",
            "showbackground": true,
            "ticks": "",
            "zerolinecolor": "white"
           }
          },
          "shapedefaults": {
           "line": {
            "color": "#2a3f5f"
           }
          },
          "ternary": {
           "aaxis": {
            "gridcolor": "white",
            "linecolor": "white",
            "ticks": ""
           },
           "baxis": {
            "gridcolor": "white",
            "linecolor": "white",
            "ticks": ""
           },
           "bgcolor": "#E5ECF6",
           "caxis": {
            "gridcolor": "white",
            "linecolor": "white",
            "ticks": ""
           }
          },
          "title": {
           "x": 0.05
          },
          "xaxis": {
           "automargin": true,
           "gridcolor": "white",
           "linecolor": "white",
           "ticks": "",
           "zerolinecolor": "white",
           "zerolinewidth": 2
          },
          "yaxis": {
           "automargin": true,
           "gridcolor": "white",
           "linecolor": "white",
           "ticks": "",
           "zerolinecolor": "white",
           "zerolinewidth": 2
          }
         }
        },
        "title": {
         "text": "Pearson Correlation for Enquiry Data"
        },
        "width": 800,
        "xaxis": {
         "nticks": 36,
         "ticks": ""
        },
        "yaxis": {
         "ticks": ""
        }
       }
      },
      "text/html": [
       "<div>\n",
       "        \n",
       "        \n",
       "            <div id=\"3089ea01-6bc2-4217-977a-a11a1c0c3c12\" class=\"plotly-graph-div\" style=\"height:700px; width:800px;\"></div>\n",
       "            <script type=\"text/javascript\">\n",
       "                require([\"plotly\"], function(Plotly) {\n",
       "                    window.PLOTLYENV=window.PLOTLYENV || {};\n",
       "                    \n",
       "                if (document.getElementById(\"3089ea01-6bc2-4217-977a-a11a1c0c3c12\")) {\n",
       "                    Plotly.newPlot(\n",
       "                        '3089ea01-6bc2-4217-977a-a11a1c0c3c12',\n",
       "                        [{\"colorscale\": [[0.0, \"#440154\"], [0.1111111111111111, \"#482878\"], [0.2222222222222222, \"#3e4989\"], [0.3333333333333333, \"#31688e\"], [0.4444444444444444, \"#26828e\"], [0.5555555555555556, \"#1f9e89\"], [0.6666666666666666, \"#35b779\"], [0.7777777777777778, \"#6ece58\"], [0.8888888888888888, \"#b5de2b\"], [1.0, \"#fde725\"]], \"reversescale\": false, \"type\": \"heatmap\", \"x\": [\"customer_no\", \"enq_amt\", \"enq_purpose\"], \"y\": [\"customer_no\", \"enq_amt\", \"enq_purpose\"], \"z\": [[1.0, -0.014068012541695854, -0.010926450290436493], [-0.014068012541695854, 1.0, 0.05062369115948172], [-0.010926450290436493, 0.05062369115948172, 1.0]]}],\n",
       "                        {\"height\": 700, \"template\": {\"data\": {\"bar\": [{\"error_x\": {\"color\": \"#2a3f5f\"}, \"error_y\": {\"color\": \"#2a3f5f\"}, \"marker\": {\"line\": {\"color\": \"#E5ECF6\", \"width\": 0.5}}, \"type\": \"bar\"}], \"barpolar\": [{\"marker\": {\"line\": {\"color\": \"#E5ECF6\", \"width\": 0.5}}, \"type\": \"barpolar\"}], \"carpet\": [{\"aaxis\": {\"endlinecolor\": \"#2a3f5f\", \"gridcolor\": \"white\", \"linecolor\": \"white\", \"minorgridcolor\": \"white\", \"startlinecolor\": \"#2a3f5f\"}, \"baxis\": {\"endlinecolor\": \"#2a3f5f\", \"gridcolor\": \"white\", \"linecolor\": \"white\", \"minorgridcolor\": \"white\", \"startlinecolor\": \"#2a3f5f\"}, \"type\": \"carpet\"}], \"choropleth\": [{\"colorbar\": {\"outlinewidth\": 0, \"ticks\": \"\"}, \"type\": \"choropleth\"}], \"contour\": [{\"colorbar\": {\"outlinewidth\": 0, \"ticks\": \"\"}, \"colorscale\": [[0.0, \"#0d0887\"], [0.1111111111111111, \"#46039f\"], [0.2222222222222222, \"#7201a8\"], [0.3333333333333333, \"#9c179e\"], [0.4444444444444444, \"#bd3786\"], [0.5555555555555556, \"#d8576b\"], [0.6666666666666666, \"#ed7953\"], [0.7777777777777778, \"#fb9f3a\"], [0.8888888888888888, \"#fdca26\"], [1.0, \"#f0f921\"]], \"type\": \"contour\"}], \"contourcarpet\": [{\"colorbar\": {\"outlinewidth\": 0, \"ticks\": \"\"}, \"type\": \"contourcarpet\"}], \"heatmap\": [{\"colorbar\": {\"outlinewidth\": 0, \"ticks\": \"\"}, \"colorscale\": [[0.0, \"#0d0887\"], [0.1111111111111111, \"#46039f\"], [0.2222222222222222, \"#7201a8\"], [0.3333333333333333, \"#9c179e\"], [0.4444444444444444, \"#bd3786\"], [0.5555555555555556, \"#d8576b\"], [0.6666666666666666, \"#ed7953\"], [0.7777777777777778, \"#fb9f3a\"], [0.8888888888888888, \"#fdca26\"], [1.0, \"#f0f921\"]], \"type\": \"heatmap\"}], \"heatmapgl\": [{\"colorbar\": {\"outlinewidth\": 0, \"ticks\": \"\"}, \"colorscale\": [[0.0, \"#0d0887\"], [0.1111111111111111, \"#46039f\"], [0.2222222222222222, \"#7201a8\"], [0.3333333333333333, \"#9c179e\"], [0.4444444444444444, \"#bd3786\"], [0.5555555555555556, \"#d8576b\"], [0.6666666666666666, \"#ed7953\"], [0.7777777777777778, \"#fb9f3a\"], [0.8888888888888888, \"#fdca26\"], [1.0, \"#f0f921\"]], \"type\": \"heatmapgl\"}], \"histogram\": [{\"marker\": {\"colorbar\": {\"outlinewidth\": 0, \"ticks\": \"\"}}, \"type\": \"histogram\"}], \"histogram2d\": [{\"colorbar\": {\"outlinewidth\": 0, \"ticks\": \"\"}, \"colorscale\": [[0.0, \"#0d0887\"], [0.1111111111111111, \"#46039f\"], [0.2222222222222222, \"#7201a8\"], [0.3333333333333333, \"#9c179e\"], [0.4444444444444444, \"#bd3786\"], [0.5555555555555556, \"#d8576b\"], [0.6666666666666666, \"#ed7953\"], [0.7777777777777778, \"#fb9f3a\"], [0.8888888888888888, \"#fdca26\"], [1.0, \"#f0f921\"]], \"type\": \"histogram2d\"}], \"histogram2dcontour\": [{\"colorbar\": {\"outlinewidth\": 0, \"ticks\": \"\"}, \"colorscale\": [[0.0, \"#0d0887\"], [0.1111111111111111, \"#46039f\"], [0.2222222222222222, \"#7201a8\"], [0.3333333333333333, \"#9c179e\"], [0.4444444444444444, \"#bd3786\"], [0.5555555555555556, \"#d8576b\"], [0.6666666666666666, \"#ed7953\"], [0.7777777777777778, \"#fb9f3a\"], [0.8888888888888888, \"#fdca26\"], [1.0, \"#f0f921\"]], \"type\": \"histogram2dcontour\"}], \"mesh3d\": [{\"colorbar\": {\"outlinewidth\": 0, \"ticks\": \"\"}, \"type\": \"mesh3d\"}], \"parcoords\": [{\"line\": {\"colorbar\": {\"outlinewidth\": 0, \"ticks\": \"\"}}, \"type\": \"parcoords\"}], \"scatter\": [{\"marker\": {\"colorbar\": {\"outlinewidth\": 0, \"ticks\": \"\"}}, \"type\": \"scatter\"}], \"scatter3d\": [{\"line\": {\"colorbar\": {\"outlinewidth\": 0, \"ticks\": \"\"}}, \"marker\": {\"colorbar\": {\"outlinewidth\": 0, \"ticks\": \"\"}}, \"type\": \"scatter3d\"}], \"scattercarpet\": [{\"marker\": {\"colorbar\": {\"outlinewidth\": 0, \"ticks\": \"\"}}, \"type\": \"scattercarpet\"}], \"scattergeo\": [{\"marker\": {\"colorbar\": {\"outlinewidth\": 0, \"ticks\": \"\"}}, \"type\": \"scattergeo\"}], \"scattergl\": [{\"marker\": {\"colorbar\": {\"outlinewidth\": 0, \"ticks\": \"\"}}, \"type\": \"scattergl\"}], \"scattermapbox\": [{\"marker\": {\"colorbar\": {\"outlinewidth\": 0, \"ticks\": \"\"}}, \"type\": \"scattermapbox\"}], \"scatterpolar\": [{\"marker\": {\"colorbar\": {\"outlinewidth\": 0, \"ticks\": \"\"}}, \"type\": \"scatterpolar\"}], \"scatterpolargl\": [{\"marker\": {\"colorbar\": {\"outlinewidth\": 0, \"ticks\": \"\"}}, \"type\": \"scatterpolargl\"}], \"scatterternary\": [{\"marker\": {\"colorbar\": {\"outlinewidth\": 0, \"ticks\": \"\"}}, \"type\": \"scatterternary\"}], \"surface\": [{\"colorbar\": {\"outlinewidth\": 0, \"ticks\": \"\"}, \"colorscale\": [[0.0, \"#0d0887\"], [0.1111111111111111, \"#46039f\"], [0.2222222222222222, \"#7201a8\"], [0.3333333333333333, \"#9c179e\"], [0.4444444444444444, \"#bd3786\"], [0.5555555555555556, \"#d8576b\"], [0.6666666666666666, \"#ed7953\"], [0.7777777777777778, \"#fb9f3a\"], [0.8888888888888888, \"#fdca26\"], [1.0, \"#f0f921\"]], \"type\": \"surface\"}], \"table\": [{\"cells\": {\"fill\": {\"color\": \"#EBF0F8\"}, \"line\": {\"color\": \"white\"}}, \"header\": {\"fill\": {\"color\": \"#C8D4E3\"}, \"line\": {\"color\": \"white\"}}, \"type\": \"table\"}]}, \"layout\": {\"annotationdefaults\": {\"arrowcolor\": \"#2a3f5f\", \"arrowhead\": 0, \"arrowwidth\": 1}, \"colorscale\": {\"diverging\": [[0, \"#8e0152\"], [0.1, \"#c51b7d\"], [0.2, \"#de77ae\"], [0.3, \"#f1b6da\"], [0.4, \"#fde0ef\"], [0.5, \"#f7f7f7\"], [0.6, \"#e6f5d0\"], [0.7, \"#b8e186\"], [0.8, \"#7fbc41\"], [0.9, \"#4d9221\"], [1, \"#276419\"]], \"sequential\": [[0.0, \"#0d0887\"], [0.1111111111111111, \"#46039f\"], [0.2222222222222222, \"#7201a8\"], [0.3333333333333333, \"#9c179e\"], [0.4444444444444444, \"#bd3786\"], [0.5555555555555556, \"#d8576b\"], [0.6666666666666666, \"#ed7953\"], [0.7777777777777778, \"#fb9f3a\"], [0.8888888888888888, \"#fdca26\"], [1.0, \"#f0f921\"]], \"sequentialminus\": [[0.0, \"#0d0887\"], [0.1111111111111111, \"#46039f\"], [0.2222222222222222, \"#7201a8\"], [0.3333333333333333, \"#9c179e\"], [0.4444444444444444, \"#bd3786\"], [0.5555555555555556, \"#d8576b\"], [0.6666666666666666, \"#ed7953\"], [0.7777777777777778, \"#fb9f3a\"], [0.8888888888888888, \"#fdca26\"], [1.0, \"#f0f921\"]]}, \"colorway\": [\"#636efa\", \"#EF553B\", \"#00cc96\", \"#ab63fa\", \"#FFA15A\", \"#19d3f3\", \"#FF6692\", \"#B6E880\", \"#FF97FF\", \"#FECB52\"], \"font\": {\"color\": \"#2a3f5f\"}, \"geo\": {\"bgcolor\": \"white\", \"lakecolor\": \"white\", \"landcolor\": \"#E5ECF6\", \"showlakes\": true, \"showland\": true, \"subunitcolor\": \"white\"}, \"hoverlabel\": {\"align\": \"left\"}, \"hovermode\": \"closest\", \"mapbox\": {\"style\": \"light\"}, \"paper_bgcolor\": \"white\", \"plot_bgcolor\": \"#E5ECF6\", \"polar\": {\"angularaxis\": {\"gridcolor\": \"white\", \"linecolor\": \"white\", \"ticks\": \"\"}, \"bgcolor\": \"#E5ECF6\", \"radialaxis\": {\"gridcolor\": \"white\", \"linecolor\": \"white\", \"ticks\": \"\"}}, \"scene\": {\"xaxis\": {\"backgroundcolor\": \"#E5ECF6\", \"gridcolor\": \"white\", \"gridwidth\": 2, \"linecolor\": \"white\", \"showbackground\": true, \"ticks\": \"\", \"zerolinecolor\": \"white\"}, \"yaxis\": {\"backgroundcolor\": \"#E5ECF6\", \"gridcolor\": \"white\", \"gridwidth\": 2, \"linecolor\": \"white\", \"showbackground\": true, \"ticks\": \"\", \"zerolinecolor\": \"white\"}, \"zaxis\": {\"backgroundcolor\": \"#E5ECF6\", \"gridcolor\": \"white\", \"gridwidth\": 2, \"linecolor\": \"white\", \"showbackground\": true, \"ticks\": \"\", \"zerolinecolor\": \"white\"}}, \"shapedefaults\": {\"line\": {\"color\": \"#2a3f5f\"}}, \"ternary\": {\"aaxis\": {\"gridcolor\": \"white\", \"linecolor\": \"white\", \"ticks\": \"\"}, \"baxis\": {\"gridcolor\": \"white\", \"linecolor\": \"white\", \"ticks\": \"\"}, \"bgcolor\": \"#E5ECF6\", \"caxis\": {\"gridcolor\": \"white\", \"linecolor\": \"white\", \"ticks\": \"\"}}, \"title\": {\"x\": 0.05}, \"xaxis\": {\"automargin\": true, \"gridcolor\": \"white\", \"linecolor\": \"white\", \"ticks\": \"\", \"zerolinecolor\": \"white\", \"zerolinewidth\": 2}, \"yaxis\": {\"automargin\": true, \"gridcolor\": \"white\", \"linecolor\": \"white\", \"ticks\": \"\", \"zerolinecolor\": \"white\", \"zerolinewidth\": 2}}}, \"title\": {\"text\": \"Pearson Correlation for Enquiry Data\"}, \"width\": 800, \"xaxis\": {\"nticks\": 36, \"ticks\": \"\"}, \"yaxis\": {\"ticks\": \"\"}},\n",
       "                        {\"responsive\": true}\n",
       "                    ).then(function(){\n",
       "                            \n",
       "var gd = document.getElementById('3089ea01-6bc2-4217-977a-a11a1c0c3c12');\n",
       "var x = new MutationObserver(function (mutations, observer) {{\n",
       "        var display = window.getComputedStyle(gd).display;\n",
       "        if (!display || display === 'none') {{\n",
       "            console.log([gd, 'removed!']);\n",
       "            Plotly.purge(gd);\n",
       "            observer.disconnect();\n",
       "        }}\n",
       "}});\n",
       "\n",
       "// Listen for the removal of the full notebook cells\n",
       "var notebookContainer = gd.closest('#notebook-container');\n",
       "if (notebookContainer) {{\n",
       "    x.observe(notebookContainer, {childList: true});\n",
       "}}\n",
       "\n",
       "// Listen for the clearing of the current output cell\n",
       "var outputEl = gd.closest('.output');\n",
       "if (outputEl) {{\n",
       "    x.observe(outputEl, {childList: true});\n",
       "}}\n",
       "\n",
       "                        })\n",
       "                };\n",
       "                });\n",
       "            </script>\n",
       "        </div>"
      ]
     },
     "metadata": {},
     "output_type": "display_data"
    }
   ],
   "source": [
    "# Ploting the Correlation,the customer no. is not needed but I have not removed it as of now\n",
    "data1 = [go.Heatmap(\n",
    "        z=enquiry[numerical_enquiry].astype(float).corr().values, # Generating the Pearson correlation\n",
    "        x=enquiry[numerical_enquiry].columns.values,\n",
    "        y=enquiry[numerical_enquiry].columns.values,\n",
    "        colorscale='Viridis',\n",
    "        reversescale = False,\n",
    "        \n",
    "    )\n",
    "]\n",
    "layout = go.Layout(\n",
    "    title='Pearson Correlation for Enquiry Data',\n",
    "    xaxis = dict(ticks='', nticks=36),\n",
    "    yaxis = dict(ticks='' ),\n",
    "    width = 800, height = 700,\n",
    "    \n",
    ")\n",
    "\n",
    "fig = go.Figure(data=data1, layout=layout)\n",
    "py.iplot(fig, filename='labelled-heatmap')\n"
   ]
  },
  {
   "cell_type": "markdown",
   "metadata": {},
   "source": [
    "### Understanding the account data"
   ]
  },
  {
   "cell_type": "code",
   "execution_count": 8,
   "metadata": {
    "scrolled": false
   },
   "outputs": [
    {
     "data": {
      "text/html": [
       "<div>\n",
       "<style scoped>\n",
       "    .dataframe tbody tr th:only-of-type {\n",
       "        vertical-align: middle;\n",
       "    }\n",
       "\n",
       "    .dataframe tbody tr th {\n",
       "        vertical-align: top;\n",
       "    }\n",
       "\n",
       "    .dataframe thead th {\n",
       "        text-align: right;\n",
       "    }\n",
       "</style>\n",
       "<table border=\"1\" class=\"dataframe\">\n",
       "  <thead>\n",
       "    <tr style=\"text-align: right;\">\n",
       "      <th></th>\n",
       "      <th>dt_opened</th>\n",
       "      <th>customer_no</th>\n",
       "      <th>upload_dt</th>\n",
       "      <th>acct_type</th>\n",
       "      <th>owner_indic</th>\n",
       "      <th>opened_dt</th>\n",
       "      <th>last_paymt_dt</th>\n",
       "      <th>closed_dt</th>\n",
       "      <th>reporting_dt</th>\n",
       "      <th>high_credit_amt</th>\n",
       "      <th>...</th>\n",
       "      <th>amt_past_due</th>\n",
       "      <th>paymenthistory1</th>\n",
       "      <th>paymenthistory2</th>\n",
       "      <th>paymt_str_dt</th>\n",
       "      <th>paymt_end_dt</th>\n",
       "      <th>creditlimit</th>\n",
       "      <th>cashlimit</th>\n",
       "      <th>rateofinterest</th>\n",
       "      <th>paymentfrequency</th>\n",
       "      <th>actualpaymentamount</th>\n",
       "    </tr>\n",
       "  </thead>\n",
       "  <tbody>\n",
       "    <tr>\n",
       "      <th>0</th>\n",
       "      <td>10-Nov-15</td>\n",
       "      <td>12265</td>\n",
       "      <td>20-Oct-15</td>\n",
       "      <td>6</td>\n",
       "      <td>1</td>\n",
       "      <td>09-Jun-13</td>\n",
       "      <td>30-Jun-14</td>\n",
       "      <td>05-Jul-14</td>\n",
       "      <td>30-Sep-15</td>\n",
       "      <td>20900.0</td>\n",
       "      <td>...</td>\n",
       "      <td>NaN</td>\n",
       "      <td>\"\"\"STDSTDSTDXXXXXXXXXXXXXXXSTDXXXXXXXXXXXXXXXS...</td>\n",
       "      <td>NaN</td>\n",
       "      <td>01-Sep-15</td>\n",
       "      <td>01-Jul-14</td>\n",
       "      <td>NaN</td>\n",
       "      <td>NaN</td>\n",
       "      <td>NaN</td>\n",
       "      <td>NaN</td>\n",
       "      <td>NaN</td>\n",
       "    </tr>\n",
       "    <tr>\n",
       "      <th>1</th>\n",
       "      <td>10-Nov-15</td>\n",
       "      <td>12265</td>\n",
       "      <td>20-Oct-15</td>\n",
       "      <td>10</td>\n",
       "      <td>1</td>\n",
       "      <td>25-May-12</td>\n",
       "      <td>06-Sep-15</td>\n",
       "      <td>NaN</td>\n",
       "      <td>03-Oct-15</td>\n",
       "      <td>16201.0</td>\n",
       "      <td>...</td>\n",
       "      <td>NaN</td>\n",
       "      <td>\"\"\"0000000000000000000000000000000000000000000...</td>\n",
       "      <td>\"\"\"000000000000000000000000000XXX0000000000000...</td>\n",
       "      <td>01-Oct-15</td>\n",
       "      <td>01-Nov-12</td>\n",
       "      <td>14000.0</td>\n",
       "      <td>1400.0</td>\n",
       "      <td>NaN</td>\n",
       "      <td>3.0</td>\n",
       "      <td>5603.0</td>\n",
       "    </tr>\n",
       "    <tr>\n",
       "      <th>2</th>\n",
       "      <td>10-Nov-15</td>\n",
       "      <td>12265</td>\n",
       "      <td>20-Oct-15</td>\n",
       "      <td>10</td>\n",
       "      <td>1</td>\n",
       "      <td>22-Mar-12</td>\n",
       "      <td>31-Aug-15</td>\n",
       "      <td>NaN</td>\n",
       "      <td>30-Sep-15</td>\n",
       "      <td>41028.0</td>\n",
       "      <td>...</td>\n",
       "      <td>NaN</td>\n",
       "      <td>\"\"\"0000000000000000000000000000000000000000000...</td>\n",
       "      <td>\"\"\"0000000000000000000000000000000000000000000...</td>\n",
       "      <td>01-Sep-15</td>\n",
       "      <td>01-Oct-12</td>\n",
       "      <td>NaN</td>\n",
       "      <td>NaN</td>\n",
       "      <td>NaN</td>\n",
       "      <td>NaN</td>\n",
       "      <td>NaN</td>\n",
       "    </tr>\n",
       "    <tr>\n",
       "      <th>3</th>\n",
       "      <td>20-Jul-15</td>\n",
       "      <td>15606</td>\n",
       "      <td>09-Jul-15</td>\n",
       "      <td>10</td>\n",
       "      <td>1</td>\n",
       "      <td>13-Jan-06</td>\n",
       "      <td>NaN</td>\n",
       "      <td>26-Jul-07</td>\n",
       "      <td>31-Jan-09</td>\n",
       "      <td>93473.0</td>\n",
       "      <td>...</td>\n",
       "      <td>NaN</td>\n",
       "      <td>\"\"\"1200900600600600300000000000000000000000000...</td>\n",
       "      <td>NaN</td>\n",
       "      <td>01-Jul-07</td>\n",
       "      <td>01-Feb-06</td>\n",
       "      <td>NaN</td>\n",
       "      <td>NaN</td>\n",
       "      <td>NaN</td>\n",
       "      <td>NaN</td>\n",
       "      <td>NaN</td>\n",
       "    </tr>\n",
       "    <tr>\n",
       "      <th>4</th>\n",
       "      <td>20-Jul-15</td>\n",
       "      <td>15606</td>\n",
       "      <td>09-Jul-15</td>\n",
       "      <td>6</td>\n",
       "      <td>1</td>\n",
       "      <td>18-Jan-15</td>\n",
       "      <td>05-May-15</td>\n",
       "      <td>NaN</td>\n",
       "      <td>31-May-15</td>\n",
       "      <td>20250.0</td>\n",
       "      <td>...</td>\n",
       "      <td>NaN</td>\n",
       "      <td>\"\"\"000000000000000\"\"\"</td>\n",
       "      <td>NaN</td>\n",
       "      <td>01-May-15</td>\n",
       "      <td>01-Jan-15</td>\n",
       "      <td>NaN</td>\n",
       "      <td>NaN</td>\n",
       "      <td>NaN</td>\n",
       "      <td>NaN</td>\n",
       "      <td>NaN</td>\n",
       "    </tr>\n",
       "  </tbody>\n",
       "</table>\n",
       "<p>5 rows × 21 columns</p>\n",
       "</div>"
      ],
      "text/plain": [
       "   dt_opened  customer_no  upload_dt  acct_type  owner_indic  opened_dt  \\\n",
       "0  10-Nov-15        12265  20-Oct-15          6            1  09-Jun-13   \n",
       "1  10-Nov-15        12265  20-Oct-15         10            1  25-May-12   \n",
       "2  10-Nov-15        12265  20-Oct-15         10            1  22-Mar-12   \n",
       "3  20-Jul-15        15606  09-Jul-15         10            1  13-Jan-06   \n",
       "4  20-Jul-15        15606  09-Jul-15          6            1  18-Jan-15   \n",
       "\n",
       "  last_paymt_dt  closed_dt reporting_dt  high_credit_amt  ...  amt_past_due  \\\n",
       "0     30-Jun-14  05-Jul-14    30-Sep-15          20900.0  ...           NaN   \n",
       "1     06-Sep-15        NaN    03-Oct-15          16201.0  ...           NaN   \n",
       "2     31-Aug-15        NaN    30-Sep-15          41028.0  ...           NaN   \n",
       "3           NaN  26-Jul-07    31-Jan-09          93473.0  ...           NaN   \n",
       "4     05-May-15        NaN    31-May-15          20250.0  ...           NaN   \n",
       "\n",
       "                                     paymenthistory1  \\\n",
       "0  \"\"\"STDSTDSTDXXXXXXXXXXXXXXXSTDXXXXXXXXXXXXXXXS...   \n",
       "1  \"\"\"0000000000000000000000000000000000000000000...   \n",
       "2  \"\"\"0000000000000000000000000000000000000000000...   \n",
       "3  \"\"\"1200900600600600300000000000000000000000000...   \n",
       "4                              \"\"\"000000000000000\"\"\"   \n",
       "\n",
       "                                     paymenthistory2 paymt_str_dt  \\\n",
       "0                                                NaN    01-Sep-15   \n",
       "1  \"\"\"000000000000000000000000000XXX0000000000000...    01-Oct-15   \n",
       "2  \"\"\"0000000000000000000000000000000000000000000...    01-Sep-15   \n",
       "3                                                NaN    01-Jul-07   \n",
       "4                                                NaN    01-May-15   \n",
       "\n",
       "  paymt_end_dt creditlimit  cashlimit  rateofinterest paymentfrequency  \\\n",
       "0    01-Jul-14         NaN        NaN             NaN              NaN   \n",
       "1    01-Nov-12     14000.0     1400.0             NaN              3.0   \n",
       "2    01-Oct-12         NaN        NaN             NaN              NaN   \n",
       "3    01-Feb-06         NaN        NaN             NaN              NaN   \n",
       "4    01-Jan-15         NaN        NaN             NaN              NaN   \n",
       "\n",
       "   actualpaymentamount  \n",
       "0                  NaN  \n",
       "1               5603.0  \n",
       "2                  NaN  \n",
       "3                  NaN  \n",
       "4                  NaN  \n",
       "\n",
       "[5 rows x 21 columns]"
      ]
     },
     "execution_count": 8,
     "metadata": {},
     "output_type": "execute_result"
    }
   ],
   "source": [
    "# Look at top 6 rows of data\n",
    "account.head()"
   ]
  },
  {
   "cell_type": "code",
   "execution_count": 9,
   "metadata": {
    "scrolled": true
   },
   "outputs": [
    {
     "name": "stdout",
     "output_type": "stream",
     "text": [
      "<class 'pandas.core.frame.DataFrame'>\n",
      "RangeIndex: 186329 entries, 0 to 186328\n",
      "Data columns (total 21 columns):\n",
      "dt_opened              186329 non-null object\n",
      "customer_no            186329 non-null int64\n",
      "upload_dt              186329 non-null object\n",
      "acct_type              186329 non-null int64\n",
      "owner_indic            186329 non-null int64\n",
      "opened_dt              185874 non-null object\n",
      "last_paymt_dt          160842 non-null object\n",
      "closed_dt              77254 non-null object\n",
      "reporting_dt           186329 non-null object\n",
      "high_credit_amt        177454 non-null float64\n",
      "cur_balance_amt        186329 non-null int64\n",
      "amt_past_due           876 non-null float64\n",
      "paymenthistory1        186329 non-null object\n",
      "paymenthistory2        78505 non-null object\n",
      "paymt_str_dt           186328 non-null object\n",
      "paymt_end_dt           186328 non-null object\n",
      "creditlimit            48852 non-null float64\n",
      "cashlimit              35282 non-null float64\n",
      "rateofinterest         24833 non-null object\n",
      "paymentfrequency       63893 non-null float64\n",
      "actualpaymentamount    41053 non-null float64\n",
      "dtypes: float64(6), int64(4), object(11)\n",
      "memory usage: 29.9+ MB\n"
     ]
    }
   ],
   "source": [
    "# Which column has what kind of data\n",
    "account.info()"
   ]
  },
  {
   "cell_type": "code",
   "execution_count": 10,
   "metadata": {},
   "outputs": [
    {
     "data": {
      "text/plain": [
       "<matplotlib.axes._subplots.AxesSubplot at 0x17ea86da908>"
      ]
     },
     "execution_count": 10,
     "metadata": {},
     "output_type": "execute_result"
    },
    {
     "data": {
      "image/png": "[encoded data removed]",
      "text/plain": [
       "<Figure size 432x288 with 1 Axes>"
      ]
     },
     "metadata": {
      "needs_background": "light"
     },
     "output_type": "display_data"
    }
   ],
   "source": [
    "# Let us try to understand few of the categorical columns\n",
    "# understand Spread of acct_type\n",
    "pd.DataFrame(account.acct_type.value_counts()).plot.bar()"
   ]
  },
  {
   "cell_type": "code",
   "execution_count": 11,
   "metadata": {
    "scrolled": false
   },
   "outputs": [
    {
     "data": {
      "text/plain": [
       "<matplotlib.axes._subplots.AxesSubplot at 0x17ea87d8eb8>"
      ]
     },
     "execution_count": 11,
     "metadata": {},
     "output_type": "execute_result"
    },
    {
     "data": {
      "image/png": "[encoded data removed]",
      "text/plain": [
       "<Figure size 432x288 with 1 Axes>"
      ]
     },
     "metadata": {
      "needs_background": "light"
     },
     "output_type": "display_data"
    }
   ],
   "source": [
    "# understand Spread of owner_indic\n",
    "pd.DataFrame(account.owner_indic.value_counts()).plot.bar()"
   ]
  },
  {
   "cell_type": "code",
   "execution_count": 12,
   "metadata": {},
   "outputs": [],
   "source": [
    "# We can do a lot of EDA than this but skipping it as of now"
   ]
  },
  {
   "cell_type": "markdown",
   "metadata": {},
   "source": [
    "### Creating Correlation Plots for Account Data"
   ]
  },
  {
   "cell_type": "code",
   "execution_count": 13,
   "metadata": {},
   "outputs": [
    {
     "data": {
      "application/vnd.plotly.v1+json": {
       "config": {
        "linkText": "Export to plot.ly",
        "plotlyServerURL": "https://plot.ly",
        "showLink": false
       },
       "data": [
        {
         "colorscale": [
          [
           0,
           "#440154"
          ],
          [
           0.1111111111111111,
           "#482878"
          ],
          [
           0.2222222222222222,
           "#3e4989"
          ],
          [
           0.3333333333333333,
           "#31688e"
          ],
          [
           0.4444444444444444,
           "#26828e"
          ],
          [
           0.5555555555555556,
           "#1f9e89"
          ],
          [
           0.6666666666666666,
           "#35b779"
          ],
          [
           0.7777777777777778,
           "#6ece58"
          ],
          [
           0.8888888888888888,
           "#b5de2b"
          ],
          [
           1,
           "#fde725"
          ]
         ],
         "opacity": 1,
         "reversescale": false,
         "type": "heatmap",
         "x": [
          "acct_type",
          "actualpaymentamount",
          "amt_past_due",
          "cashlimit",
          "creditlimit",
          "cur_balance_amt",
          "customer_no",
          "high_credit_amt",
          "owner_indic",
          "paymentfrequency"
         ],
         "y": [
          "acct_type",
          "actualpaymentamount",
          "amt_past_due",
          "cashlimit",
          "creditlimit",
          "cur_balance_amt",
          "customer_no",
          "high_credit_amt",
          "owner_indic",
          "paymentfrequency"
         ],
         "z": [
          [
           1,
           -0.03999697513416996,
           0.06627829177238122,
           0.0198797310450524,
           0.06022509827023938,
           -0.084300434681626,
           0.002400908691810833,
           -0.07163597953511941,
           -0.08503243302120457,
           0.06724902985896457
          ],
          [
           -0.03999697513416996,
           1,
           0.06955192761014461,
           0.18427567017664087,
           0.261117765657252,
           0.7215053780952349,
           -0.006028742548505917,
           0.7699836947995526,
           0.07315229059416867,
           -0.008815904967140192
          ],
          [
           0.06627829177238122,
           0.06955192761014461,
           1,
           0.07030431672933074,
           0.018536955003769985,
           0.27997960541211836,
           -0.033692304709961665,
           0.2573516748904071,
           0.026139299526642925,
           -0.13848010340890352
          ],
          [
           0.0198797310450524,
           0.18427567017664087,
           0.07030431672933074,
           1,
           0.7584585419461441,
           0.18913984951393384,
           -0.011161459639089388,
           0.35947736872027286,
           0.07587522820610212,
           null
          ],
          [
           0.06022509827023938,
           0.261117765657252,
           0.018536955003769985,
           0.7584585419461441,
           1,
           0.3126366394963564,
           -0.013975424853384374,
           0.5026031390693267,
           0.05008045103383629,
           null
          ],
          [
           -0.084300434681626,
           0.7215053780952349,
           0.27997960541211836,
           0.18913984951393384,
           0.3126366394963564,
           1,
           -0.005074271474433306,
           0.7555998600604154,
           0.2279362456472686,
           -0.07542708289611146
          ],
          [
           0.002400908691810833,
           -0.006028742548505917,
           -0.033692304709961665,
           -0.011161459639089388,
           -0.013975424853384374,
           -0.005074271474433306,
           1,
           -0.012919170735093858,
           -0.009511131262321466,
           0.02600897934666123
          ],
          [
           -0.07163597953511941,
           0.7699836947995526,
           0.2573516748904071,
           0.35947736872027286,
           0.5026031390693267,
           0.7555998600604154,
           -0.012919170735093858,
           1,
           0.2668231123885837,
           -0.08420613309292004
          ],
          [
           -0.08503243302120457,
           0.07315229059416867,
           0.026139299526642925,
           0.07587522820610212,
           0.05008045103383629,
           0.2279362456472686,
           -0.009511131262321466,
           0.2668231123885837,
           1,
           -0.2246505396300233
          ],
          [
           0.06724902985896457,
           -0.008815904967140192,
           -0.13848010340890352,
           null,
           null,
           -0.07542708289611146,
           0.02600897934666123,
           -0.08420613309292004,
           -0.2246505396300233,
           1
          ]
         ]
        }
       ],
       "layout": {
        "height": 700,
        "template": {
         "data": {
          "bar": [
           {
            "error_x": {
             "color": "#2a3f5f"
            },
            "error_y": {
             "color": "#2a3f5f"
            },
            "marker": {
             "line": {
              "color": "#E5ECF6",
              "width": 0.5
             }
            },
            "type": "bar"
           }
          ],
          "barpolar": [
           {
            "marker": {
             "line": {
              "color": "#E5ECF6",
              "width": 0.5
             }
            },
            "type": "barpolar"
           }
          ],
          "carpet": [
           {
            "aaxis": {
             "endlinecolor": "#2a3f5f",
             "gridcolor": "white",
             "linecolor": "white",
             "minorgridcolor": "white",
             "startlinecolor": "#2a3f5f"
            },
            "baxis": {
             "endlinecolor": "#2a3f5f",
             "gridcolor": "white",
             "linecolor": "white",
             "minorgridcolor": "white",
             "startlinecolor": "#2a3f5f"
            },
            "type": "carpet"
           }
          ],
          "choropleth": [
           {
            "colorbar": {
             "outlinewidth": 0,
             "ticks": ""
            },
            "type": "choropleth"
           }
          ],
          "contour": [
           {
            "colorbar": {
             "outlinewidth": 0,
             "ticks": ""
            },
            "colorscale": [
             [
              0,
              "#0d0887"
             ],
             [
              0.1111111111111111,
              "#46039f"
             ],
             [
              0.2222222222222222,
              "#7201a8"
             ],
             [
              0.3333333333333333,
              "#9c179e"
             ],
             [
              0.4444444444444444,
              "#bd3786"
             ],
             [
              0.5555555555555556,
              "#d8576b"
             ],
             [
              0.6666666666666666,
              "#ed7953"
             ],
             [
              0.7777777777777778,
              "#fb9f3a"
             ],
             [
              0.8888888888888888,
              "#fdca26"
             ],
             [
              1,
              "#f0f921"
             ]
            ],
            "type": "contour"
           }
          ],
          "contourcarpet": [
           {
            "colorbar": {
             "outlinewidth": 0,
             "ticks": ""
            },
            "type": "contourcarpet"
           }
          ],
          "heatmap": [
           {
            "colorbar": {
             "outlinewidth": 0,
             "ticks": ""
            },
            "colorscale": [
             [
              0,
              "#0d0887"
             ],
             [
              0.1111111111111111,
              "#46039f"
             ],
             [
              0.2222222222222222,
              "#7201a8"
             ],
             [
              0.3333333333333333,
              "#9c179e"
             ],
             [
              0.4444444444444444,
              "#bd3786"
             ],
             [
              0.5555555555555556,
              "#d8576b"
             ],
             [
              0.6666666666666666,
              "#ed7953"
             ],
             [
              0.7777777777777778,
              "#fb9f3a"
             ],
             [
              0.8888888888888888,
              "#fdca26"
             ],
             [
              1,
              "#f0f921"
             ]
            ],
            "type": "heatmap"
           }
          ],
          "heatmapgl": [
           {
            "colorbar": {
             "outlinewidth": 0,
             "ticks": ""
            },
            "colorscale": [
             [
              0,
              "#0d0887"
             ],
             [
              0.1111111111111111,
              "#46039f"
             ],
             [
              0.2222222222222222,
              "#7201a8"
             ],
             [
              0.3333333333333333,
              "#9c179e"
             ],
             [
              0.4444444444444444,
              "#bd3786"
             ],
             [
              0.5555555555555556,
              "#d8576b"
             ],
             [
              0.6666666666666666,
              "#ed7953"
             ],
             [
              0.7777777777777778,
              "#fb9f3a"
             ],
             [
              0.8888888888888888,
              "#fdca26"
             ],
             [
              1,
              "#f0f921"
             ]
            ],
            "type": "heatmapgl"
           }
          ],
          "histogram": [
           {
            "marker": {
             "colorbar": {
              "outlinewidth": 0,
              "ticks": ""
             }
            },
            "type": "histogram"
           }
          ],
          "histogram2d": [
           {
            "colorbar": {
             "outlinewidth": 0,
             "ticks": ""
            },
            "colorscale": [
             [
              0,
              "#0d0887"
             ],
             [
              0.1111111111111111,
              "#46039f"
             ],
             [
              0.2222222222222222,
              "#7201a8"
             ],
             [
              0.3333333333333333,
              "#9c179e"
             ],
             [
              0.4444444444444444,
              "#bd3786"
             ],
             [
              0.5555555555555556,
              "#d8576b"
             ],
             [
              0.6666666666666666,
              "#ed7953"
             ],
             [
              0.7777777777777778,
              "#fb9f3a"
             ],
             [
              0.8888888888888888,
              "#fdca26"
             ],
             [
              1,
              "#f0f921"
             ]
            ],
            "type": "histogram2d"
           }
          ],
          "histogram2dcontour": [
           {
            "colorbar": {
             "outlinewidth": 0,
             "ticks": ""
            },
            "colorscale": [
             [
              0,
              "#0d0887"
             ],
             [
              0.1111111111111111,
              "#46039f"
             ],
             [
              0.2222222222222222,
              "#7201a8"
             ],
             [
              0.3333333333333333,
              "#9c179e"
             ],
             [
              0.4444444444444444,
              "#bd3786"
             ],
             [
              0.5555555555555556,
              "#d8576b"
             ],
             [
              0.6666666666666666,
              "#ed7953"
             ],
             [
              0.7777777777777778,
              "#fb9f3a"
             ],
             [
              0.8888888888888888,
              "#fdca26"
             ],
             [
              1,
              "#f0f921"
             ]
            ],
            "type": "histogram2dcontour"
           }
          ],
          "mesh3d": [
           {
            "colorbar": {
             "outlinewidth": 0,
             "ticks": ""
            },
            "type": "mesh3d"
           }
          ],
          "parcoords": [
           {
            "line": {
             "colorbar": {
              "outlinewidth": 0,
              "ticks": ""
             }
            },
            "type": "parcoords"
           }
          ],
          "scatter": [
           {
            "marker": {
             "colorbar": {
              "outlinewidth": 0,
              "ticks": ""
             }
            },
            "type": "scatter"
           }
          ],
          "scatter3d": [
           {
            "line": {
             "colorbar": {
              "outlinewidth": 0,
              "ticks": ""
             }
            },
            "marker": {
             "colorbar": {
              "outlinewidth": 0,
              "ticks": ""
             }
            },
            "type": "scatter3d"
           }
          ],
          "scattercarpet": [
           {
            "marker": {
             "colorbar": {
              "outlinewidth": 0,
              "ticks": ""
             }
            },
            "type": "scattercarpet"
           }
          ],
          "scattergeo": [
           {
            "marker": {
             "colorbar": {
              "outlinewidth": 0,
              "ticks": ""
             }
            },
            "type": "scattergeo"
           }
          ],
          "scattergl": [
           {
            "marker": {
             "colorbar": {
              "outlinewidth": 0,
              "ticks": ""
             }
            },
            "type": "scattergl"
           }
          ],
          "scattermapbox": [
           {
            "marker": {
             "colorbar": {
              "outlinewidth": 0,
              "ticks": ""
             }
            },
            "type": "scattermapbox"
           }
          ],
          "scatterpolar": [
           {
            "marker": {
             "colorbar": {
              "outlinewidth": 0,
              "ticks": ""
             }
            },
            "type": "scatterpolar"
           }
          ],
          "scatterpolargl": [
           {
            "marker": {
             "colorbar": {
              "outlinewidth": 0,
              "ticks": ""
             }
            },
            "type": "scatterpolargl"
           }
          ],
          "scatterternary": [
           {
            "marker": {
             "colorbar": {
              "outlinewidth": 0,
              "ticks": ""
             }
            },
            "type": "scatterternary"
           }
          ],
          "surface": [
           {
            "colorbar": {
             "outlinewidth": 0,
             "ticks": ""
            },
            "colorscale": [
             [
              0,
              "#0d0887"
             ],
             [
              0.1111111111111111,
              "#46039f"
             ],
             [
              0.2222222222222222,
              "#7201a8"
             ],
             [
              0.3333333333333333,
              "#9c179e"
             ],
             [
              0.4444444444444444,
              "#bd3786"
             ],
             [
              0.5555555555555556,
              "#d8576b"
             ],
             [
              0.6666666666666666,
              "#ed7953"
             ],
             [
              0.7777777777777778,
              "#fb9f3a"
             ],
             [
              0.8888888888888888,
              "#fdca26"
             ],
             [
              1,
              "#f0f921"
             ]
            ],
            "type": "surface"
           }
          ],
          "table": [
           {
            "cells": {
             "fill": {
              "color": "#EBF0F8"
             },
             "line": {
              "color": "white"
             }
            },
            "header": {
             "fill": {
              "color": "#C8D4E3"
             },
             "line": {
              "color": "white"
             }
            },
            "type": "table"
           }
          ]
         },
         "layout": {
          "annotationdefaults": {
           "arrowcolor": "#2a3f5f",
           "arrowhead": 0,
           "arrowwidth": 1
          },
          "colorscale": {
           "diverging": [
            [
             0,
             "#8e0152"
            ],
            [
             0.1,
             "#c51b7d"
            ],
            [
             0.2,
             "#de77ae"
            ],
            [
             0.3,
             "#f1b6da"
            ],
            [
             0.4,
             "#fde0ef"
            ],
            [
             0.5,
             "#f7f7f7"
            ],
            [
             0.6,
             "#e6f5d0"
            ],
            [
             0.7,
             "#b8e186"
            ],
            [
             0.8,
             "#7fbc41"
            ],
            [
             0.9,
             "#4d9221"
            ],
            [
             1,
             "#276419"
            ]
           ],
           "sequential": [
            [
             0,
             "#0d0887"
            ],
            [
             0.1111111111111111,
             "#46039f"
            ],
            [
             0.2222222222222222,
             "#7201a8"
            ],
            [
             0.3333333333333333,
             "#9c179e"
            ],
            [
             0.4444444444444444,
             "#bd3786"
            ],
            [
             0.5555555555555556,
             "#d8576b"
            ],
            [
             0.6666666666666666,
             "#ed7953"
            ],
            [
             0.7777777777777778,
             "#fb9f3a"
            ],
            [
             0.8888888888888888,
             "#fdca26"
            ],
            [
             1,
             "#f0f921"
            ]
           ],
           "sequentialminus": [
            [
             0,
             "#0d0887"
            ],
            [
             0.1111111111111111,
             "#46039f"
            ],
            [
             0.2222222222222222,
             "#7201a8"
            ],
            [
             0.3333333333333333,
             "#9c179e"
            ],
            [
             0.4444444444444444,
             "#bd3786"
            ],
            [
             0.5555555555555556,
             "#d8576b"
            ],
            [
             0.6666666666666666,
             "#ed7953"
            ],
            [
             0.7777777777777778,
             "#fb9f3a"
            ],
            [
             0.8888888888888888,
             "#fdca26"
            ],
            [
             1,
             "#f0f921"
            ]
           ]
          },
          "colorway": [
           "#636efa",
           "#EF553B",
           "#00cc96",
           "#ab63fa",
           "#FFA15A",
           "#19d3f3",
           "#FF6692",
           "#B6E880",
           "#FF97FF",
           "#FECB52"
          ],
          "font": {
           "color": "#2a3f5f"
          },
          "geo": {
           "bgcolor": "white",
           "lakecolor": "white",
           "landcolor": "#E5ECF6",
           "showlakes": true,
           "showland": true,
           "subunitcolor": "white"
          },
          "hoverlabel": {
           "align": "left"
          },
          "hovermode": "closest",
          "mapbox": {
           "style": "light"
          },
          "paper_bgcolor": "white",
          "plot_bgcolor": "#E5ECF6",
          "polar": {
           "angularaxis": {
            "gridcolor": "white",
            "linecolor": "white",
            "ticks": ""
           },
           "bgcolor": "#E5ECF6",
           "radialaxis": {
            "gridcolor": "white",
            "linecolor": "white",
            "ticks": ""
           }
          },
          "scene": {
           "xaxis": {
            "backgroundcolor": "#E5ECF6",
            "gridcolor": "white",
            "gridwidth": 2,
            "linecolor": "white",
            "showbackground": true,
            "ticks": "",
            "zerolinecolor": "white"
           },
           "yaxis": {
            "backgroundcolor": "#E5ECF6",
            "gridcolor": "white",
            "gridwidth": 2,
            "linecolor": "white",
            "showbackground": true,
            "ticks": "",
            "zerolinecolor": "white"
           },
           "zaxis": {
            "backgroundcolor": "#E5ECF6",
            "gridcolor": "white",
            "gridwidth": 2,
            "linecolor": "white",
            "showbackground": true,
            "ticks": "",
            "zerolinecolor": "white"
           }
          },
          "shapedefaults": {
           "line": {
            "color": "#2a3f5f"
           }
          },
          "ternary": {
           "aaxis": {
            "gridcolor": "white",
            "linecolor": "white",
            "ticks": ""
           },
           "baxis": {
            "gridcolor": "white",
            "linecolor": "white",
            "ticks": ""
           },
           "bgcolor": "#E5ECF6",
           "caxis": {
            "gridcolor": "white",
            "linecolor": "white",
            "ticks": ""
           }
          },
          "title": {
           "x": 0.05
          },
          "xaxis": {
           "automargin": true,
           "gridcolor": "white",
           "linecolor": "white",
           "ticks": "",
           "zerolinecolor": "white",
           "zerolinewidth": 2
          },
          "yaxis": {
           "automargin": true,
           "gridcolor": "white",
           "linecolor": "white",
           "ticks": "",
           "zerolinecolor": "white",
           "zerolinewidth": 2
          }
         }
        },
        "title": {
         "text": "Pearson Correlation for Account Data"
        },
        "width": 800,
        "xaxis": {
         "nticks": 36,
         "ticks": ""
        },
        "yaxis": {
         "ticks": ""
        }
       }
      },
      "text/html": [
       "<div>\n",
       "        \n",
       "        \n",
       "            <div id=\"fa91e04d-f3cb-40bd-a1f7-71b717ffb59b\" class=\"plotly-graph-div\" style=\"height:700px; width:800px;\"></div>\n",
       "            <script type=\"text/javascript\">\n",
       "                require([\"plotly\"], function(Plotly) {\n",
       "                    window.PLOTLYENV=window.PLOTLYENV || {};\n",
       "                    \n",
       "                if (document.getElementById(\"fa91e04d-f3cb-40bd-a1f7-71b717ffb59b\")) {\n",
       "                    Plotly.newPlot(\n",
       "                        'fa91e04d-f3cb-40bd-a1f7-71b717ffb59b',\n",
       "                        [{\"colorscale\": [[0.0, \"#440154\"], [0.1111111111111111, \"#482878\"], [0.2222222222222222, \"#3e4989\"], [0.3333333333333333, \"#31688e\"], [0.4444444444444444, \"#26828e\"], [0.5555555555555556, \"#1f9e89\"], [0.6666666666666666, \"#35b779\"], [0.7777777777777778, \"#6ece58\"], [0.8888888888888888, \"#b5de2b\"], [1.0, \"#fde725\"]], \"opacity\": 1.0, \"reversescale\": false, \"type\": \"heatmap\", \"x\": [\"acct_type\", \"actualpaymentamount\", \"amt_past_due\", \"cashlimit\", \"creditlimit\", \"cur_balance_amt\", \"customer_no\", \"high_credit_amt\", \"owner_indic\", \"paymentfrequency\"], \"y\": [\"acct_type\", \"actualpaymentamount\", \"amt_past_due\", \"cashlimit\", \"creditlimit\", \"cur_balance_amt\", \"customer_no\", \"high_credit_amt\", \"owner_indic\", \"paymentfrequency\"], \"z\": [[1.0, -0.03999697513416996, 0.06627829177238122, 0.0198797310450524, 0.06022509827023938, -0.084300434681626, 0.002400908691810833, -0.07163597953511941, -0.08503243302120457, 0.06724902985896457], [-0.03999697513416996, 1.0, 0.06955192761014461, 0.18427567017664087, 0.261117765657252, 0.7215053780952349, -0.006028742548505917, 0.7699836947995526, 0.07315229059416867, -0.008815904967140192], [0.06627829177238122, 0.06955192761014461, 1.0, 0.07030431672933074, 0.018536955003769985, 0.27997960541211836, -0.033692304709961665, 0.2573516748904071, 0.026139299526642925, -0.13848010340890352], [0.0198797310450524, 0.18427567017664087, 0.07030431672933074, 1.0, 0.7584585419461441, 0.18913984951393384, -0.011161459639089388, 0.35947736872027286, 0.07587522820610212, null], [0.06022509827023938, 0.261117765657252, 0.018536955003769985, 0.7584585419461441, 1.0, 0.3126366394963564, -0.013975424853384374, 0.5026031390693267, 0.05008045103383629, null], [-0.084300434681626, 0.7215053780952349, 0.27997960541211836, 0.18913984951393384, 0.3126366394963564, 1.0, -0.005074271474433306, 0.7555998600604154, 0.2279362456472686, -0.07542708289611146], [0.002400908691810833, -0.006028742548505917, -0.033692304709961665, -0.011161459639089388, -0.013975424853384374, -0.005074271474433306, 1.0, -0.012919170735093858, -0.009511131262321466, 0.02600897934666123], [-0.07163597953511941, 0.7699836947995526, 0.2573516748904071, 0.35947736872027286, 0.5026031390693267, 0.7555998600604154, -0.012919170735093858, 1.0, 0.2668231123885837, -0.08420613309292004], [-0.08503243302120457, 0.07315229059416867, 0.026139299526642925, 0.07587522820610212, 0.05008045103383629, 0.2279362456472686, -0.009511131262321466, 0.2668231123885837, 1.0, -0.2246505396300233], [0.06724902985896457, -0.008815904967140192, -0.13848010340890352, null, null, -0.07542708289611146, 0.02600897934666123, -0.08420613309292004, -0.2246505396300233, 1.0]]}],\n",
       "                        {\"height\": 700, \"template\": {\"data\": {\"bar\": [{\"error_x\": {\"color\": \"#2a3f5f\"}, \"error_y\": {\"color\": \"#2a3f5f\"}, \"marker\": {\"line\": {\"color\": \"#E5ECF6\", \"width\": 0.5}}, \"type\": \"bar\"}], \"barpolar\": [{\"marker\": {\"line\": {\"color\": \"#E5ECF6\", \"width\": 0.5}}, \"type\": \"barpolar\"}], \"carpet\": [{\"aaxis\": {\"endlinecolor\": \"#2a3f5f\", \"gridcolor\": \"white\", \"linecolor\": \"white\", \"minorgridcolor\": \"white\", \"startlinecolor\": \"#2a3f5f\"}, \"baxis\": {\"endlinecolor\": \"#2a3f5f\", \"gridcolor\": \"white\", \"linecolor\": \"white\", \"minorgridcolor\": \"white\", \"startlinecolor\": \"#2a3f5f\"}, \"type\": \"carpet\"}], \"choropleth\": [{\"colorbar\": {\"outlinewidth\": 0, \"ticks\": \"\"}, \"type\": \"choropleth\"}], \"contour\": [{\"colorbar\": {\"outlinewidth\": 0, \"ticks\": \"\"}, \"colorscale\": [[0.0, \"#0d0887\"], [0.1111111111111111, \"#46039f\"], [0.2222222222222222, \"#7201a8\"], [0.3333333333333333, \"#9c179e\"], [0.4444444444444444, \"#bd3786\"], [0.5555555555555556, \"#d8576b\"], [0.6666666666666666, \"#ed7953\"], [0.7777777777777778, \"#fb9f3a\"], [0.8888888888888888, \"#fdca26\"], [1.0, \"#f0f921\"]], \"type\": \"contour\"}], \"contourcarpet\": [{\"colorbar\": {\"outlinewidth\": 0, \"ticks\": \"\"}, \"type\": \"contourcarpet\"}], \"heatmap\": [{\"colorbar\": {\"outlinewidth\": 0, \"ticks\": \"\"}, \"colorscale\": [[0.0, \"#0d0887\"], [0.1111111111111111, \"#46039f\"], [0.2222222222222222, \"#7201a8\"], [0.3333333333333333, \"#9c179e\"], [0.4444444444444444, \"#bd3786\"], [0.5555555555555556, \"#d8576b\"], [0.6666666666666666, \"#ed7953\"], [0.7777777777777778, \"#fb9f3a\"], [0.8888888888888888, \"#fdca26\"], [1.0, \"#f0f921\"]], \"type\": \"heatmap\"}], \"heatmapgl\": [{\"colorbar\": {\"outlinewidth\": 0, \"ticks\": \"\"}, \"colorscale\": [[0.0, \"#0d0887\"], [0.1111111111111111, \"#46039f\"], [0.2222222222222222, \"#7201a8\"], [0.3333333333333333, \"#9c179e\"], [0.4444444444444444, \"#bd3786\"], [0.5555555555555556, \"#d8576b\"], [0.6666666666666666, \"#ed7953\"], [0.7777777777777778, \"#fb9f3a\"], [0.8888888888888888, \"#fdca26\"], [1.0, \"#f0f921\"]], \"type\": \"heatmapgl\"}], \"histogram\": [{\"marker\": {\"colorbar\": {\"outlinewidth\": 0, \"ticks\": \"\"}}, \"type\": \"histogram\"}], \"histogram2d\": [{\"colorbar\": {\"outlinewidth\": 0, \"ticks\": \"\"}, \"colorscale\": [[0.0, \"#0d0887\"], [0.1111111111111111, \"#46039f\"], [0.2222222222222222, \"#7201a8\"], [0.3333333333333333, \"#9c179e\"], [0.4444444444444444, \"#bd3786\"], [0.5555555555555556, \"#d8576b\"], [0.6666666666666666, \"#ed7953\"], [0.7777777777777778, \"#fb9f3a\"], [0.8888888888888888, \"#fdca26\"], [1.0, \"#f0f921\"]], \"type\": \"histogram2d\"}], \"histogram2dcontour\": [{\"colorbar\": {\"outlinewidth\": 0, \"ticks\": \"\"}, \"colorscale\": [[0.0, \"#0d0887\"], [0.1111111111111111, \"#46039f\"], [0.2222222222222222, \"#7201a8\"], [0.3333333333333333, \"#9c179e\"], [0.4444444444444444, \"#bd3786\"], [0.5555555555555556, \"#d8576b\"], [0.6666666666666666, \"#ed7953\"], [0.7777777777777778, \"#fb9f3a\"], [0.8888888888888888, \"#fdca26\"], [1.0, \"#f0f921\"]], \"type\": \"histogram2dcontour\"}], \"mesh3d\": [{\"colorbar\": {\"outlinewidth\": 0, \"ticks\": \"\"}, \"type\": \"mesh3d\"}], \"parcoords\": [{\"line\": {\"colorbar\": {\"outlinewidth\": 0, \"ticks\": \"\"}}, \"type\": \"parcoords\"}], \"scatter\": [{\"marker\": {\"colorbar\": {\"outlinewidth\": 0, \"ticks\": \"\"}}, \"type\": \"scatter\"}], \"scatter3d\": [{\"line\": {\"colorbar\": {\"outlinewidth\": 0, \"ticks\": \"\"}}, \"marker\": {\"colorbar\": {\"outlinewidth\": 0, \"ticks\": \"\"}}, \"type\": \"scatter3d\"}], \"scattercarpet\": [{\"marker\": {\"colorbar\": {\"outlinewidth\": 0, \"ticks\": \"\"}}, \"type\": \"scattercarpet\"}], \"scattergeo\": [{\"marker\": {\"colorbar\": {\"outlinewidth\": 0, \"ticks\": \"\"}}, \"type\": \"scattergeo\"}], \"scattergl\": [{\"marker\": {\"colorbar\": {\"outlinewidth\": 0, \"ticks\": \"\"}}, \"type\": \"scattergl\"}], \"scattermapbox\": [{\"marker\": {\"colorbar\": {\"outlinewidth\": 0, \"ticks\": \"\"}}, \"type\": \"scattermapbox\"}], \"scatterpolar\": [{\"marker\": {\"colorbar\": {\"outlinewidth\": 0, \"ticks\": \"\"}}, \"type\": \"scatterpolar\"}], \"scatterpolargl\": [{\"marker\": {\"colorbar\": {\"outlinewidth\": 0, \"ticks\": \"\"}}, \"type\": \"scatterpolargl\"}], \"scatterternary\": [{\"marker\": {\"colorbar\": {\"outlinewidth\": 0, \"ticks\": \"\"}}, \"type\": \"scatterternary\"}], \"surface\": [{\"colorbar\": {\"outlinewidth\": 0, \"ticks\": \"\"}, \"colorscale\": [[0.0, \"#0d0887\"], [0.1111111111111111, \"#46039f\"], [0.2222222222222222, \"#7201a8\"], [0.3333333333333333, \"#9c179e\"], [0.4444444444444444, \"#bd3786\"], [0.5555555555555556, \"#d8576b\"], [0.6666666666666666, \"#ed7953\"], [0.7777777777777778, \"#fb9f3a\"], [0.8888888888888888, \"#fdca26\"], [1.0, \"#f0f921\"]], \"type\": \"surface\"}], \"table\": [{\"cells\": {\"fill\": {\"color\": \"#EBF0F8\"}, \"line\": {\"color\": \"white\"}}, \"header\": {\"fill\": {\"color\": \"#C8D4E3\"}, \"line\": {\"color\": \"white\"}}, \"type\": \"table\"}]}, \"layout\": {\"annotationdefaults\": {\"arrowcolor\": \"#2a3f5f\", \"arrowhead\": 0, \"arrowwidth\": 1}, \"colorscale\": {\"diverging\": [[0, \"#8e0152\"], [0.1, \"#c51b7d\"], [0.2, \"#de77ae\"], [0.3, \"#f1b6da\"], [0.4, \"#fde0ef\"], [0.5, \"#f7f7f7\"], [0.6, \"#e6f5d0\"], [0.7, \"#b8e186\"], [0.8, \"#7fbc41\"], [0.9, \"#4d9221\"], [1, \"#276419\"]], \"sequential\": [[0.0, \"#0d0887\"], [0.1111111111111111, \"#46039f\"], [0.2222222222222222, \"#7201a8\"], [0.3333333333333333, \"#9c179e\"], [0.4444444444444444, \"#bd3786\"], [0.5555555555555556, \"#d8576b\"], [0.6666666666666666, \"#ed7953\"], [0.7777777777777778, \"#fb9f3a\"], [0.8888888888888888, \"#fdca26\"], [1.0, \"#f0f921\"]], \"sequentialminus\": [[0.0, \"#0d0887\"], [0.1111111111111111, \"#46039f\"], [0.2222222222222222, \"#7201a8\"], [0.3333333333333333, \"#9c179e\"], [0.4444444444444444, \"#bd3786\"], [0.5555555555555556, \"#d8576b\"], [0.6666666666666666, \"#ed7953\"], [0.7777777777777778, \"#fb9f3a\"], [0.8888888888888888, \"#fdca26\"], [1.0, \"#f0f921\"]]}, \"colorway\": [\"#636efa\", \"#EF553B\", \"#00cc96\", \"#ab63fa\", \"#FFA15A\", \"#19d3f3\", \"#FF6692\", \"#B6E880\", \"#FF97FF\", \"#FECB52\"], \"font\": {\"color\": \"#2a3f5f\"}, \"geo\": {\"bgcolor\": \"white\", \"lakecolor\": \"white\", \"landcolor\": \"#E5ECF6\", \"showlakes\": true, \"showland\": true, \"subunitcolor\": \"white\"}, \"hoverlabel\": {\"align\": \"left\"}, \"hovermode\": \"closest\", \"mapbox\": {\"style\": \"light\"}, \"paper_bgcolor\": \"white\", \"plot_bgcolor\": \"#E5ECF6\", \"polar\": {\"angularaxis\": {\"gridcolor\": \"white\", \"linecolor\": \"white\", \"ticks\": \"\"}, \"bgcolor\": \"#E5ECF6\", \"radialaxis\": {\"gridcolor\": \"white\", \"linecolor\": \"white\", \"ticks\": \"\"}}, \"scene\": {\"xaxis\": {\"backgroundcolor\": \"#E5ECF6\", \"gridcolor\": \"white\", \"gridwidth\": 2, \"linecolor\": \"white\", \"showbackground\": true, \"ticks\": \"\", \"zerolinecolor\": \"white\"}, \"yaxis\": {\"backgroundcolor\": \"#E5ECF6\", \"gridcolor\": \"white\", \"gridwidth\": 2, \"linecolor\": \"white\", \"showbackground\": true, \"ticks\": \"\", \"zerolinecolor\": \"white\"}, \"zaxis\": {\"backgroundcolor\": \"#E5ECF6\", \"gridcolor\": \"white\", \"gridwidth\": 2, \"linecolor\": \"white\", \"showbackground\": true, \"ticks\": \"\", \"zerolinecolor\": \"white\"}}, \"shapedefaults\": {\"line\": {\"color\": \"#2a3f5f\"}}, \"ternary\": {\"aaxis\": {\"gridcolor\": \"white\", \"linecolor\": \"white\", \"ticks\": \"\"}, \"baxis\": {\"gridcolor\": \"white\", \"linecolor\": \"white\", \"ticks\": \"\"}, \"bgcolor\": \"#E5ECF6\", \"caxis\": {\"gridcolor\": \"white\", \"linecolor\": \"white\", \"ticks\": \"\"}}, \"title\": {\"x\": 0.05}, \"xaxis\": {\"automargin\": true, \"gridcolor\": \"white\", \"linecolor\": \"white\", \"ticks\": \"\", \"zerolinecolor\": \"white\", \"zerolinewidth\": 2}, \"yaxis\": {\"automargin\": true, \"gridcolor\": \"white\", \"linecolor\": \"white\", \"ticks\": \"\", \"zerolinecolor\": \"white\", \"zerolinewidth\": 2}}}, \"title\": {\"text\": \"Pearson Correlation for Account Data\"}, \"width\": 800, \"xaxis\": {\"nticks\": 36, \"ticks\": \"\"}, \"yaxis\": {\"ticks\": \"\"}},\n",
       "                        {\"responsive\": true}\n",
       "                    ).then(function(){\n",
       "                            \n",
       "var gd = document.getElementById('fa91e04d-f3cb-40bd-a1f7-71b717ffb59b');\n",
       "var x = new MutationObserver(function (mutations, observer) {{\n",
       "        var display = window.getComputedStyle(gd).display;\n",
       "        if (!display || display === 'none') {{\n",
       "            console.log([gd, 'removed!']);\n",
       "            Plotly.purge(gd);\n",
       "            observer.disconnect();\n",
       "        }}\n",
       "}});\n",
       "\n",
       "// Listen for the removal of the full notebook cells\n",
       "var notebookContainer = gd.closest('#notebook-container');\n",
       "if (notebookContainer) {{\n",
       "    x.observe(notebookContainer, {childList: true});\n",
       "}}\n",
       "\n",
       "// Listen for the clearing of the current output cell\n",
       "var outputEl = gd.closest('.output');\n",
       "if (outputEl) {{\n",
       "    x.observe(outputEl, {childList: true});\n",
       "}}\n",
       "\n",
       "                        })\n",
       "                };\n",
       "                });\n",
       "            </script>\n",
       "        </div>"
      ]
     },
     "metadata": {},
     "output_type": "display_data"
    }
   ],
   "source": [
    "# creating a list of only numerical values\n",
    "categorical_account = []\n",
    "for col, value in account.iteritems():\n",
    "    if value.dtype == 'object':\n",
    "        categorical_account.append(col)\n",
    "\n",
    "# Store the numerical columns in a list numerical\n",
    "numerical_account = account.columns.difference(categorical_account)\n",
    "\n",
    "data2 = [go.Heatmap(\n",
    "        z=account[numerical_account].astype(float).corr().values, # Generating the Pearson correlation\n",
    "        x=account[numerical_account].columns.values,\n",
    "        y=account[numerical_account].columns.values,\n",
    "        colorscale='Viridis',\n",
    "        reversescale = False,\n",
    "        opacity = 1.0\n",
    "        \n",
    "    )\n",
    "]\n",
    "layout = go.Layout(\n",
    "    title='Pearson Correlation for Account Data',\n",
    "    xaxis = dict(ticks='', nticks=36),\n",
    "    yaxis = dict(ticks='' ),\n",
    "    width = 800, height = 700,\n",
    "    \n",
    ")\n",
    "\n",
    "\n",
    "fig = go.Figure(data=data2, layout=layout)\n",
    "py.iplot(fig, filename='labelled-heatmap')"
   ]
  },
  {
   "cell_type": "markdown",
   "metadata": {},
   "source": [
    "### Creating Correlation Plots for Data "
   ]
  },
  {
   "cell_type": "code",
   "execution_count": 14,
   "metadata": {},
   "outputs": [],
   "source": [
    "# Droping the feature_6 as we need to predict it\n",
    "data= data.drop(['feature_6'],axis=1)"
   ]
  },
  {
   "cell_type": "code",
   "execution_count": 15,
   "metadata": {
    "scrolled": true
   },
   "outputs": [
    {
     "data": {
      "text/html": [
       "<div>\n",
       "<style scoped>\n",
       "    .dataframe tbody tr th:only-of-type {\n",
       "        vertical-align: middle;\n",
       "    }\n",
       "\n",
       "    .dataframe tbody tr th {\n",
       "        vertical-align: top;\n",
       "    }\n",
       "\n",
       "    .dataframe thead th {\n",
       "        text-align: right;\n",
       "    }\n",
       "</style>\n",
       "<table border=\"1\" class=\"dataframe\">\n",
       "  <thead>\n",
       "    <tr style=\"text-align: right;\">\n",
       "      <th></th>\n",
       "      <th>Bad_label</th>\n",
       "    </tr>\n",
       "  </thead>\n",
       "  <tbody>\n",
       "    <tr>\n",
       "      <th>0</th>\n",
       "      <td>0.957985</td>\n",
       "    </tr>\n",
       "    <tr>\n",
       "      <th>1</th>\n",
       "      <td>0.042015</td>\n",
       "    </tr>\n",
       "  </tbody>\n",
       "</table>\n",
       "</div>"
      ],
      "text/plain": [
       "   Bad_label\n",
       "0   0.957985\n",
       "1   0.042015"
      ]
     },
     "execution_count": 15,
     "metadata": {},
     "output_type": "execute_result"
    }
   ],
   "source": [
    "# understand Spread of Bad_label\n",
    "pd.DataFrame(data.Bad_label.value_counts(normalize=True))\n",
    "\n",
    "# The Bad Flag is very low , 0.04 percentage of Total"
   ]
  },
  {
   "cell_type": "code",
   "execution_count": 16,
   "metadata": {},
   "outputs": [
    {
     "data": {
      "text/plain": [
       "<matplotlib.axes._subplots.AxesSubplot at 0x17ea747b8d0>"
      ]
     },
     "execution_count": 16,
     "metadata": {},
     "output_type": "execute_result"
    },
    {
     "data": {
      "image/png": "[encoded data removed]",
      "text/plain": [
       "<Figure size 432x288 with 1 Axes>"
      ]
     },
     "metadata": {
      "needs_background": "light"
     },
     "output_type": "display_data"
    }
   ],
   "source": [
    "# understand Spread of Bad_label, by graph\n",
    "pd.DataFrame(data.Bad_label.value_counts()).plot.bar()"
   ]
  },
  {
   "cell_type": "code",
   "execution_count": 17,
   "metadata": {
    "scrolled": true
   },
   "outputs": [
    {
     "data": {
      "application/vnd.plotly.v1+json": {
       "config": {
        "linkText": "Export to plot.ly",
        "plotlyServerURL": "https://plot.ly",
        "showLink": false
       },
       "data": [
        {
         "colorscale": [
          [
           0,
           "#440154"
          ],
          [
           0.1111111111111111,
           "#482878"
          ],
          [
           0.2222222222222222,
           "#3e4989"
          ],
          [
           0.3333333333333333,
           "#31688e"
          ],
          [
           0.4444444444444444,
           "#26828e"
          ],
          [
           0.5555555555555556,
           "#1f9e89"
          ],
          [
           0.6666666666666666,
           "#35b779"
          ],
          [
           0.7777777777777778,
           "#6ece58"
          ],
          [
           0.8888888888888888,
           "#b5de2b"
          ],
          [
           1,
           "#fde725"
          ]
         ],
         "opacity": 1,
         "reversescale": false,
         "type": "heatmap",
         "x": [
          "Bad_label",
          "customer_no",
          "feature_14",
          "feature_19",
          "feature_25",
          "feature_26",
          "feature_29",
          "feature_3",
          "feature_30",
          "feature_31",
          "feature_34",
          "feature_35",
          "feature_39",
          "feature_4",
          "feature_40",
          "feature_41",
          "feature_42",
          "feature_44",
          "feature_49",
          "feature_52",
          "feature_55",
          "feature_56",
          "feature_64",
          "feature_65",
          "feature_66",
          "feature_67",
          "feature_68",
          "feature_69",
          "feature_7",
          "feature_71",
          "feature_74",
          "feature_76",
          "feature_78"
         ],
         "y": [
          "Bad_label",
          "customer_no",
          "feature_14",
          "feature_19",
          "feature_25",
          "feature_26",
          "feature_29",
          "feature_3",
          "feature_30",
          "feature_31",
          "feature_34",
          "feature_35",
          "feature_39",
          "feature_4",
          "feature_40",
          "feature_41",
          "feature_42",
          "feature_44",
          "feature_49",
          "feature_52",
          "feature_55",
          "feature_56",
          "feature_64",
          "feature_65",
          "feature_66",
          "feature_67",
          "feature_68",
          "feature_69",
          "feature_7",
          "feature_71",
          "feature_74",
          "feature_76",
          "feature_78"
         ],
         "z": [
          [
           1,
           -0.0016734756064113448,
           -0.004178294401314073,
           0.0052400605493236494,
           0.021890037027618697,
           -0.024275324172295557,
           -0.018597372433596233,
           -0.045324986199290186,
           0.006465609313335366,
           -0.006704939676163029,
           0.01623083089046771,
           -0.007513050309912021,
           -0.016562162692539725,
           0.017171713369064052,
           -0.004737214132921708,
           -0.025934629378325202,
           -0.002602027571618253,
           -0.01711741347377567,
           0.09897414945083353,
           -0.05369324852699969,
           0.006461139447748692,
           0.001373669308221703,
           0.0035701777211337793,
           0.005321739178128617,
           -0.012901356726484662,
           0.0038083265816044607,
           0.01623083089046771,
           -0.007513050309912021,
           -0.05941753597385348,
           0.009505308233873633,
           -0.17160161824591108,
           0.0003368674139763155,
           -0.0049654667087490525
          ],
          [
           -0.0016734756064113448,
           1,
           0.4906137927170692,
           -0.0036820705147334516,
           0.03591924447353271,
           -0.3083197808248261,
           -0.23775998034078813,
           0.03095145197436406,
           -0.022391903830761447,
           0.19978034689307642,
           -0.008920050387686182,
           -0.0534459750241136,
           0.00927687217884736,
           -0.20107473546344953,
           0.00552546443341653,
           -0.03543627696825062,
           0.018294525963836995,
           -0.23402519605589597,
           0.3578456961244306,
           -0.0804761194305393,
           -0.007234686731651413,
           0.03684281673164282,
           0.052522360561311356,
           0.05604113251731871,
           -0.15073436020667694,
           0.04373306272649426,
           -0.008920050387686182,
           -0.0534459750241136,
           -0.04202339407896121,
           0.06467516861738053,
           -0.5544750377146468,
           -0.003087427692590815,
           -0.009859386351814204
          ],
          [
           -0.004178294401314073,
           0.4906137927170692,
           1,
           -0.01760441278858417,
           0.00555845969777517,
           0.03706819006397056,
           -0.5901878374901005,
           0.017656588312791495,
           -0.04247952191811071,
           -0.06730124651090671,
           -0.03659466103231104,
           -0.04404594901735324,
           0.03681477259203872,
           0.13490121423742824,
           -0.06570289109807573,
           -0.0022102590154883116,
           0.014144531439144098,
           -0.5830178719779557,
           0.2777011431511867,
           0.018858895445926775,
           -0.023793962551618437,
           0.014383820717524578,
           0.0751891056448548,
           0.10258549343229677,
           -0.33384187092411793,
           0.18710311055657114,
           -0.03659466103231104,
           -0.04404594901735324,
           -0.012511002435871292,
           0.07898153713234106,
           -0.034199278402838394,
           -0.03155449772460691,
           -0.014359434675937208
          ],
          [
           0.0052400605493236494,
           -0.0036820705147334516,
           -0.01760441278858417,
           1,
           0.016425217758851876,
           -0.045214172327090185,
           -0.017524033520058387,
           0.03924421272821155,
           0.0337974574687237,
           0.011151351564096544,
           0.02927666755214475,
           -0.0037675343695190108,
           -0.029063689491814565,
           -0.026289579826971384,
           -0.015031413334927003,
           -0.03739915406840674,
           -0.00661856814004961,
           -0.018594658965559886,
           -0.01561699455265159,
           -0.03925940134005741,
           0.9183545026952268,
           -0.007163651186741392,
           -0.012487917104343585,
           -0.022052924096134817,
           -0.04713552022366206,
           -0.03764713600240014,
           0.02927666755214475,
           -0.0037675343695190108,
           -0.018877685897006957,
           -0.00891975898325693,
           -0.2506402059138017,
           0.010210665635405554,
           0.003446143703024322
          ],
          [
           0.021890037027618697,
           0.03591924447353271,
           0.00555845969777517,
           0.016425217758851876,
           1,
           -0.24914752853036076,
           -0.04460110896604431,
           -0.1150930157249576,
           0.05438902651641541,
           0.007266135935972198,
           -0.10173136671116978,
           -0.02702803867595351,
           0.10309248939653032,
           0.028980936834074836,
           0.08088785804967924,
           -0.131967619787549,
           0.09787745271059255,
           -0.0341270540031592,
           0.12933919295168658,
           -0.05878652947217029,
           -0.03992157100588156,
           -0.027280297391354492,
           0.004213974595492685,
           0.028328969233114523,
           0.008867377028778751,
           0.07144879083351079,
           -0.10173136671116978,
           -0.02702803867595351,
           -0.12655976080868653,
           0.02314390061531806,
           -0.17160161824591108,
           -0.013520089032738087,
           0.009952898772105735
          ],
          [
           -0.024275324172295557,
           -0.3083197808248261,
           0.03706819006397056,
           -0.045214172327090185,
           -0.24914752853036076,
           1,
           0.08846381242670538,
           0.033914196252537596,
           -0.029486268552520734,
           -0.16792428699701073,
           0.014278987880019819,
           0.05739258455905099,
           -0.01373114044743883,
           0.18732290322392475,
           -0.029788862378196404,
           0.10053360896563625,
           -0.04807204379424284,
           0.08499756826063036,
           -0.1563656706493814,
           0.11079300624209652,
           -0.03299088207674153,
           0.04724639159850935,
           0.026701937086181106,
           -0.012503052265079051,
           0.04246834922383013,
           -0.029659345259994217,
           0.014278987880019819,
           0.05739258455905099,
           0.08692441724427923,
           0.02254778773374951,
           -0.009685485552825727,
           0.013797213676141003,
           0.017750914202650844
          ],
          [
           -0.018597372433596233,
           -0.23775998034078813,
           -0.5901878374901005,
           -0.017524033520058387,
           -0.04460110896604431,
           0.08846381242670538,
           1,
           -0.01334747297768176,
           0.07754670893280338,
           -0.020106773727077337,
           -0.00668825375680681,
           0.08047083096767527,
           0.007432650832454447,
           -0.15188009631663454,
           0.08203775434907228,
           0.0694722568184024,
           -0.0060323340060319695,
           0.9831999311791741,
           -0.1832548626613713,
           0.049117637259595025,
           -0.015244518986245426,
           0.08791027027105532,
           -0.02281145293230413,
           -0.152680874578784,
           0.6505723795091825,
           -0.20112646378520008,
           -0.00668825375680681,
           0.08047083096767527,
           0.044233914158931846,
           -0.04981923484293946,
           -0.28035522646493527,
           0.02239059551870336,
           0.028201050955931242
          ],
          [
           -0.045324986199290186,
           0.03095145197436406,
           0.017656588312791495,
           0.03924421272821155,
           -0.1150930157249576,
           0.033914196252537596,
           -0.01334747297768176,
           1,
           -0.05683515888464552,
           0.004059299070045524,
           0.11154777246485849,
           0.05258882644985929,
           -0.11088943684512462,
           -0.24971817823927422,
           -0.081547390911004,
           -0.005147366046049577,
           -0.04425172622021079,
           -0.019027377701911402,
           0.24159712346815512,
           0.05608922934988052,
           0.04117660061446218,
           0.06067605314751931,
           0.031023624844398096,
           -0.04067195733547864,
           -0.060671717651005756,
           -0.06824157892486431,
           0.11154777246485849,
           0.05258882644985929,
           0.3108001617143452,
           0.03245279026302043,
           -0.3636267811030918,
           -0.008648978023459365,
           -0.005579708846392614
          ],
          [
           0.006465609313335366,
           -0.022391903830761447,
           -0.04247952191811071,
           0.0337974574687237,
           0.05438902651641541,
           -0.029486268552520734,
           0.07754670893280338,
           -0.05683515888464552,
           1,
           -0.0063289582943158946,
           -0.21098887070224379,
           0.01355453703582482,
           0.2125417382766754,
           0.03646655821386578,
           0.15681015242174842,
           0.11759481225169206,
           0.05189595448450966,
           0.07677942698616616,
           0.025076517690608164,
           -0.049536009191954854,
           0.038722857649436664,
           0.04807617598836597,
           0.14137420090433267,
           0.12853177012573266,
           0.23549377982661557,
           0.35997430994240914,
           -0.21098887070224379,
           0.01355453703582482,
           -0.06149532656556001,
           0.03351555762918294,
           -0.1305158904647152,
           -0.010187686413279376,
           0.05122429723631644
          ],
          [
           -0.006704939676163029,
           0.19978034689307642,
           -0.06730124651090671,
           0.011151351564096544,
           0.007266135935972198,
           -0.16792428699701073,
           -0.020106773727077337,
           0.004059299070045524,
           -0.0063289582943158946,
           1,
           0.025977020377948055,
           -0.022160637156156463,
           -0.027214505145376388,
           -0.22278909247734455,
           0.12358793342532028,
           -0.030019797546593018,
           0.018635494276994565,
           -0.021087046136896145,
           -0.0034258570611554154,
           -0.04797819187687934,
           0.013781259284652056,
           -0.009951574381052864,
           -0.012990375595360495,
           -0.011119938940639047,
           -0.026352580624382137,
           -0.028757511758070342,
           0.025977020377948055,
           -0.022160637156156463,
           -0.023667120662233632,
           -0.011914271812297253,
           null,
           -0.0023346545992868045,
           -0.05298004851625202
          ],
          [
           0.01623083089046771,
           -0.008920050387686182,
           -0.03659466103231104,
           0.02927666755214475,
           -0.10173136671116978,
           0.014278987880019819,
           -0.00668825375680681,
           0.11154777246485849,
           -0.21098887070224379,
           0.025977020377948055,
           1,
           0.028159469107977095,
           -0.9958207338060852,
           -0.0739922012347653,
           -0.5185161945244672,
           -0.761586786065272,
           -0.09198607069907751,
           -0.020431389751895422,
           -0.23002146654727307,
           0.10224026195961143,
           0.04362640996219001,
           -0.03921813134930819,
           -0.09115676565454607,
           -0.07370692736869096,
           -0.10078705545359354,
           -0.18373629660607538,
           1,
           0.028159469107977095,
           0.1134286476080985,
           -0.09620221310338195,
           -0.012659242088545882,
           0.017360778101479964,
           -0.042258891422060144
          ],
          [
           -0.007513050309912021,
           -0.0534459750241136,
           -0.04404594901735324,
           -0.0037675343695190108,
           -0.02702803867595351,
           0.05739258455905099,
           0.08047083096767527,
           0.05258882644985929,
           0.01355453703582482,
           -0.022160637156156463,
           0.028159469107977095,
           1,
           -0.02869722993256853,
           0.0049542176212404665,
           -2.1685412502698303e-05,
           -0.0022326816758132437,
           -0.001300642662964495,
           0.07920770433774828,
           -0.2740713085898581,
           0.008591979949621468,
           -0.0033959935886327193,
           0.016036217695073914,
           0.0060124924199556895,
           -0.01704608840697252,
           0.04839682735746587,
           -0.017458844103342464,
           0.028159469107977095,
           1,
           0.09128780154139544,
           0.005301959297839889,
           -0.06966552947022571,
           0.006207223277771375,
           0.003819972150459654
          ],
          [
           -0.016562162692539725,
           0.00927687217884736,
           0.03681477259203872,
           -0.029063689491814565,
           0.10309248939653032,
           -0.01373114044743883,
           0.007432650832454447,
           -0.11088943684512462,
           0.2125417382766754,
           -0.027214505145376388,
           -0.9958207338060852,
           -0.02869722993256853,
           1,
           0.0745556839952114,
           0.5213200782896844,
           0.7635486499754285,
           0.09282590066327556,
           0.021133800455561874,
           0.2307426257648506,
           -0.10150334462715385,
           -0.04317499486401691,
           0.04057689530664754,
           0.09258364380753957,
           0.07469083979608632,
           0.10179552009064437,
           0.18510075983720573,
           -0.9958207338060852,
           -0.02869722993256853,
           -0.11318304539680553,
           0.09722386409880454,
           0.013122839505736157,
           -0.017745387744223257,
           0.042526285916186866
          ],
          [
           0.017171713369064052,
           -0.20107473546344953,
           0.13490121423742824,
           -0.026289579826971384,
           0.028980936834074836,
           0.18732290322392475,
           -0.15188009631663454,
           -0.24971817823927422,
           0.03646655821386578,
           -0.22278909247734455,
           -0.0739922012347653,
           0.0049542176212404665,
           0.0745556839952114,
           1,
           0.0003877491491304925,
           0.027412580528898903,
           0.01875524267907962,
           -0.14920148937400662,
           0.028151088925851185,
           0.0623584791836542,
           -0.026591811590630336,
           0.014633711011401524,
           0.043422586042373944,
           0.07671002544629045,
           -0.0736877126991876,
           0.08551085971721395,
           -0.0739922012347653,
           0.0049542176212404665,
           -0.09208425009891394,
           0.03281903440941293,
           0.10107594250783003,
           -0.018689878327470096,
           0.024448633358672953
          ],
          [
           -0.004737214132921708,
           0.00552546443341653,
           -0.06570289109807573,
           -0.015031413334927003,
           0.08088785804967924,
           -0.029788862378196404,
           0.08203775434907228,
           -0.081547390911004,
           0.15681015242174842,
           0.12358793342532028,
           -0.5185161945244672,
           -2.1685412502698303e-05,
           0.5213200782896844,
           0.0003877491491304925,
           1,
           0.34997076490862755,
           0.06013577113189484,
           0.09032780069829906,
           0.09895543686342936,
           -0.08118439486281255,
           -0.026951996956566793,
           0.01267125118216513,
           0.030197076181122755,
           0.023789455426985164,
           0.09851935227618983,
           0.07619970674715273,
           -0.5185161945244672,
           -2.1685412502698303e-05,
           -0.07892717150888029,
           0.04242494422823821,
           0.41643645093413273,
           -0.01067182346124444,
           0.020758570126570647
          ],
          [
           -0.025934629378325202,
           -0.03543627696825062,
           -0.0022102590154883116,
           -0.03739915406840674,
           -0.131967619787549,
           0.10053360896563625,
           0.0694722568184024,
           -0.005147366046049577,
           0.11759481225169206,
           -0.030019797546593018,
           -0.761586786065272,
           -0.0022326816758132437,
           0.7635486499754285,
           0.027412580528898903,
           0.34997076490862755,
           1,
           -0.07527494161832818,
           0.07515356450584164,
           0.1287685543207694,
           -0.020961216344980774,
           -0.03907926059019876,
           0.044918092529223436,
           0.060492690286815504,
           0.02323015104108353,
           0.0945930987722579,
           0.0801039617580518,
           -0.761586786065272,
           -0.0022326816758132437,
           0.01346183021155967,
           0.06258504227115268,
           -0.04483569625041251,
           -0.0012709589060006562,
           0.025852416221372146
          ],
          [
           -0.002602027571618253,
           0.018294525963836995,
           0.014144531439144098,
           -0.00661856814004961,
           0.09787745271059255,
           -0.04807204379424284,
           -0.0060323340060319695,
           -0.04425172622021079,
           0.05189595448450966,
           0.018635494276994565,
           -0.09198607069907751,
           -0.001300642662964495,
           0.09282590066327556,
           0.01875524267907962,
           0.06013577113189484,
           -0.07527494161832818,
           1,
           -0.002004260992923452,
           0.04097088358215071,
           -0.03181457011226867,
           -0.009670420275919984,
           -0.00810198763716857,
           0.00877035325383328,
           0.01124721366591432,
           0.024882550131647287,
           0.05328726330615891,
           -0.09198607069907751,
           -0.001300642662964495,
           -0.042704304562822745,
           0.010074144951048246,
           -0.17160161824591105,
           -9.651230166539045e-05,
           0.001988068078445503
          ],
          [
           -0.01711741347377567,
           -0.23402519605589597,
           -0.5830178719779557,
           -0.018594658965559886,
           -0.0341270540031592,
           0.08499756826063036,
           0.9831999311791741,
           -0.019027377701911402,
           0.07677942698616616,
           -0.021087046136896145,
           -0.020431389751895422,
           0.07920770433774828,
           0.021133800455561874,
           -0.14920148937400662,
           0.09032780069829906,
           0.07515356450584164,
           -0.002004260992923452,
           1,
           -0.17561264492592424,
           0.04694973927733747,
           -0.0163410938417571,
           0.030976562195553874,
           -0.05865624690923183,
           -0.14219308061347496,
           0.6462172416752529,
           -0.19497866187176463,
           -0.020431389751895422,
           0.07920770433774828,
           0.039650713024242494,
           0.03876352844946469,
           -0.19599395068311168,
           0.02007171097882908,
           0.02702403127262823
          ],
          [
           0.09897414945083353,
           0.3578456961244306,
           0.2777011431511867,
           -0.01561699455265159,
           0.12933919295168658,
           -0.1563656706493814,
           -0.1832548626613713,
           0.24159712346815512,
           0.025076517690608164,
           -0.0034258570611554154,
           -0.23002146654727307,
           -0.2740713085898581,
           0.2307426257648506,
           0.028151088925851185,
           0.09895543686342936,
           0.1287685543207694,
           0.04097088358215071,
           -0.17561264492592424,
           1,
           -0.0019171930961374558,
           0.007332822712596412,
           -0.24485577436196693,
           -0.23695787421060732,
           0.07817980865268657,
           -0.18571392868169245,
           0.09897414945083365,
           -0.23002146654727307,
           -0.2740713085898581,
           -0.24623920609031028,
           -0.2171620131294267,
           null,
           -0.18139331227755656,
           -0.020047367844602725
          ],
          [
           -0.05369324852699969,
           -0.0804761194305393,
           0.018858895445926775,
           -0.03925940134005741,
           -0.05878652947217029,
           0.11079300624209652,
           0.049117637259595025,
           0.05608922934988052,
           -0.049536009191954854,
           -0.04797819187687934,
           0.10224026195961143,
           0.008591979949621468,
           -0.10150334462715385,
           0.0623584791836542,
           -0.08118439486281255,
           -0.020961216344980774,
           -0.03181457011226867,
           0.04694973927733747,
           -0.0019171930961374558,
           1,
           -0.03265205437995172,
           -0.03804209212873235,
           -0.047826119406153986,
           -0.032750940512638604,
           0.013075394479416738,
           -0.04022162259493776,
           0.10224026195961143,
           0.008591979949621468,
           0.5737313738947518,
           -0.04914114685670128,
           0.24514516892272986,
           0.0035064226788196155,
           0.003930028373980882
          ],
          [
           0.006461139447748692,
           -0.007234686731651413,
           -0.023793962551618437,
           0.9183545026952268,
           -0.03992157100588156,
           -0.03299088207674153,
           -0.015244518986245426,
           0.04117660061446218,
           0.038722857649436664,
           0.013781259284652056,
           0.04362640996219001,
           -0.0033959935886327193,
           -0.04317499486401691,
           -0.026591811590630336,
           -0.026951996956566793,
           -0.03907926059019876,
           -0.009670420275919984,
           -0.0163410938417571,
           0.007332822712596412,
           -0.03265205437995172,
           1,
           -0.007085702912028665,
           -0.013105595500671134,
           -0.020565511320814668,
           -0.04430759338683237,
           -0.03485208120567276,
           0.04362640996219001,
           -0.0033959935886327193,
           -0.009902549919167987,
           -0.009027590384652368,
           -0.06052275326688024,
           0.007817606150431563,
           0.003137273273211905
          ],
          [
           0.001373669308221703,
           0.03684281673164282,
           0.014383820717524578,
           -0.007163651186741392,
           -0.027280297391354492,
           0.04724639159850935,
           0.08791027027105532,
           0.06067605314751931,
           0.04807617598836597,
           -0.009951574381052864,
           -0.03921813134930819,
           0.016036217695073914,
           0.04057689530664754,
           0.014633711011401524,
           0.01267125118216513,
           0.044918092529223436,
           -0.00810198763716857,
           0.030976562195553874,
           -0.24485577436196693,
           -0.03804209212873235,
           -0.007085702912028665,
           1,
           0.7655193469493534,
           -0.002449469088535066,
           0.05543754697288992,
           0.07655304069310764,
           -0.03921813134930819,
           0.016036217695073914,
           0.024517544532651106,
           0.6641775777833923,
           -0.08832469044824406,
           0.036933013567613984,
           0.02404045516774289
          ],
          [
           0.0035701777211337793,
           0.052522360561311356,
           0.0751891056448548,
           -0.012487917104343585,
           0.004213974595492685,
           0.026701937086181106,
           -0.02281145293230413,
           0.031023624844398096,
           0.14137420090433267,
           -0.012990375595360495,
           -0.09115676565454607,
           0.0060124924199556895,
           0.09258364380753957,
           0.043422586042373944,
           0.030197076181122755,
           0.060492690286815504,
           0.00877035325383328,
           -0.05865624690923183,
           -0.23695787421060732,
           -0.047826119406153986,
           -0.013105595500671134,
           0.7655193469493534,
           1,
           0.10043658817979555,
           0.009244467568294112,
           0.34285336552821033,
           -0.09115676565454607,
           0.0060124924199556895,
           -0.0009102924356842478,
           0.5486825120316664,
           0.22807901372644937,
           0.02750522192004214,
           0.03424320700453463
          ],
          [
           0.005321739178128617,
           0.05604113251731871,
           0.10258549343229677,
           -0.022052924096134817,
           0.028328969233114523,
           -0.012503052265079051,
           -0.152680874578784,
           -0.04067195733547864,
           0.12853177012573266,
           -0.011119938940639047,
           -0.07370692736869096,
           -0.01704608840697252,
           0.07469083979608632,
           0.07671002544629045,
           0.023789455426985164,
           0.02323015104108353,
           0.01124721366591432,
           -0.14219308061347496,
           0.07817980865268657,
           -0.032750940512638604,
           -0.020565511320814668,
           -0.002449469088535066,
           0.10043658817979555,
           1,
           0.19550057532563603,
           0.3988198499155313,
           -0.07370692736869096,
           -0.01704608840697252,
           -0.05659245887178202,
           0.058798807521340646,
           0.35028805601029545,
           -0.002052840768126105,
           0.018685447568292192
          ],
          [
           -0.012901356726484662,
           -0.15073436020667694,
           -0.33384187092411793,
           -0.04713552022366206,
           0.008867377028778751,
           0.04246834922383013,
           0.6505723795091825,
           -0.060671717651005756,
           0.23549377982661557,
           -0.026352580624382137,
           -0.10078705545359354,
           0.04839682735746587,
           0.10179552009064437,
           -0.0736877126991876,
           0.09851935227618983,
           0.0945930987722579,
           0.024882550131647287,
           0.6462172416752529,
           -0.18571392868169245,
           0.013075394479416738,
           -0.04430759338683237,
           0.05543754697288992,
           0.009244467568294112,
           0.19550057532563603,
           1,
           0.32824304000681964,
           -0.10078705545359354,
           0.04839682735746587,
           -0.0071806446801647925,
           -0.00472045505333211,
           0.22032973096619185,
           0.011301396392506779,
           0.04833696371624942
          ],
          [
           0.0038083265816044607,
           0.04373306272649426,
           0.18710311055657114,
           -0.03764713600240014,
           0.07144879083351079,
           -0.029659345259994217,
           -0.20112646378520008,
           -0.06824157892486431,
           0.35997430994240914,
           -0.028757511758070342,
           -0.18373629660607538,
           -0.017458844103342464,
           0.18510075983720573,
           0.08551085971721395,
           0.07619970674715273,
           0.0801039617580518,
           0.05328726330615891,
           -0.19497866187176463,
           0.09897414945083365,
           -0.04022162259493776,
           -0.03485208120567276,
           0.07655304069310764,
           0.34285336552821033,
           0.3988198499155313,
           0.32824304000681964,
           1,
           -0.18373629660607538,
           -0.017458844103342464,
           -0.060866621126298356,
           0.10912277849790003,
           0.358057437019717,
           -0.012763413059760137,
           0.05946755579328994
          ],
          [
           0.01623083089046771,
           -0.008920050387686182,
           -0.03659466103231104,
           0.02927666755214475,
           -0.10173136671116978,
           0.014278987880019819,
           -0.00668825375680681,
           0.11154777246485849,
           -0.21098887070224379,
           0.025977020377948055,
           1,
           0.028159469107977095,
           -0.9958207338060852,
           -0.0739922012347653,
           -0.5185161945244672,
           -0.761586786065272,
           -0.09198607069907751,
           -0.020431389751895422,
           -0.23002146654727307,
           0.10224026195961143,
           0.04362640996219001,
           -0.03921813134930819,
           -0.09115676565454607,
           -0.07370692736869096,
           -0.10078705545359354,
           -0.18373629660607538,
           1,
           0.028159469107977095,
           0.1134286476080985,
           -0.09620221310338195,
           -0.012659242088545882,
           0.017360778101479964,
           -0.042258891422060144
          ],
          [
           -0.007513050309912021,
           -0.0534459750241136,
           -0.04404594901735324,
           -0.0037675343695190108,
           -0.02702803867595351,
           0.05739258455905099,
           0.08047083096767527,
           0.05258882644985929,
           0.01355453703582482,
           -0.022160637156156463,
           0.028159469107977095,
           1,
           -0.02869722993256853,
           0.0049542176212404665,
           -2.1685412502698303e-05,
           -0.0022326816758132437,
           -0.001300642662964495,
           0.07920770433774828,
           -0.2740713085898581,
           0.008591979949621468,
           -0.0033959935886327193,
           0.016036217695073914,
           0.0060124924199556895,
           -0.01704608840697252,
           0.04839682735746587,
           -0.017458844103342464,
           0.028159469107977095,
           1,
           0.09128780154139544,
           0.005301959297839889,
           -0.06966552947022571,
           0.006207223277771375,
           0.003819972150459654
          ],
          [
           -0.05941753597385348,
           -0.04202339407896121,
           -0.012511002435871292,
           -0.018877685897006957,
           -0.12655976080868653,
           0.08692441724427923,
           0.044233914158931846,
           0.3108001617143452,
           -0.06149532656556001,
           -0.023667120662233632,
           0.1134286476080985,
           0.09128780154139544,
           -0.11318304539680553,
           -0.09208425009891394,
           -0.07892717150888029,
           0.01346183021155967,
           -0.042704304562822745,
           0.039650713024242494,
           -0.24623920609031028,
           0.5737313738947518,
           -0.009902549919167987,
           0.024517544532651106,
           -0.0009102924356842478,
           -0.05659245887178202,
           -0.0071806446801647925,
           -0.060866621126298356,
           0.1134286476080985,
           0.09128780154139544,
           1,
           0.0005364652796505158,
           -0.13343397058000167,
           0.04811432661455629,
           -0.00964151154992565
          ],
          [
           0.009505308233873633,
           0.06467516861738053,
           0.07898153713234106,
           -0.00891975898325693,
           0.02314390061531806,
           0.02254778773374951,
           -0.04981923484293946,
           0.03245279026302043,
           0.03351555762918294,
           -0.011914271812297253,
           -0.09620221310338195,
           0.005301959297839889,
           0.09722386409880454,
           0.03281903440941293,
           0.04242494422823821,
           0.06258504227115268,
           0.010074144951048246,
           0.03876352844946469,
           -0.2171620131294267,
           -0.04914114685670128,
           -0.009027590384652368,
           0.6641775777833923,
           0.5486825120316664,
           0.058798807521340646,
           -0.00472045505333211,
           0.10912277849790003,
           -0.09620221310338195,
           0.005301959297839889,
           0.0005364652796505158,
           1,
           0.29535648890194,
           0.0224616321566958,
           0.017138108352767096
          ],
          [
           -0.17160161824591108,
           -0.5544750377146468,
           -0.034199278402838394,
           -0.2506402059138017,
           -0.17160161824591108,
           -0.009685485552825727,
           -0.28035522646493527,
           -0.3636267811030918,
           -0.1305158904647152,
           null,
           -0.012659242088545882,
           -0.06966552947022571,
           0.013122839505736157,
           0.10107594250783003,
           0.41643645093413273,
           -0.04483569625041251,
           -0.17160161824591105,
           -0.19599395068311168,
           null,
           0.24514516892272986,
           -0.06052275326688024,
           -0.08832469044824406,
           0.22807901372644937,
           0.35028805601029545,
           0.22032973096619185,
           0.358057437019717,
           -0.012659242088545882,
           -0.06966552947022571,
           -0.13343397058000167,
           0.29535648890194,
           1,
           null,
           0.358057437019717
          ],
          [
           0.0003368674139763155,
           -0.003087427692590815,
           -0.03155449772460691,
           0.010210665635405554,
           -0.013520089032738087,
           0.013797213676141003,
           0.02239059551870336,
           -0.008648978023459365,
           -0.010187686413279376,
           -0.0023346545992868045,
           0.017360778101479964,
           0.006207223277771375,
           -0.017745387744223257,
           -0.018689878327470096,
           -0.01067182346124444,
           -0.0012709589060006562,
           -9.651230166539045e-05,
           0.02007171097882908,
           -0.18139331227755656,
           0.0035064226788196155,
           0.007817606150431563,
           0.036933013567613984,
           0.02750522192004214,
           -0.002052840768126105,
           0.011301396392506779,
           -0.012763413059760137,
           0.017360778101479964,
           0.006207223277771375,
           0.04811432661455629,
           0.0224616321566958,
           null,
           1,
           -0.008791796673691399
          ],
          [
           -0.0049654667087490525,
           -0.009859386351814204,
           -0.014359434675937208,
           0.003446143703024322,
           0.009952898772105735,
           0.017750914202650844,
           0.028201050955931242,
           -0.005579708846392614,
           0.05122429723631644,
           -0.05298004851625202,
           -0.042258891422060144,
           0.003819972150459654,
           0.042526285916186866,
           0.024448633358672953,
           0.020758570126570647,
           0.025852416221372146,
           0.001988068078445503,
           0.02702403127262823,
           -0.020047367844602725,
           0.003930028373980882,
           0.003137273273211905,
           0.02404045516774289,
           0.03424320700453463,
           0.018685447568292192,
           0.04833696371624942,
           0.05946755579328994,
           -0.042258891422060144,
           0.003819972150459654,
           -0.00964151154992565,
           0.017138108352767096,
           0.358057437019717,
           -0.008791796673691399,
           1
          ]
         ]
        }
       ],
       "layout": {
        "height": 700,
        "template": {
         "data": {
          "bar": [
           {
            "error_x": {
             "color": "#2a3f5f"
            },
            "error_y": {
             "color": "#2a3f5f"
            },
            "marker": {
             "line": {
              "color": "#E5ECF6",
              "width": 0.5
             }
            },
            "type": "bar"
           }
          ],
          "barpolar": [
           {
            "marker": {
             "line": {
              "color": "#E5ECF6",
              "width": 0.5
             }
            },
            "type": "barpolar"
           }
          ],
          "carpet": [
           {
            "aaxis": {
             "endlinecolor": "#2a3f5f",
             "gridcolor": "white",
             "linecolor": "white",
             "minorgridcolor": "white",
             "startlinecolor": "#2a3f5f"
            },
            "baxis": {
             "endlinecolor": "#2a3f5f",
             "gridcolor": "white",
             "linecolor": "white",
             "minorgridcolor": "white",
             "startlinecolor": "#2a3f5f"
            },
            "type": "carpet"
           }
          ],
          "choropleth": [
           {
            "colorbar": {
             "outlinewidth": 0,
             "ticks": ""
            },
            "type": "choropleth"
           }
          ],
          "contour": [
           {
            "colorbar": {
             "outlinewidth": 0,
             "ticks": ""
            },
            "colorscale": [
             [
              0,
              "#0d0887"
             ],
             [
              0.1111111111111111,
              "#46039f"
             ],
             [
              0.2222222222222222,
              "#7201a8"
             ],
             [
              0.3333333333333333,
              "#9c179e"
             ],
             [
              0.4444444444444444,
              "#bd3786"
             ],
             [
              0.5555555555555556,
              "#d8576b"
             ],
             [
              0.6666666666666666,
              "#ed7953"
             ],
             [
              0.7777777777777778,
              "#fb9f3a"
             ],
             [
              0.8888888888888888,
              "#fdca26"
             ],
             [
              1,
              "#f0f921"
             ]
            ],
            "type": "contour"
           }
          ],
          "contourcarpet": [
           {
            "colorbar": {
             "outlinewidth": 0,
             "ticks": ""
            },
            "type": "contourcarpet"
           }
          ],
          "heatmap": [
           {
            "colorbar": {
             "outlinewidth": 0,
             "ticks": ""
            },
            "colorscale": [
             [
              0,
              "#0d0887"
             ],
             [
              0.1111111111111111,
              "#46039f"
             ],
             [
              0.2222222222222222,
              "#7201a8"
             ],
             [
              0.3333333333333333,
              "#9c179e"
             ],
             [
              0.4444444444444444,
              "#bd3786"
             ],
             [
              0.5555555555555556,
              "#d8576b"
             ],
             [
              0.6666666666666666,
              "#ed7953"
             ],
             [
              0.7777777777777778,
              "#fb9f3a"
             ],
             [
              0.8888888888888888,
              "#fdca26"
             ],
             [
              1,
              "#f0f921"
             ]
            ],
            "type": "heatmap"
           }
          ],
          "heatmapgl": [
           {
            "colorbar": {
             "outlinewidth": 0,
             "ticks": ""
            },
            "colorscale": [
             [
              0,
              "#0d0887"
             ],
             [
              0.1111111111111111,
              "#46039f"
             ],
             [
              0.2222222222222222,
              "#7201a8"
             ],
             [
              0.3333333333333333,
              "#9c179e"
             ],
             [
              0.4444444444444444,
              "#bd3786"
             ],
             [
              0.5555555555555556,
              "#d8576b"
             ],
             [
              0.6666666666666666,
              "#ed7953"
             ],
             [
              0.7777777777777778,
              "#fb9f3a"
             ],
             [
              0.8888888888888888,
              "#fdca26"
             ],
             [
              1,
              "#f0f921"
             ]
            ],
            "type": "heatmapgl"
           }
          ],
          "histogram": [
           {
            "marker": {
             "colorbar": {
              "outlinewidth": 0,
              "ticks": ""
             }
            },
            "type": "histogram"
           }
          ],
          "histogram2d": [
           {
            "colorbar": {
             "outlinewidth": 0,
             "ticks": ""
            },
            "colorscale": [
             [
              0,
              "#0d0887"
             ],
             [
              0.1111111111111111,
              "#46039f"
             ],
             [
              0.2222222222222222,
              "#7201a8"
             ],
             [
              0.3333333333333333,
              "#9c179e"
             ],
             [
              0.4444444444444444,
              "#bd3786"
             ],
             [
              0.5555555555555556,
              "#d8576b"
             ],
             [
              0.6666666666666666,
              "#ed7953"
             ],
             [
              0.7777777777777778,
              "#fb9f3a"
             ],
             [
              0.8888888888888888,
              "#fdca26"
             ],
             [
              1,
              "#f0f921"
             ]
            ],
            "type": "histogram2d"
           }
          ],
          "histogram2dcontour": [
           {
            "colorbar": {
             "outlinewidth": 0,
             "ticks": ""
            },
            "colorscale": [
             [
              0,
              "#0d0887"
             ],
             [
              0.1111111111111111,
              "#46039f"
             ],
             [
              0.2222222222222222,
              "#7201a8"
             ],
             [
              0.3333333333333333,
              "#9c179e"
             ],
             [
              0.4444444444444444,
              "#bd3786"
             ],
             [
              0.5555555555555556,
              "#d8576b"
             ],
             [
              0.6666666666666666,
              "#ed7953"
             ],
             [
              0.7777777777777778,
              "#fb9f3a"
             ],
             [
              0.8888888888888888,
              "#fdca26"
             ],
             [
              1,
              "#f0f921"
             ]
            ],
            "type": "histogram2dcontour"
           }
          ],
          "mesh3d": [
           {
            "colorbar": {
             "outlinewidth": 0,
             "ticks": ""
            },
            "type": "mesh3d"
           }
          ],
          "parcoords": [
           {
            "line": {
             "colorbar": {
              "outlinewidth": 0,
              "ticks": ""
             }
            },
            "type": "parcoords"
           }
          ],
          "scatter": [
           {
            "marker": {
             "colorbar": {
              "outlinewidth": 0,
              "ticks": ""
             }
            },
            "type": "scatter"
           }
          ],
          "scatter3d": [
           {
            "line": {
             "colorbar": {
              "outlinewidth": 0,
              "ticks": ""
             }
            },
            "marker": {
             "colorbar": {
              "outlinewidth": 0,
              "ticks": ""
             }
            },
            "type": "scatter3d"
           }
          ],
          "scattercarpet": [
           {
            "marker": {
             "colorbar": {
              "outlinewidth": 0,
              "ticks": ""
             }
            },
            "type": "scattercarpet"
           }
          ],
          "scattergeo": [
           {
            "marker": {
             "colorbar": {
              "outlinewidth": 0,
              "ticks": ""
             }
            },
            "type": "scattergeo"
           }
          ],
          "scattergl": [
           {
            "marker": {
             "colorbar": {
              "outlinewidth": 0,
              "ticks": ""
             }
            },
            "type": "scattergl"
           }
          ],
          "scattermapbox": [
           {
            "marker": {
             "colorbar": {
              "outlinewidth": 0,
              "ticks": ""
             }
            },
            "type": "scattermapbox"
           }
          ],
          "scatterpolar": [
           {
            "marker": {
             "colorbar": {
              "outlinewidth": 0,
              "ticks": ""
             }
            },
            "type": "scatterpolar"
           }
          ],
          "scatterpolargl": [
           {
            "marker": {
             "colorbar": {
              "outlinewidth": 0,
              "ticks": ""
             }
            },
            "type": "scatterpolargl"
           }
          ],
          "scatterternary": [
           {
            "marker": {
             "colorbar": {
              "outlinewidth": 0,
              "ticks": ""
             }
            },
            "type": "scatterternary"
           }
          ],
          "surface": [
           {
            "colorbar": {
             "outlinewidth": 0,
             "ticks": ""
            },
            "colorscale": [
             [
              0,
              "#0d0887"
             ],
             [
              0.1111111111111111,
              "#46039f"
             ],
             [
              0.2222222222222222,
              "#7201a8"
             ],
             [
              0.3333333333333333,
              "#9c179e"
             ],
             [
              0.4444444444444444,
              "#bd3786"
             ],
             [
              0.5555555555555556,
              "#d8576b"
             ],
             [
              0.6666666666666666,
              "#ed7953"
             ],
             [
              0.7777777777777778,
              "#fb9f3a"
             ],
             [
              0.8888888888888888,
              "#fdca26"
             ],
             [
              1,
              "#f0f921"
             ]
            ],
            "type": "surface"
           }
          ],
          "table": [
           {
            "cells": {
             "fill": {
              "color": "#EBF0F8"
             },
             "line": {
              "color": "white"
             }
            },
            "header": {
             "fill": {
              "color": "#C8D4E3"
             },
             "line": {
              "color": "white"
             }
            },
            "type": "table"
           }
          ]
         },
         "layout": {
          "annotationdefaults": {
           "arrowcolor": "#2a3f5f",
           "arrowhead": 0,
           "arrowwidth": 1
          },
          "colorscale": {
           "diverging": [
            [
             0,
             "#8e0152"
            ],
            [
             0.1,
             "#c51b7d"
            ],
            [
             0.2,
             "#de77ae"
            ],
            [
             0.3,
             "#f1b6da"
            ],
            [
             0.4,
             "#fde0ef"
            ],
            [
             0.5,
             "#f7f7f7"
            ],
            [
             0.6,
             "#e6f5d0"
            ],
            [
             0.7,
             "#b8e186"
            ],
            [
             0.8,
             "#7fbc41"
            ],
            [
             0.9,
             "#4d9221"
            ],
            [
             1,
             "#276419"
            ]
           ],
           "sequential": [
            [
             0,
             "#0d0887"
            ],
            [
             0.1111111111111111,
             "#46039f"
            ],
            [
             0.2222222222222222,
             "#7201a8"
            ],
            [
             0.3333333333333333,
             "#9c179e"
            ],
            [
             0.4444444444444444,
             "#bd3786"
            ],
            [
             0.5555555555555556,
             "#d8576b"
            ],
            [
             0.6666666666666666,
             "#ed7953"
            ],
            [
             0.7777777777777778,
             "#fb9f3a"
            ],
            [
             0.8888888888888888,
             "#fdca26"
            ],
            [
             1,
             "#f0f921"
            ]
           ],
           "sequentialminus": [
            [
             0,
             "#0d0887"
            ],
            [
             0.1111111111111111,
             "#46039f"
            ],
            [
             0.2222222222222222,
             "#7201a8"
            ],
            [
             0.3333333333333333,
             "#9c179e"
            ],
            [
             0.4444444444444444,
             "#bd3786"
            ],
            [
             0.5555555555555556,
             "#d8576b"
            ],
            [
             0.6666666666666666,
             "#ed7953"
            ],
            [
             0.7777777777777778,
             "#fb9f3a"
            ],
            [
             0.8888888888888888,
             "#fdca26"
            ],
            [
             1,
             "#f0f921"
            ]
           ]
          },
          "colorway": [
           "#636efa",
           "#EF553B",
           "#00cc96",
           "#ab63fa",
           "#FFA15A",
           "#19d3f3",
           "#FF6692",
           "#B6E880",
           "#FF97FF",
           "#FECB52"
          ],
          "font": {
           "color": "#2a3f5f"
          },
          "geo": {
           "bgcolor": "white",
           "lakecolor": "white",
           "landcolor": "#E5ECF6",
           "showlakes": true,
           "showland": true,
           "subunitcolor": "white"
          },
          "hoverlabel": {
           "align": "left"
          },
          "hovermode": "closest",
          "mapbox": {
           "style": "light"
          },
          "paper_bgcolor": "white",
          "plot_bgcolor": "#E5ECF6",
          "polar": {
           "angularaxis": {
            "gridcolor": "white",
            "linecolor": "white",
            "ticks": ""
           },
           "bgcolor": "#E5ECF6",
           "radialaxis": {
            "gridcolor": "white",
            "linecolor": "white",
            "ticks": ""
           }
          },
          "scene": {
           "xaxis": {
            "backgroundcolor": "#E5ECF6",
            "gridcolor": "white",
            "gridwidth": 2,
            "linecolor": "white",
            "showbackground": true,
            "ticks": "",
            "zerolinecolor": "white"
           },
           "yaxis": {
            "backgroundcolor": "#E5ECF6",
            "gridcolor": "white",
            "gridwidth": 2,
            "linecolor": "white",
            "showbackground": true,
            "ticks": "",
            "zerolinecolor": "white"
           },
           "zaxis": {
            "backgroundcolor": "#E5ECF6",
            "gridcolor": "white",
            "gridwidth": 2,
            "linecolor": "white",
            "showbackground": true,
            "ticks": "",
            "zerolinecolor": "white"
           }
          },
          "shapedefaults": {
           "line": {
            "color": "#2a3f5f"
           }
          },
          "ternary": {
           "aaxis": {
            "gridcolor": "white",
            "linecolor": "white",
            "ticks": ""
           },
           "baxis": {
            "gridcolor": "white",
            "linecolor": "white",
            "ticks": ""
           },
           "bgcolor": "#E5ECF6",
           "caxis": {
            "gridcolor": "white",
            "linecolor": "white",
            "ticks": ""
           }
          },
          "title": {
           "x": 0.05
          },
          "xaxis": {
           "automargin": true,
           "gridcolor": "white",
           "linecolor": "white",
           "ticks": "",
           "zerolinecolor": "white",
           "zerolinewidth": 2
          },
          "yaxis": {
           "automargin": true,
           "gridcolor": "white",
           "linecolor": "white",
           "ticks": "",
           "zerolinecolor": "white",
           "zerolinewidth": 2
          }
         }
        },
        "title": {
         "text": "Pearson Correlation for Data"
        },
        "width": 800,
        "xaxis": {
         "nticks": 36,
         "ticks": ""
        },
        "yaxis": {
         "ticks": ""
        }
       }
      },
      "text/html": [
       "<div>\n",
       "        \n",
       "        \n",
       "            <div id=\"efad48c0-0403-428f-9277-9d9ff886186c\" class=\"plotly-graph-div\" style=\"height:700px; width:800px;\"></div>\n",
       "            <script type=\"text/javascript\">\n",
       "                require([\"plotly\"], function(Plotly) {\n",
       "                    window.PLOTLYENV=window.PLOTLYENV || {};\n",
       "                    \n",
       "                if (document.getElementById(\"efad48c0-0403-428f-9277-9d9ff886186c\")) {\n",
       "                    Plotly.newPlot(\n",
       "                        'efad48c0-0403-428f-9277-9d9ff886186c',\n",
       "                        [{\"colorscale\": [[0.0, \"#440154\"], [0.1111111111111111, \"#482878\"], [0.2222222222222222, \"#3e4989\"], [0.3333333333333333, \"#31688e\"], [0.4444444444444444, \"#26828e\"], [0.5555555555555556, \"#1f9e89\"], [0.6666666666666666, \"#35b779\"], [0.7777777777777778, \"#6ece58\"], [0.8888888888888888, \"#b5de2b\"], [1.0, \"#fde725\"]], \"opacity\": 1.0, \"reversescale\": false, \"type\": \"heatmap\", \"x\": [\"Bad_label\", \"customer_no\", \"feature_14\", \"feature_19\", \"feature_25\", \"feature_26\", \"feature_29\", \"feature_3\", \"feature_30\", \"feature_31\", \"feature_34\", \"feature_35\", \"feature_39\", \"feature_4\", \"feature_40\", \"feature_41\", \"feature_42\", \"feature_44\", \"feature_49\", \"feature_52\", \"feature_55\", \"feature_56\", \"feature_64\", \"feature_65\", \"feature_66\", \"feature_67\", \"feature_68\", \"feature_69\", \"feature_7\", \"feature_71\", \"feature_74\", \"feature_76\", \"feature_78\"], \"y\": [\"Bad_label\", \"customer_no\", \"feature_14\", \"feature_19\", \"feature_25\", \"feature_26\", \"feature_29\", \"feature_3\", \"feature_30\", \"feature_31\", \"feature_34\", \"feature_35\", \"feature_39\", \"feature_4\", \"feature_40\", \"feature_41\", \"feature_42\", \"feature_44\", \"feature_49\", \"feature_52\", \"feature_55\", \"feature_56\", \"feature_64\", \"feature_65\", \"feature_66\", \"feature_67\", \"feature_68\", \"feature_69\", \"feature_7\", \"feature_71\", \"feature_74\", \"feature_76\", \"feature_78\"], \"z\": [[1.0, -0.0016734756064113448, -0.004178294401314073, 0.0052400605493236494, 0.021890037027618697, -0.024275324172295557, -0.018597372433596233, -0.045324986199290186, 0.006465609313335366, -0.006704939676163029, 0.01623083089046771, -0.007513050309912021, -0.016562162692539725, 0.017171713369064052, -0.004737214132921708, -0.025934629378325202, -0.002602027571618253, -0.01711741347377567, 0.09897414945083353, -0.05369324852699969, 0.006461139447748692, 0.001373669308221703, 0.0035701777211337793, 0.005321739178128617, -0.012901356726484662, 0.0038083265816044607, 0.01623083089046771, -0.007513050309912021, -0.05941753597385348, 0.009505308233873633, -0.17160161824591108, 0.0003368674139763155, -0.0049654667087490525], [-0.0016734756064113448, 1.0, 0.4906137927170692, -0.0036820705147334516, 0.03591924447353271, -0.3083197808248261, -0.23775998034078813, 0.03095145197436406, -0.022391903830761447, 0.19978034689307642, -0.008920050387686182, -0.0534459750241136, 0.00927687217884736, -0.20107473546344953, 0.00552546443341653, -0.03543627696825062, 0.018294525963836995, -0.23402519605589597, 0.3578456961244306, -0.0804761194305393, -0.007234686731651413, 0.03684281673164282, 0.052522360561311356, 0.05604113251731871, -0.15073436020667694, 0.04373306272649426, -0.008920050387686182, -0.0534459750241136, -0.04202339407896121, 0.06467516861738053, -0.5544750377146468, -0.003087427692590815, -0.009859386351814204], [-0.004178294401314073, 0.4906137927170692, 1.0, -0.01760441278858417, 0.00555845969777517, 0.03706819006397056, -0.5901878374901005, 0.017656588312791495, -0.04247952191811071, -0.06730124651090671, -0.03659466103231104, -0.04404594901735324, 0.03681477259203872, 0.13490121423742824, -0.06570289109807573, -0.0022102590154883116, 0.014144531439144098, -0.5830178719779557, 0.2777011431511867, 0.018858895445926775, -0.023793962551618437, 0.014383820717524578, 0.0751891056448548, 0.10258549343229677, -0.33384187092411793, 0.18710311055657114, -0.03659466103231104, -0.04404594901735324, -0.012511002435871292, 0.07898153713234106, -0.034199278402838394, -0.03155449772460691, -0.014359434675937208], [0.0052400605493236494, -0.0036820705147334516, -0.01760441278858417, 1.0, 0.016425217758851876, -0.045214172327090185, -0.017524033520058387, 0.03924421272821155, 0.0337974574687237, 0.011151351564096544, 0.02927666755214475, -0.0037675343695190108, -0.029063689491814565, -0.026289579826971384, -0.015031413334927003, -0.03739915406840674, -0.00661856814004961, -0.018594658965559886, -0.01561699455265159, -0.03925940134005741, 0.9183545026952268, -0.007163651186741392, -0.012487917104343585, -0.022052924096134817, -0.04713552022366206, -0.03764713600240014, 0.02927666755214475, -0.0037675343695190108, -0.018877685897006957, -0.00891975898325693, -0.2506402059138017, 0.010210665635405554, 0.003446143703024322], [0.021890037027618697, 0.03591924447353271, 0.00555845969777517, 0.016425217758851876, 1.0, -0.24914752853036076, -0.04460110896604431, -0.1150930157249576, 0.05438902651641541, 0.007266135935972198, -0.10173136671116978, -0.02702803867595351, 0.10309248939653032, 0.028980936834074836, 0.08088785804967924, -0.131967619787549, 0.09787745271059255, -0.0341270540031592, 0.12933919295168658, -0.05878652947217029, -0.03992157100588156, -0.027280297391354492, 0.004213974595492685, 0.028328969233114523, 0.008867377028778751, 0.07144879083351079, -0.10173136671116978, -0.02702803867595351, -0.12655976080868653, 0.02314390061531806, -0.17160161824591108, -0.013520089032738087, 0.009952898772105735], [-0.024275324172295557, -0.3083197808248261, 0.03706819006397056, -0.045214172327090185, -0.24914752853036076, 1.0, 0.08846381242670538, 0.033914196252537596, -0.029486268552520734, -0.16792428699701073, 0.014278987880019819, 0.05739258455905099, -0.01373114044743883, 0.18732290322392475, -0.029788862378196404, 0.10053360896563625, -0.04807204379424284, 0.08499756826063036, -0.1563656706493814, 0.11079300624209652, -0.03299088207674153, 0.04724639159850935, 0.026701937086181106, -0.012503052265079051, 0.04246834922383013, -0.029659345259994217, 0.014278987880019819, 0.05739258455905099, 0.08692441724427923, 0.02254778773374951, -0.009685485552825727, 0.013797213676141003, 0.017750914202650844], [-0.018597372433596233, -0.23775998034078813, -0.5901878374901005, -0.017524033520058387, -0.04460110896604431, 0.08846381242670538, 1.0, -0.01334747297768176, 0.07754670893280338, -0.020106773727077337, -0.00668825375680681, 0.08047083096767527, 0.007432650832454447, -0.15188009631663454, 0.08203775434907228, 0.0694722568184024, -0.0060323340060319695, 0.9831999311791741, -0.1832548626613713, 0.049117637259595025, -0.015244518986245426, 0.08791027027105532, -0.02281145293230413, -0.152680874578784, 0.6505723795091825, -0.20112646378520008, -0.00668825375680681, 0.08047083096767527, 0.044233914158931846, -0.04981923484293946, -0.28035522646493527, 0.02239059551870336, 0.028201050955931242], [-0.045324986199290186, 0.03095145197436406, 0.017656588312791495, 0.03924421272821155, -0.1150930157249576, 0.033914196252537596, -0.01334747297768176, 1.0, -0.05683515888464552, 0.004059299070045524, 0.11154777246485849, 0.05258882644985929, -0.11088943684512462, -0.24971817823927422, -0.081547390911004, -0.005147366046049577, -0.04425172622021079, -0.019027377701911402, 0.24159712346815512, 0.05608922934988052, 0.04117660061446218, 0.06067605314751931, 0.031023624844398096, -0.04067195733547864, -0.060671717651005756, -0.06824157892486431, 0.11154777246485849, 0.05258882644985929, 0.3108001617143452, 0.03245279026302043, -0.3636267811030918, -0.008648978023459365, -0.005579708846392614], [0.006465609313335366, -0.022391903830761447, -0.04247952191811071, 0.0337974574687237, 0.05438902651641541, -0.029486268552520734, 0.07754670893280338, -0.05683515888464552, 1.0, -0.0063289582943158946, -0.21098887070224379, 0.01355453703582482, 0.2125417382766754, 0.03646655821386578, 0.15681015242174842, 0.11759481225169206, 0.05189595448450966, 0.07677942698616616, 0.025076517690608164, -0.049536009191954854, 0.038722857649436664, 0.04807617598836597, 0.14137420090433267, 0.12853177012573266, 0.23549377982661557, 0.35997430994240914, -0.21098887070224379, 0.01355453703582482, -0.06149532656556001, 0.03351555762918294, -0.1305158904647152, -0.010187686413279376, 0.05122429723631644], [-0.006704939676163029, 0.19978034689307642, -0.06730124651090671, 0.011151351564096544, 0.007266135935972198, -0.16792428699701073, -0.020106773727077337, 0.004059299070045524, -0.0063289582943158946, 1.0, 0.025977020377948055, -0.022160637156156463, -0.027214505145376388, -0.22278909247734455, 0.12358793342532028, -0.030019797546593018, 0.018635494276994565, -0.021087046136896145, -0.0034258570611554154, -0.04797819187687934, 0.013781259284652056, -0.009951574381052864, -0.012990375595360495, -0.011119938940639047, -0.026352580624382137, -0.028757511758070342, 0.025977020377948055, -0.022160637156156463, -0.023667120662233632, -0.011914271812297253, null, -0.0023346545992868045, -0.05298004851625202], [0.01623083089046771, -0.008920050387686182, -0.03659466103231104, 0.02927666755214475, -0.10173136671116978, 0.014278987880019819, -0.00668825375680681, 0.11154777246485849, -0.21098887070224379, 0.025977020377948055, 1.0, 0.028159469107977095, -0.9958207338060852, -0.0739922012347653, -0.5185161945244672, -0.761586786065272, -0.09198607069907751, -0.020431389751895422, -0.23002146654727307, 0.10224026195961143, 0.04362640996219001, -0.03921813134930819, -0.09115676565454607, -0.07370692736869096, -0.10078705545359354, -0.18373629660607538, 1.0, 0.028159469107977095, 0.1134286476080985, -0.09620221310338195, -0.012659242088545882, 0.017360778101479964, -0.042258891422060144], [-0.007513050309912021, -0.0534459750241136, -0.04404594901735324, -0.0037675343695190108, -0.02702803867595351, 0.05739258455905099, 0.08047083096767527, 0.05258882644985929, 0.01355453703582482, -0.022160637156156463, 0.028159469107977095, 1.0, -0.02869722993256853, 0.0049542176212404665, -2.1685412502698303e-05, -0.0022326816758132437, -0.001300642662964495, 0.07920770433774828, -0.2740713085898581, 0.008591979949621468, -0.0033959935886327193, 0.016036217695073914, 0.0060124924199556895, -0.01704608840697252, 0.04839682735746587, -0.017458844103342464, 0.028159469107977095, 1.0, 0.09128780154139544, 0.005301959297839889, -0.06966552947022571, 0.006207223277771375, 0.003819972150459654], [-0.016562162692539725, 0.00927687217884736, 0.03681477259203872, -0.029063689491814565, 0.10309248939653032, -0.01373114044743883, 0.007432650832454447, -0.11088943684512462, 0.2125417382766754, -0.027214505145376388, -0.9958207338060852, -0.02869722993256853, 1.0, 0.0745556839952114, 0.5213200782896844, 0.7635486499754285, 0.09282590066327556, 0.021133800455561874, 0.2307426257648506, -0.10150334462715385, -0.04317499486401691, 0.04057689530664754, 0.09258364380753957, 0.07469083979608632, 0.10179552009064437, 0.18510075983720573, -0.9958207338060852, -0.02869722993256853, -0.11318304539680553, 0.09722386409880454, 0.013122839505736157, -0.017745387744223257, 0.042526285916186866], [0.017171713369064052, -0.20107473546344953, 0.13490121423742824, -0.026289579826971384, 0.028980936834074836, 0.18732290322392475, -0.15188009631663454, -0.24971817823927422, 0.03646655821386578, -0.22278909247734455, -0.0739922012347653, 0.0049542176212404665, 0.0745556839952114, 1.0, 0.0003877491491304925, 0.027412580528898903, 0.01875524267907962, -0.14920148937400662, 0.028151088925851185, 0.0623584791836542, -0.026591811590630336, 0.014633711011401524, 0.043422586042373944, 0.07671002544629045, -0.0736877126991876, 0.08551085971721395, -0.0739922012347653, 0.0049542176212404665, -0.09208425009891394, 0.03281903440941293, 0.10107594250783003, -0.018689878327470096, 0.024448633358672953], [-0.004737214132921708, 0.00552546443341653, -0.06570289109807573, -0.015031413334927003, 0.08088785804967924, -0.029788862378196404, 0.08203775434907228, -0.081547390911004, 0.15681015242174842, 0.12358793342532028, -0.5185161945244672, -2.1685412502698303e-05, 0.5213200782896844, 0.0003877491491304925, 1.0, 0.34997076490862755, 0.06013577113189484, 0.09032780069829906, 0.09895543686342936, -0.08118439486281255, -0.026951996956566793, 0.01267125118216513, 0.030197076181122755, 0.023789455426985164, 0.09851935227618983, 0.07619970674715273, -0.5185161945244672, -2.1685412502698303e-05, -0.07892717150888029, 0.04242494422823821, 0.41643645093413273, -0.01067182346124444, 0.020758570126570647], [-0.025934629378325202, -0.03543627696825062, -0.0022102590154883116, -0.03739915406840674, -0.131967619787549, 0.10053360896563625, 0.0694722568184024, -0.005147366046049577, 0.11759481225169206, -0.030019797546593018, -0.761586786065272, -0.0022326816758132437, 0.7635486499754285, 0.027412580528898903, 0.34997076490862755, 1.0, -0.07527494161832818, 0.07515356450584164, 0.1287685543207694, -0.020961216344980774, -0.03907926059019876, 0.044918092529223436, 0.060492690286815504, 0.02323015104108353, 0.0945930987722579, 0.0801039617580518, -0.761586786065272, -0.0022326816758132437, 0.01346183021155967, 0.06258504227115268, -0.04483569625041251, -0.0012709589060006562, 0.025852416221372146], [-0.002602027571618253, 0.018294525963836995, 0.014144531439144098, -0.00661856814004961, 0.09787745271059255, -0.04807204379424284, -0.0060323340060319695, -0.04425172622021079, 0.05189595448450966, 0.018635494276994565, -0.09198607069907751, -0.001300642662964495, 0.09282590066327556, 0.01875524267907962, 0.06013577113189484, -0.07527494161832818, 1.0, -0.002004260992923452, 0.04097088358215071, -0.03181457011226867, -0.009670420275919984, -0.00810198763716857, 0.00877035325383328, 0.01124721366591432, 0.024882550131647287, 0.05328726330615891, -0.09198607069907751, -0.001300642662964495, -0.042704304562822745, 0.010074144951048246, -0.17160161824591105, -9.651230166539045e-05, 0.001988068078445503], [-0.01711741347377567, -0.23402519605589597, -0.5830178719779557, -0.018594658965559886, -0.0341270540031592, 0.08499756826063036, 0.9831999311791741, -0.019027377701911402, 0.07677942698616616, -0.021087046136896145, -0.020431389751895422, 0.07920770433774828, 0.021133800455561874, -0.14920148937400662, 0.09032780069829906, 0.07515356450584164, -0.002004260992923452, 1.0, -0.17561264492592424, 0.04694973927733747, -0.0163410938417571, 0.030976562195553874, -0.05865624690923183, -0.14219308061347496, 0.6462172416752529, -0.19497866187176463, -0.020431389751895422, 0.07920770433774828, 0.039650713024242494, 0.03876352844946469, -0.19599395068311168, 0.02007171097882908, 0.02702403127262823], [0.09897414945083353, 0.3578456961244306, 0.2777011431511867, -0.01561699455265159, 0.12933919295168658, -0.1563656706493814, -0.1832548626613713, 0.24159712346815512, 0.025076517690608164, -0.0034258570611554154, -0.23002146654727307, -0.2740713085898581, 0.2307426257648506, 0.028151088925851185, 0.09895543686342936, 0.1287685543207694, 0.04097088358215071, -0.17561264492592424, 1.0, -0.0019171930961374558, 0.007332822712596412, -0.24485577436196693, -0.23695787421060732, 0.07817980865268657, -0.18571392868169245, 0.09897414945083365, -0.23002146654727307, -0.2740713085898581, -0.24623920609031028, -0.2171620131294267, null, -0.18139331227755656, -0.020047367844602725], [-0.05369324852699969, -0.0804761194305393, 0.018858895445926775, -0.03925940134005741, -0.05878652947217029, 0.11079300624209652, 0.049117637259595025, 0.05608922934988052, -0.049536009191954854, -0.04797819187687934, 0.10224026195961143, 0.008591979949621468, -0.10150334462715385, 0.0623584791836542, -0.08118439486281255, -0.020961216344980774, -0.03181457011226867, 0.04694973927733747, -0.0019171930961374558, 1.0, -0.03265205437995172, -0.03804209212873235, -0.047826119406153986, -0.032750940512638604, 0.013075394479416738, -0.04022162259493776, 0.10224026195961143, 0.008591979949621468, 0.5737313738947518, -0.04914114685670128, 0.24514516892272986, 0.0035064226788196155, 0.003930028373980882], [0.006461139447748692, -0.007234686731651413, -0.023793962551618437, 0.9183545026952268, -0.03992157100588156, -0.03299088207674153, -0.015244518986245426, 0.04117660061446218, 0.038722857649436664, 0.013781259284652056, 0.04362640996219001, -0.0033959935886327193, -0.04317499486401691, -0.026591811590630336, -0.026951996956566793, -0.03907926059019876, -0.009670420275919984, -0.0163410938417571, 0.007332822712596412, -0.03265205437995172, 1.0, -0.007085702912028665, -0.013105595500671134, -0.020565511320814668, -0.04430759338683237, -0.03485208120567276, 0.04362640996219001, -0.0033959935886327193, -0.009902549919167987, -0.009027590384652368, -0.06052275326688024, 0.007817606150431563, 0.003137273273211905], [0.001373669308221703, 0.03684281673164282, 0.014383820717524578, -0.007163651186741392, -0.027280297391354492, 0.04724639159850935, 0.08791027027105532, 0.06067605314751931, 0.04807617598836597, -0.009951574381052864, -0.03921813134930819, 0.016036217695073914, 0.04057689530664754, 0.014633711011401524, 0.01267125118216513, 0.044918092529223436, -0.00810198763716857, 0.030976562195553874, -0.24485577436196693, -0.03804209212873235, -0.007085702912028665, 1.0, 0.7655193469493534, -0.002449469088535066, 0.05543754697288992, 0.07655304069310764, -0.03921813134930819, 0.016036217695073914, 0.024517544532651106, 0.6641775777833923, -0.08832469044824406, 0.036933013567613984, 0.02404045516774289], [0.0035701777211337793, 0.052522360561311356, 0.0751891056448548, -0.012487917104343585, 0.004213974595492685, 0.026701937086181106, -0.02281145293230413, 0.031023624844398096, 0.14137420090433267, -0.012990375595360495, -0.09115676565454607, 0.0060124924199556895, 0.09258364380753957, 0.043422586042373944, 0.030197076181122755, 0.060492690286815504, 0.00877035325383328, -0.05865624690923183, -0.23695787421060732, -0.047826119406153986, -0.013105595500671134, 0.7655193469493534, 1.0, 0.10043658817979555, 0.009244467568294112, 0.34285336552821033, -0.09115676565454607, 0.0060124924199556895, -0.0009102924356842478, 0.5486825120316664, 0.22807901372644937, 0.02750522192004214, 0.03424320700453463], [0.005321739178128617, 0.05604113251731871, 0.10258549343229677, -0.022052924096134817, 0.028328969233114523, -0.012503052265079051, -0.152680874578784, -0.04067195733547864, 0.12853177012573266, -0.011119938940639047, -0.07370692736869096, -0.01704608840697252, 0.07469083979608632, 0.07671002544629045, 0.023789455426985164, 0.02323015104108353, 0.01124721366591432, -0.14219308061347496, 0.07817980865268657, -0.032750940512638604, -0.020565511320814668, -0.002449469088535066, 0.10043658817979555, 1.0, 0.19550057532563603, 0.3988198499155313, -0.07370692736869096, -0.01704608840697252, -0.05659245887178202, 0.058798807521340646, 0.35028805601029545, -0.002052840768126105, 0.018685447568292192], [-0.012901356726484662, -0.15073436020667694, -0.33384187092411793, -0.04713552022366206, 0.008867377028778751, 0.04246834922383013, 0.6505723795091825, -0.060671717651005756, 0.23549377982661557, -0.026352580624382137, -0.10078705545359354, 0.04839682735746587, 0.10179552009064437, -0.0736877126991876, 0.09851935227618983, 0.0945930987722579, 0.024882550131647287, 0.6462172416752529, -0.18571392868169245, 0.013075394479416738, -0.04430759338683237, 0.05543754697288992, 0.009244467568294112, 0.19550057532563603, 1.0, 0.32824304000681964, -0.10078705545359354, 0.04839682735746587, -0.0071806446801647925, -0.00472045505333211, 0.22032973096619185, 0.011301396392506779, 0.04833696371624942], [0.0038083265816044607, 0.04373306272649426, 0.18710311055657114, -0.03764713600240014, 0.07144879083351079, -0.029659345259994217, -0.20112646378520008, -0.06824157892486431, 0.35997430994240914, -0.028757511758070342, -0.18373629660607538, -0.017458844103342464, 0.18510075983720573, 0.08551085971721395, 0.07619970674715273, 0.0801039617580518, 0.05328726330615891, -0.19497866187176463, 0.09897414945083365, -0.04022162259493776, -0.03485208120567276, 0.07655304069310764, 0.34285336552821033, 0.3988198499155313, 0.32824304000681964, 1.0, -0.18373629660607538, -0.017458844103342464, -0.060866621126298356, 0.10912277849790003, 0.358057437019717, -0.012763413059760137, 0.05946755579328994], [0.01623083089046771, -0.008920050387686182, -0.03659466103231104, 0.02927666755214475, -0.10173136671116978, 0.014278987880019819, -0.00668825375680681, 0.11154777246485849, -0.21098887070224379, 0.025977020377948055, 1.0, 0.028159469107977095, -0.9958207338060852, -0.0739922012347653, -0.5185161945244672, -0.761586786065272, -0.09198607069907751, -0.020431389751895422, -0.23002146654727307, 0.10224026195961143, 0.04362640996219001, -0.03921813134930819, -0.09115676565454607, -0.07370692736869096, -0.10078705545359354, -0.18373629660607538, 1.0, 0.028159469107977095, 0.1134286476080985, -0.09620221310338195, -0.012659242088545882, 0.017360778101479964, -0.042258891422060144], [-0.007513050309912021, -0.0534459750241136, -0.04404594901735324, -0.0037675343695190108, -0.02702803867595351, 0.05739258455905099, 0.08047083096767527, 0.05258882644985929, 0.01355453703582482, -0.022160637156156463, 0.028159469107977095, 1.0, -0.02869722993256853, 0.0049542176212404665, -2.1685412502698303e-05, -0.0022326816758132437, -0.001300642662964495, 0.07920770433774828, -0.2740713085898581, 0.008591979949621468, -0.0033959935886327193, 0.016036217695073914, 0.0060124924199556895, -0.01704608840697252, 0.04839682735746587, -0.017458844103342464, 0.028159469107977095, 1.0, 0.09128780154139544, 0.005301959297839889, -0.06966552947022571, 0.006207223277771375, 0.003819972150459654], [-0.05941753597385348, -0.04202339407896121, -0.012511002435871292, -0.018877685897006957, -0.12655976080868653, 0.08692441724427923, 0.044233914158931846, 0.3108001617143452, -0.06149532656556001, -0.023667120662233632, 0.1134286476080985, 0.09128780154139544, -0.11318304539680553, -0.09208425009891394, -0.07892717150888029, 0.01346183021155967, -0.042704304562822745, 0.039650713024242494, -0.24623920609031028, 0.5737313738947518, -0.009902549919167987, 0.024517544532651106, -0.0009102924356842478, -0.05659245887178202, -0.0071806446801647925, -0.060866621126298356, 0.1134286476080985, 0.09128780154139544, 1.0, 0.0005364652796505158, -0.13343397058000167, 0.04811432661455629, -0.00964151154992565], [0.009505308233873633, 0.06467516861738053, 0.07898153713234106, -0.00891975898325693, 0.02314390061531806, 0.02254778773374951, -0.04981923484293946, 0.03245279026302043, 0.03351555762918294, -0.011914271812297253, -0.09620221310338195, 0.005301959297839889, 0.09722386409880454, 0.03281903440941293, 0.04242494422823821, 0.06258504227115268, 0.010074144951048246, 0.03876352844946469, -0.2171620131294267, -0.04914114685670128, -0.009027590384652368, 0.6641775777833923, 0.5486825120316664, 0.058798807521340646, -0.00472045505333211, 0.10912277849790003, -0.09620221310338195, 0.005301959297839889, 0.0005364652796505158, 1.0, 0.29535648890194, 0.0224616321566958, 0.017138108352767096], [-0.17160161824591108, -0.5544750377146468, -0.034199278402838394, -0.2506402059138017, -0.17160161824591108, -0.009685485552825727, -0.28035522646493527, -0.3636267811030918, -0.1305158904647152, null, -0.012659242088545882, -0.06966552947022571, 0.013122839505736157, 0.10107594250783003, 0.41643645093413273, -0.04483569625041251, -0.17160161824591105, -0.19599395068311168, null, 0.24514516892272986, -0.06052275326688024, -0.08832469044824406, 0.22807901372644937, 0.35028805601029545, 0.22032973096619185, 0.358057437019717, -0.012659242088545882, -0.06966552947022571, -0.13343397058000167, 0.29535648890194, 1.0, null, 0.358057437019717], [0.0003368674139763155, -0.003087427692590815, -0.03155449772460691, 0.010210665635405554, -0.013520089032738087, 0.013797213676141003, 0.02239059551870336, -0.008648978023459365, -0.010187686413279376, -0.0023346545992868045, 0.017360778101479964, 0.006207223277771375, -0.017745387744223257, -0.018689878327470096, -0.01067182346124444, -0.0012709589060006562, -9.651230166539045e-05, 0.02007171097882908, -0.18139331227755656, 0.0035064226788196155, 0.007817606150431563, 0.036933013567613984, 0.02750522192004214, -0.002052840768126105, 0.011301396392506779, -0.012763413059760137, 0.017360778101479964, 0.006207223277771375, 0.04811432661455629, 0.0224616321566958, null, 1.0, -0.008791796673691399], [-0.0049654667087490525, -0.009859386351814204, -0.014359434675937208, 0.003446143703024322, 0.009952898772105735, 0.017750914202650844, 0.028201050955931242, -0.005579708846392614, 0.05122429723631644, -0.05298004851625202, -0.042258891422060144, 0.003819972150459654, 0.042526285916186866, 0.024448633358672953, 0.020758570126570647, 0.025852416221372146, 0.001988068078445503, 0.02702403127262823, -0.020047367844602725, 0.003930028373980882, 0.003137273273211905, 0.02404045516774289, 0.03424320700453463, 0.018685447568292192, 0.04833696371624942, 0.05946755579328994, -0.042258891422060144, 0.003819972150459654, -0.00964151154992565, 0.017138108352767096, 0.358057437019717, -0.008791796673691399, 1.0]]}],\n",
       "                        {\"height\": 700, \"template\": {\"data\": {\"bar\": [{\"error_x\": {\"color\": \"#2a3f5f\"}, \"error_y\": {\"color\": \"#2a3f5f\"}, \"marker\": {\"line\": {\"color\": \"#E5ECF6\", \"width\": 0.5}}, \"type\": \"bar\"}], \"barpolar\": [{\"marker\": {\"line\": {\"color\": \"#E5ECF6\", \"width\": 0.5}}, \"type\": \"barpolar\"}], \"carpet\": [{\"aaxis\": {\"endlinecolor\": \"#2a3f5f\", \"gridcolor\": \"white\", \"linecolor\": \"white\", \"minorgridcolor\": \"white\", \"startlinecolor\": \"#2a3f5f\"}, \"baxis\": {\"endlinecolor\": \"#2a3f5f\", \"gridcolor\": \"white\", \"linecolor\": \"white\", \"minorgridcolor\": \"white\", \"startlinecolor\": \"#2a3f5f\"}, \"type\": \"carpet\"}], \"choropleth\": [{\"colorbar\": {\"outlinewidth\": 0, \"ticks\": \"\"}, \"type\": \"choropleth\"}], \"contour\": [{\"colorbar\": {\"outlinewidth\": 0, \"ticks\": \"\"}, \"colorscale\": [[0.0, \"#0d0887\"], [0.1111111111111111, \"#46039f\"], [0.2222222222222222, \"#7201a8\"], [0.3333333333333333, \"#9c179e\"], [0.4444444444444444, \"#bd3786\"], [0.5555555555555556, \"#d8576b\"], [0.6666666666666666, \"#ed7953\"], [0.7777777777777778, \"#fb9f3a\"], [0.8888888888888888, \"#fdca26\"], [1.0, \"#f0f921\"]], \"type\": \"contour\"}], \"contourcarpet\": [{\"colorbar\": {\"outlinewidth\": 0, \"ticks\": \"\"}, \"type\": \"contourcarpet\"}], \"heatmap\": [{\"colorbar\": {\"outlinewidth\": 0, \"ticks\": \"\"}, \"colorscale\": [[0.0, \"#0d0887\"], [0.1111111111111111, \"#46039f\"], [0.2222222222222222, \"#7201a8\"], [0.3333333333333333, \"#9c179e\"], [0.4444444444444444, \"#bd3786\"], [0.5555555555555556, \"#d8576b\"], [0.6666666666666666, \"#ed7953\"], [0.7777777777777778, \"#fb9f3a\"], [0.8888888888888888, \"#fdca26\"], [1.0, \"#f0f921\"]], \"type\": \"heatmap\"}], \"heatmapgl\": [{\"colorbar\": {\"outlinewidth\": 0, \"ticks\": \"\"}, \"colorscale\": [[0.0, \"#0d0887\"], [0.1111111111111111, \"#46039f\"], [0.2222222222222222, \"#7201a8\"], [0.3333333333333333, \"#9c179e\"], [0.4444444444444444, \"#bd3786\"], [0.5555555555555556, \"#d8576b\"], [0.6666666666666666, \"#ed7953\"], [0.7777777777777778, \"#fb9f3a\"], [0.8888888888888888, \"#fdca26\"], [1.0, \"#f0f921\"]], \"type\": \"heatmapgl\"}], \"histogram\": [{\"marker\": {\"colorbar\": {\"outlinewidth\": 0, \"ticks\": \"\"}}, \"type\": \"histogram\"}], \"histogram2d\": [{\"colorbar\": {\"outlinewidth\": 0, \"ticks\": \"\"}, \"colorscale\": [[0.0, \"#0d0887\"], [0.1111111111111111, \"#46039f\"], [0.2222222222222222, \"#7201a8\"], [0.3333333333333333, \"#9c179e\"], [0.4444444444444444, \"#bd3786\"], [0.5555555555555556, \"#d8576b\"], [0.6666666666666666, \"#ed7953\"], [0.7777777777777778, \"#fb9f3a\"], [0.8888888888888888, \"#fdca26\"], [1.0, \"#f0f921\"]], \"type\": \"histogram2d\"}], \"histogram2dcontour\": [{\"colorbar\": {\"outlinewidth\": 0, \"ticks\": \"\"}, \"colorscale\": [[0.0, \"#0d0887\"], [0.1111111111111111, \"#46039f\"], [0.2222222222222222, \"#7201a8\"], [0.3333333333333333, \"#9c179e\"], [0.4444444444444444, \"#bd3786\"], [0.5555555555555556, \"#d8576b\"], [0.6666666666666666, \"#ed7953\"], [0.7777777777777778, \"#fb9f3a\"], [0.8888888888888888, \"#fdca26\"], [1.0, \"#f0f921\"]], \"type\": \"histogram2dcontour\"}], \"mesh3d\": [{\"colorbar\": {\"outlinewidth\": 0, \"ticks\": \"\"}, \"type\": \"mesh3d\"}], \"parcoords\": [{\"line\": {\"colorbar\": {\"outlinewidth\": 0, \"ticks\": \"\"}}, \"type\": \"parcoords\"}], \"scatter\": [{\"marker\": {\"colorbar\": {\"outlinewidth\": 0, \"ticks\": \"\"}}, \"type\": \"scatter\"}], \"scatter3d\": [{\"line\": {\"colorbar\": {\"outlinewidth\": 0, \"ticks\": \"\"}}, \"marker\": {\"colorbar\": {\"outlinewidth\": 0, \"ticks\": \"\"}}, \"type\": \"scatter3d\"}], \"scattercarpet\": [{\"marker\": {\"colorbar\": {\"outlinewidth\": 0, \"ticks\": \"\"}}, \"type\": \"scattercarpet\"}], \"scattergeo\": [{\"marker\": {\"colorbar\": {\"outlinewidth\": 0, \"ticks\": \"\"}}, \"type\": \"scattergeo\"}], \"scattergl\": [{\"marker\": {\"colorbar\": {\"outlinewidth\": 0, \"ticks\": \"\"}}, \"type\": \"scattergl\"}], \"scattermapbox\": [{\"marker\": {\"colorbar\": {\"outlinewidth\": 0, \"ticks\": \"\"}}, \"type\": \"scattermapbox\"}], \"scatterpolar\": [{\"marker\": {\"colorbar\": {\"outlinewidth\": 0, \"ticks\": \"\"}}, \"type\": \"scatterpolar\"}], \"scatterpolargl\": [{\"marker\": {\"colorbar\": {\"outlinewidth\": 0, \"ticks\": \"\"}}, \"type\": \"scatterpolargl\"}], \"scatterternary\": [{\"marker\": {\"colorbar\": {\"outlinewidth\": 0, \"ticks\": \"\"}}, \"type\": \"scatterternary\"}], \"surface\": [{\"colorbar\": {\"outlinewidth\": 0, \"ticks\": \"\"}, \"colorscale\": [[0.0, \"#0d0887\"], [0.1111111111111111, \"#46039f\"], [0.2222222222222222, \"#7201a8\"], [0.3333333333333333, \"#9c179e\"], [0.4444444444444444, \"#bd3786\"], [0.5555555555555556, \"#d8576b\"], [0.6666666666666666, \"#ed7953\"], [0.7777777777777778, \"#fb9f3a\"], [0.8888888888888888, \"#fdca26\"], [1.0, \"#f0f921\"]], \"type\": \"surface\"}], \"table\": [{\"cells\": {\"fill\": {\"color\": \"#EBF0F8\"}, \"line\": {\"color\": \"white\"}}, \"header\": {\"fill\": {\"color\": \"#C8D4E3\"}, \"line\": {\"color\": \"white\"}}, \"type\": \"table\"}]}, \"layout\": {\"annotationdefaults\": {\"arrowcolor\": \"#2a3f5f\", \"arrowhead\": 0, \"arrowwidth\": 1}, \"colorscale\": {\"diverging\": [[0, \"#8e0152\"], [0.1, \"#c51b7d\"], [0.2, \"#de77ae\"], [0.3, \"#f1b6da\"], [0.4, \"#fde0ef\"], [0.5, \"#f7f7f7\"], [0.6, \"#e6f5d0\"], [0.7, \"#b8e186\"], [0.8, \"#7fbc41\"], [0.9, \"#4d9221\"], [1, \"#276419\"]], \"sequential\": [[0.0, \"#0d0887\"], [0.1111111111111111, \"#46039f\"], [0.2222222222222222, \"#7201a8\"], [0.3333333333333333, \"#9c179e\"], [0.4444444444444444, \"#bd3786\"], [0.5555555555555556, \"#d8576b\"], [0.6666666666666666, \"#ed7953\"], [0.7777777777777778, \"#fb9f3a\"], [0.8888888888888888, \"#fdca26\"], [1.0, \"#f0f921\"]], \"sequentialminus\": [[0.0, \"#0d0887\"], [0.1111111111111111, \"#46039f\"], [0.2222222222222222, \"#7201a8\"], [0.3333333333333333, \"#9c179e\"], [0.4444444444444444, \"#bd3786\"], [0.5555555555555556, \"#d8576b\"], [0.6666666666666666, \"#ed7953\"], [0.7777777777777778, \"#fb9f3a\"], [0.8888888888888888, \"#fdca26\"], [1.0, \"#f0f921\"]]}, \"colorway\": [\"#636efa\", \"#EF553B\", \"#00cc96\", \"#ab63fa\", \"#FFA15A\", \"#19d3f3\", \"#FF6692\", \"#B6E880\", \"#FF97FF\", \"#FECB52\"], \"font\": {\"color\": \"#2a3f5f\"}, \"geo\": {\"bgcolor\": \"white\", \"lakecolor\": \"white\", \"landcolor\": \"#E5ECF6\", \"showlakes\": true, \"showland\": true, \"subunitcolor\": \"white\"}, \"hoverlabel\": {\"align\": \"left\"}, \"hovermode\": \"closest\", \"mapbox\": {\"style\": \"light\"}, \"paper_bgcolor\": \"white\", \"plot_bgcolor\": \"#E5ECF6\", \"polar\": {\"angularaxis\": {\"gridcolor\": \"white\", \"linecolor\": \"white\", \"ticks\": \"\"}, \"bgcolor\": \"#E5ECF6\", \"radialaxis\": {\"gridcolor\": \"white\", \"linecolor\": \"white\", \"ticks\": \"\"}}, \"scene\": {\"xaxis\": {\"backgroundcolor\": \"#E5ECF6\", \"gridcolor\": \"white\", \"gridwidth\": 2, \"linecolor\": \"white\", \"showbackground\": true, \"ticks\": \"\", \"zerolinecolor\": \"white\"}, \"yaxis\": {\"backgroundcolor\": \"#E5ECF6\", \"gridcolor\": \"white\", \"gridwidth\": 2, \"linecolor\": \"white\", \"showbackground\": true, \"ticks\": \"\", \"zerolinecolor\": \"white\"}, \"zaxis\": {\"backgroundcolor\": \"#E5ECF6\", \"gridcolor\": \"white\", \"gridwidth\": 2, \"linecolor\": \"white\", \"showbackground\": true, \"ticks\": \"\", \"zerolinecolor\": \"white\"}}, \"shapedefaults\": {\"line\": {\"color\": \"#2a3f5f\"}}, \"ternary\": {\"aaxis\": {\"gridcolor\": \"white\", \"linecolor\": \"white\", \"ticks\": \"\"}, \"baxis\": {\"gridcolor\": \"white\", \"linecolor\": \"white\", \"ticks\": \"\"}, \"bgcolor\": \"#E5ECF6\", \"caxis\": {\"gridcolor\": \"white\", \"linecolor\": \"white\", \"ticks\": \"\"}}, \"title\": {\"x\": 0.05}, \"xaxis\": {\"automargin\": true, \"gridcolor\": \"white\", \"linecolor\": \"white\", \"ticks\": \"\", \"zerolinecolor\": \"white\", \"zerolinewidth\": 2}, \"yaxis\": {\"automargin\": true, \"gridcolor\": \"white\", \"linecolor\": \"white\", \"ticks\": \"\", \"zerolinecolor\": \"white\", \"zerolinewidth\": 2}}}, \"title\": {\"text\": \"Pearson Correlation for Data\"}, \"width\": 800, \"xaxis\": {\"nticks\": 36, \"ticks\": \"\"}, \"yaxis\": {\"ticks\": \"\"}},\n",
       "                        {\"responsive\": true}\n",
       "                    ).then(function(){\n",
       "                            \n",
       "var gd = document.getElementById('efad48c0-0403-428f-9277-9d9ff886186c');\n",
       "var x = new MutationObserver(function (mutations, observer) {{\n",
       "        var display = window.getComputedStyle(gd).display;\n",
       "        if (!display || display === 'none') {{\n",
       "            console.log([gd, 'removed!']);\n",
       "            Plotly.purge(gd);\n",
       "            observer.disconnect();\n",
       "        }}\n",
       "}});\n",
       "\n",
       "// Listen for the removal of the full notebook cells\n",
       "var notebookContainer = gd.closest('#notebook-container');\n",
       "if (notebookContainer) {{\n",
       "    x.observe(notebookContainer, {childList: true});\n",
       "}}\n",
       "\n",
       "// Listen for the clearing of the current output cell\n",
       "var outputEl = gd.closest('.output');\n",
       "if (outputEl) {{\n",
       "    x.observe(outputEl, {childList: true});\n",
       "}}\n",
       "\n",
       "                        })\n",
       "                };\n",
       "                });\n",
       "            </script>\n",
       "        </div>"
      ]
     },
     "metadata": {},
     "output_type": "display_data"
    }
   ],
   "source": [
    "# creating a list of only numerical values\n",
    "categorical_data = []\n",
    "for col, value in data.iteritems():\n",
    "    if value.dtype == 'object':\n",
    "        categorical_data.append(col)\n",
    "\n",
    "# Store the numerical columns in a list numerical\n",
    "numerical_data = data.columns.difference(categorical_data)\n",
    "\n",
    "data3 = [go.Heatmap(\n",
    "        z=data[numerical_data].astype(float).corr().values, # Generating the Pearson correlation\n",
    "        x=data[numerical_data].columns.values,\n",
    "        y=data[numerical_data].columns.values,\n",
    "        colorscale='Viridis',\n",
    "        reversescale = False,\n",
    "        opacity = 1.0\n",
    "        \n",
    "    )\n",
    "]\n",
    "\n",
    "\n",
    "layout = go.Layout(\n",
    "    title='Pearson Correlation for Data',\n",
    "    xaxis = dict(ticks='', nticks=36),\n",
    "    yaxis = dict(ticks='' ),\n",
    "    width = 800, height = 700,\n",
    "    \n",
    ")\n",
    "\n",
    "\n",
    "fig = go.Figure(data=data3, layout=layout)\n",
    "py.iplot(fig, filename='labelled-heatmap')"
   ]
  },
  {
   "cell_type": "code",
   "execution_count": 18,
   "metadata": {
    "scrolled": true
   },
   "outputs": [],
   "source": [
    "# There are some feature with correlation as one, let us find them\n",
    "\n",
    "# Get diagonal and lower triangular pairs of correlation matrix\n",
    "def get_redundant_pairs(df):\n",
    "    '''Get diagonal and lower triangular pairs of correlation matrix'''\n",
    "    pairs_to_drop = set()\n",
    "    cols = df.columns\n",
    "    for i in range(0, df.shape[1]):\n",
    "        for j in range(0, i+1):\n",
    "            pairs_to_drop.add((cols[i], cols[j]))\n",
    "    return pairs_to_drop\n",
    "\n",
    "# Get top pairs of correlation matrix\n",
    "def get_top_abs_correlations(df, n=5):\n",
    "    '''Get top pairs of correlation matrix'''\n",
    "    pairs_to_drop = set()\n",
    "    au_corr = df.corr().abs().unstack()\n",
    "    labels_to_drop = get_redundant_pairs(df)\n",
    "    au_corr = au_corr.drop(labels=labels_to_drop).sort_values(ascending=False)\n",
    "    return au_corr[0:n]\n",
    "\n"
   ]
  },
  {
   "cell_type": "code",
   "execution_count": 19,
   "metadata": {
    "scrolled": true
   },
   "outputs": [
    {
     "name": "stdout",
     "output_type": "stream",
     "text": [
      "Top Absolute Correlations for Data file\n",
      "feature_34  feature_68    1.000000\n",
      "feature_35  feature_69    1.000000\n",
      "feature_34  feature_39    0.995821\n",
      "feature_39  feature_68    0.995821\n",
      "feature_29  feature_44    0.983200\n",
      "dtype: float64\n"
     ]
    }
   ],
   "source": [
    "# Getting top 5 Pairs for correlations\n",
    "print(\"Top Absolute Correlations for Data file\")\n",
    "# Making sure input is only the categorical columns to the function\n",
    "print(get_top_abs_correlations(data[numerical_data], 5))"
   ]
  },
  {
   "cell_type": "code",
   "execution_count": 20,
   "metadata": {
    "scrolled": true
   },
   "outputs": [
    {
     "name": "stdout",
     "output_type": "stream",
     "text": [
      "Top Absolute Correlations for Account data\n",
      "actualpaymentamount  high_credit_amt    0.769984\n",
      "cashlimit            creditlimit        0.758459\n",
      "cur_balance_amt      high_credit_amt    0.755600\n",
      "actualpaymentamount  cur_balance_amt    0.721505\n",
      "creditlimit          high_credit_amt    0.502603\n",
      "dtype: float64\n"
     ]
    }
   ],
   "source": [
    "# Getting top 5 Pairs for correlations for Account data\n",
    "print(\"Top Absolute Correlations for Account data\")\n",
    "# Making sure input is only the categorical columns to the function\n",
    "print(get_top_abs_correlations(account[numerical_account], 5))"
   ]
  },
  {
   "cell_type": "markdown",
   "metadata": {},
   "source": [
    "### Creating Features for Data Understanding"
   ]
  },
  {
   "cell_type": "code",
   "execution_count": 21,
   "metadata": {
    "scrolled": true
   },
   "outputs": [
    {
     "data": {
      "image/jpeg": "[encoded data removed]",
      "text/plain": [
       "<IPython.core.display.Image object>"
      ]
     },
     "execution_count": 21,
     "metadata": {},
     "output_type": "execute_result"
    }
   ],
   "source": [
    "# Understanding what is more important for the credit score\n",
    "# While I did google search for the analysis, I found out following things about credit score.\n",
    "# Let us now create features depending on weight given to each segment of score calculation so we can get better results\n",
    "from IPython.display import Image\n",
    "Image(filename='your-credit-scores.jpg') "
   ]
  },
  {
   "cell_type": "code",
   "execution_count": 22,
   "metadata": {},
   "outputs": [],
   "source": [
    "enquiry_test = pd.read_csv('D:\\\\Projects\\\\Cbill\\\\test data\\\\test data\\\\raw_enquiry_30_new.csv')\n",
    "data_test = pd.read_csv('D:\\\\Projects\\\\Cbill\\\\test data\\\\test data\\\\raw_data_30_new.csv')\n",
    "account_test = pd.read_csv('D:\\\\Projects\\\\Cbill\\\\test data\\\\test data\\\\raw_account_30_new.csv')"
   ]
  },
  {
   "cell_type": "code",
   "execution_count": 23,
   "metadata": {},
   "outputs": [
    {
     "name": "stdout",
     "output_type": "stream",
     "text": [
      "(586687, 6)\n",
      "(265897, 21)\n",
      "(34136, 83)\n"
     ]
    }
   ],
   "source": [
    "# Merge train and test enquiry data here in order to create features all at once\n",
    "enquiry_joined =pd.concat([enquiry,enquiry_test],keys=('train','test'))\n",
    "\n",
    "# Getting shape of the merged data\n",
    "print(enquiry_joined.shape)\n",
    "\n",
    "# Merge train and test account data here in order to create features all at once\n",
    "account_joined =pd.concat([account,account_test],keys=('train','test'))\n",
    "\n",
    "# Getting shape of the merged data\n",
    "print(account_joined.shape)\n",
    "\n",
    "# Merge train and test data of data file here in order to create features all at once\n",
    "data_joined =pd.concat([data,data_test],keys=('train','test'))\n",
    "\n",
    "# Getting shape of the merged data\n",
    "print(data_joined.shape)"
   ]
  },
  {
   "cell_type": "code",
   "execution_count": 24,
   "metadata": {},
   "outputs": [
    {
     "data": {
      "text/html": [
       "<div>\n",
       "<style scoped>\n",
       "    .dataframe tbody tr th:only-of-type {\n",
       "        vertical-align: middle;\n",
       "    }\n",
       "\n",
       "    .dataframe tbody tr th {\n",
       "        vertical-align: top;\n",
       "    }\n",
       "\n",
       "    .dataframe thead th {\n",
       "        text-align: right;\n",
       "    }\n",
       "</style>\n",
       "<table border=\"1\" class=\"dataframe\">\n",
       "  <thead>\n",
       "    <tr style=\"text-align: right;\">\n",
       "      <th></th>\n",
       "      <th></th>\n",
       "      <th>Bad_label</th>\n",
       "      <th>customer_no</th>\n",
       "      <th>dt_opened</th>\n",
       "      <th>entry_time</th>\n",
       "      <th>feature_1</th>\n",
       "      <th>feature_10</th>\n",
       "      <th>feature_11</th>\n",
       "      <th>feature_12</th>\n",
       "      <th>feature_13</th>\n",
       "      <th>feature_14</th>\n",
       "      <th>...</th>\n",
       "      <th>feature_72</th>\n",
       "      <th>feature_73</th>\n",
       "      <th>feature_74</th>\n",
       "      <th>feature_75</th>\n",
       "      <th>feature_76</th>\n",
       "      <th>feature_77</th>\n",
       "      <th>feature_78</th>\n",
       "      <th>feature_79</th>\n",
       "      <th>feature_8</th>\n",
       "      <th>feature_9</th>\n",
       "    </tr>\n",
       "  </thead>\n",
       "  <tbody>\n",
       "    <tr>\n",
       "      <th rowspan=\"5\" valign=\"top\">train</th>\n",
       "      <th>0</th>\n",
       "      <td>0</td>\n",
       "      <td>1</td>\n",
       "      <td>18-Apr-15</td>\n",
       "      <td>13-Apr-15</td>\n",
       "      <td>Insignia</td>\n",
       "      <td>NaN</td>\n",
       "      <td>Y</td>\n",
       "      <td>IS1</td>\n",
       "      <td>NaN</td>\n",
       "      <td>0.0</td>\n",
       "      <td>...</td>\n",
       "      <td>R</td>\n",
       "      <td>NaN</td>\n",
       "      <td>NaN</td>\n",
       "      <td>0000-00-00</td>\n",
       "      <td>0.0</td>\n",
       "      <td>98332XXXXX</td>\n",
       "      <td>1.0</td>\n",
       "      <td>N</td>\n",
       "      <td>NaN</td>\n",
       "      <td>NaN</td>\n",
       "    </tr>\n",
       "    <tr>\n",
       "      <th>1</th>\n",
       "      <td>0</td>\n",
       "      <td>2</td>\n",
       "      <td>21-Apr-15</td>\n",
       "      <td>21-Apr-15</td>\n",
       "      <td>Insignia</td>\n",
       "      <td>NaN</td>\n",
       "      <td>Y</td>\n",
       "      <td>IS1</td>\n",
       "      <td>NaN</td>\n",
       "      <td>0.0</td>\n",
       "      <td>...</td>\n",
       "      <td>R</td>\n",
       "      <td>NaN</td>\n",
       "      <td>NaN</td>\n",
       "      <td>0000-00-00</td>\n",
       "      <td>0.0</td>\n",
       "      <td>99455XXXXX</td>\n",
       "      <td>1.0</td>\n",
       "      <td>N</td>\n",
       "      <td>NaN</td>\n",
       "      <td>NaN</td>\n",
       "    </tr>\n",
       "    <tr>\n",
       "      <th>2</th>\n",
       "      <td>0</td>\n",
       "      <td>3</td>\n",
       "      <td>22-Apr-15</td>\n",
       "      <td>21-Apr-15</td>\n",
       "      <td>Insignia</td>\n",
       "      <td>NaN</td>\n",
       "      <td>Y</td>\n",
       "      <td>IS1</td>\n",
       "      <td>NaN</td>\n",
       "      <td>0.0</td>\n",
       "      <td>...</td>\n",
       "      <td>R</td>\n",
       "      <td>NaN</td>\n",
       "      <td>NaN</td>\n",
       "      <td>0000-00-00</td>\n",
       "      <td>0.0</td>\n",
       "      <td>98456XXXXX</td>\n",
       "      <td>1.0</td>\n",
       "      <td>N</td>\n",
       "      <td>NaN</td>\n",
       "      <td>NaN</td>\n",
       "    </tr>\n",
       "    <tr>\n",
       "      <th>3</th>\n",
       "      <td>0</td>\n",
       "      <td>4</td>\n",
       "      <td>25-Apr-15</td>\n",
       "      <td>15-Apr-15</td>\n",
       "      <td>Insignia</td>\n",
       "      <td>NaN</td>\n",
       "      <td>Y</td>\n",
       "      <td>IS1</td>\n",
       "      <td>NaN</td>\n",
       "      <td>0.0</td>\n",
       "      <td>...</td>\n",
       "      <td>R</td>\n",
       "      <td>NaN</td>\n",
       "      <td>NaN</td>\n",
       "      <td>6/15/65</td>\n",
       "      <td>1.0</td>\n",
       "      <td>98220XXXXX</td>\n",
       "      <td>1.0</td>\n",
       "      <td>N</td>\n",
       "      <td>NaN</td>\n",
       "      <td>NaN</td>\n",
       "    </tr>\n",
       "    <tr>\n",
       "      <th>4</th>\n",
       "      <td>0</td>\n",
       "      <td>5</td>\n",
       "      <td>6-May-15</td>\n",
       "      <td>30-Apr-15</td>\n",
       "      <td>Insignia</td>\n",
       "      <td>NaN</td>\n",
       "      <td>Y</td>\n",
       "      <td>IS1</td>\n",
       "      <td>NaN</td>\n",
       "      <td>0.0</td>\n",
       "      <td>...</td>\n",
       "      <td>R</td>\n",
       "      <td>NaN</td>\n",
       "      <td>NaN</td>\n",
       "      <td>0000-00-00</td>\n",
       "      <td>0.0</td>\n",
       "      <td>98111XXXXX</td>\n",
       "      <td>1.0</td>\n",
       "      <td>N</td>\n",
       "      <td>NaN</td>\n",
       "      <td>NaN</td>\n",
       "    </tr>\n",
       "  </tbody>\n",
       "</table>\n",
       "<p>5 rows × 83 columns</p>\n",
       "</div>"
      ],
      "text/plain": [
       "         Bad_label  customer_no  dt_opened entry_time feature_1 feature_10  \\\n",
       "train 0          0            1  18-Apr-15  13-Apr-15  Insignia        NaN   \n",
       "      1          0            2  21-Apr-15  21-Apr-15  Insignia        NaN   \n",
       "      2          0            3  22-Apr-15  21-Apr-15  Insignia        NaN   \n",
       "      3          0            4  25-Apr-15  15-Apr-15  Insignia        NaN   \n",
       "      4          0            5   6-May-15  30-Apr-15  Insignia        NaN   \n",
       "\n",
       "        feature_11 feature_12 feature_13  feature_14  ... feature_72  \\\n",
       "train 0          Y        IS1        NaN         0.0  ...          R   \n",
       "      1          Y        IS1        NaN         0.0  ...          R   \n",
       "      2          Y        IS1        NaN         0.0  ...          R   \n",
       "      3          Y        IS1        NaN         0.0  ...          R   \n",
       "      4          Y        IS1        NaN         0.0  ...          R   \n",
       "\n",
       "        feature_73 feature_74  feature_75  feature_76  feature_77 feature_78  \\\n",
       "train 0        NaN        NaN  0000-00-00         0.0  98332XXXXX        1.0   \n",
       "      1        NaN        NaN  0000-00-00         0.0  99455XXXXX        1.0   \n",
       "      2        NaN        NaN  0000-00-00         0.0  98456XXXXX        1.0   \n",
       "      3        NaN        NaN     6/15/65         1.0  98220XXXXX        1.0   \n",
       "      4        NaN        NaN  0000-00-00         0.0  98111XXXXX        1.0   \n",
       "\n",
       "        feature_79 feature_8 feature_9  \n",
       "train 0          N       NaN       NaN  \n",
       "      1          N       NaN       NaN  \n",
       "      2          N       NaN       NaN  \n",
       "      3          N       NaN       NaN  \n",
       "      4          N       NaN       NaN  \n",
       "\n",
       "[5 rows x 83 columns]"
      ]
     },
     "execution_count": 24,
     "metadata": {},
     "output_type": "execute_result"
    }
   ],
   "source": [
    "data_joined.head()"
   ]
  },
  {
   "cell_type": "code",
   "execution_count": 25,
   "metadata": {
    "scrolled": false
   },
   "outputs": [
    {
     "data": {
      "text/html": [
       "<div>\n",
       "<style scoped>\n",
       "    .dataframe tbody tr th:only-of-type {\n",
       "        vertical-align: middle;\n",
       "    }\n",
       "\n",
       "    .dataframe tbody tr th {\n",
       "        vertical-align: top;\n",
       "    }\n",
       "\n",
       "    .dataframe thead th {\n",
       "        text-align: right;\n",
       "    }\n",
       "</style>\n",
       "<table border=\"1\" class=\"dataframe\">\n",
       "  <thead>\n",
       "    <tr style=\"text-align: right;\">\n",
       "      <th></th>\n",
       "      <th></th>\n",
       "      <th>Bad_label</th>\n",
       "      <th>customer_no</th>\n",
       "      <th>dt_opened</th>\n",
       "      <th>entry_time</th>\n",
       "      <th>feature_1</th>\n",
       "      <th>feature_10</th>\n",
       "      <th>feature_11</th>\n",
       "      <th>feature_12</th>\n",
       "      <th>feature_13</th>\n",
       "      <th>feature_14</th>\n",
       "      <th>...</th>\n",
       "      <th>feature_73</th>\n",
       "      <th>feature_74</th>\n",
       "      <th>feature_75</th>\n",
       "      <th>feature_76</th>\n",
       "      <th>feature_77</th>\n",
       "      <th>feature_78</th>\n",
       "      <th>feature_79</th>\n",
       "      <th>feature_8</th>\n",
       "      <th>feature_9</th>\n",
       "      <th>count_enquiry_recency_365</th>\n",
       "    </tr>\n",
       "  </thead>\n",
       "  <tbody>\n",
       "    <tr>\n",
       "      <th rowspan=\"5\" valign=\"top\">train</th>\n",
       "      <th>0</th>\n",
       "      <td>0</td>\n",
       "      <td>1</td>\n",
       "      <td>18-Apr-15</td>\n",
       "      <td>13-Apr-15</td>\n",
       "      <td>Insignia</td>\n",
       "      <td>NaN</td>\n",
       "      <td>Y</td>\n",
       "      <td>IS1</td>\n",
       "      <td>NaN</td>\n",
       "      <td>0.0</td>\n",
       "      <td>...</td>\n",
       "      <td>NaN</td>\n",
       "      <td>NaN</td>\n",
       "      <td>0000-00-00</td>\n",
       "      <td>0.0</td>\n",
       "      <td>98332XXXXX</td>\n",
       "      <td>1.0</td>\n",
       "      <td>N</td>\n",
       "      <td>NaN</td>\n",
       "      <td>NaN</td>\n",
       "      <td>4.0</td>\n",
       "    </tr>\n",
       "    <tr>\n",
       "      <th>1</th>\n",
       "      <td>0</td>\n",
       "      <td>2</td>\n",
       "      <td>21-Apr-15</td>\n",
       "      <td>21-Apr-15</td>\n",
       "      <td>Insignia</td>\n",
       "      <td>NaN</td>\n",
       "      <td>Y</td>\n",
       "      <td>IS1</td>\n",
       "      <td>NaN</td>\n",
       "      <td>0.0</td>\n",
       "      <td>...</td>\n",
       "      <td>NaN</td>\n",
       "      <td>NaN</td>\n",
       "      <td>0000-00-00</td>\n",
       "      <td>0.0</td>\n",
       "      <td>99455XXXXX</td>\n",
       "      <td>1.0</td>\n",
       "      <td>N</td>\n",
       "      <td>NaN</td>\n",
       "      <td>NaN</td>\n",
       "      <td>19.0</td>\n",
       "    </tr>\n",
       "    <tr>\n",
       "      <th>2</th>\n",
       "      <td>0</td>\n",
       "      <td>3</td>\n",
       "      <td>22-Apr-15</td>\n",
       "      <td>21-Apr-15</td>\n",
       "      <td>Insignia</td>\n",
       "      <td>NaN</td>\n",
       "      <td>Y</td>\n",
       "      <td>IS1</td>\n",
       "      <td>NaN</td>\n",
       "      <td>0.0</td>\n",
       "      <td>...</td>\n",
       "      <td>NaN</td>\n",
       "      <td>NaN</td>\n",
       "      <td>0000-00-00</td>\n",
       "      <td>0.0</td>\n",
       "      <td>98456XXXXX</td>\n",
       "      <td>1.0</td>\n",
       "      <td>N</td>\n",
       "      <td>NaN</td>\n",
       "      <td>NaN</td>\n",
       "      <td>1.0</td>\n",
       "    </tr>\n",
       "    <tr>\n",
       "      <th>3</th>\n",
       "      <td>0</td>\n",
       "      <td>4</td>\n",
       "      <td>25-Apr-15</td>\n",
       "      <td>15-Apr-15</td>\n",
       "      <td>Insignia</td>\n",
       "      <td>NaN</td>\n",
       "      <td>Y</td>\n",
       "      <td>IS1</td>\n",
       "      <td>NaN</td>\n",
       "      <td>0.0</td>\n",
       "      <td>...</td>\n",
       "      <td>NaN</td>\n",
       "      <td>NaN</td>\n",
       "      <td>6/15/65</td>\n",
       "      <td>1.0</td>\n",
       "      <td>98220XXXXX</td>\n",
       "      <td>1.0</td>\n",
       "      <td>N</td>\n",
       "      <td>NaN</td>\n",
       "      <td>NaN</td>\n",
       "      <td>2.0</td>\n",
       "    </tr>\n",
       "    <tr>\n",
       "      <th>4</th>\n",
       "      <td>0</td>\n",
       "      <td>5</td>\n",
       "      <td>6-May-15</td>\n",
       "      <td>30-Apr-15</td>\n",
       "      <td>Insignia</td>\n",
       "      <td>NaN</td>\n",
       "      <td>Y</td>\n",
       "      <td>IS1</td>\n",
       "      <td>NaN</td>\n",
       "      <td>0.0</td>\n",
       "      <td>...</td>\n",
       "      <td>NaN</td>\n",
       "      <td>NaN</td>\n",
       "      <td>0000-00-00</td>\n",
       "      <td>0.0</td>\n",
       "      <td>98111XXXXX</td>\n",
       "      <td>1.0</td>\n",
       "      <td>N</td>\n",
       "      <td>NaN</td>\n",
       "      <td>NaN</td>\n",
       "      <td>2.0</td>\n",
       "    </tr>\n",
       "  </tbody>\n",
       "</table>\n",
       "<p>5 rows × 84 columns</p>\n",
       "</div>"
      ],
      "text/plain": [
       "         Bad_label  customer_no  dt_opened entry_time feature_1 feature_10  \\\n",
       "train 0          0            1  18-Apr-15  13-Apr-15  Insignia        NaN   \n",
       "      1          0            2  21-Apr-15  21-Apr-15  Insignia        NaN   \n",
       "      2          0            3  22-Apr-15  21-Apr-15  Insignia        NaN   \n",
       "      3          0            4  25-Apr-15  15-Apr-15  Insignia        NaN   \n",
       "      4          0            5   6-May-15  30-Apr-15  Insignia        NaN   \n",
       "\n",
       "        feature_11 feature_12 feature_13  feature_14  ... feature_73  \\\n",
       "train 0          Y        IS1        NaN         0.0  ...        NaN   \n",
       "      1          Y        IS1        NaN         0.0  ...        NaN   \n",
       "      2          Y        IS1        NaN         0.0  ...        NaN   \n",
       "      3          Y        IS1        NaN         0.0  ...        NaN   \n",
       "      4          Y        IS1        NaN         0.0  ...        NaN   \n",
       "\n",
       "        feature_74  feature_75 feature_76  feature_77 feature_78 feature_79  \\\n",
       "train 0        NaN  0000-00-00        0.0  98332XXXXX        1.0          N   \n",
       "      1        NaN  0000-00-00        0.0  99455XXXXX        1.0          N   \n",
       "      2        NaN  0000-00-00        0.0  98456XXXXX        1.0          N   \n",
       "      3        NaN     6/15/65        1.0  98220XXXXX        1.0          N   \n",
       "      4        NaN  0000-00-00        0.0  98111XXXXX        1.0          N   \n",
       "\n",
       "        feature_8 feature_9 count_enquiry_recency_365  \n",
       "train 0       NaN       NaN                       4.0  \n",
       "      1       NaN       NaN                      19.0  \n",
       "      2       NaN       NaN                       1.0  \n",
       "      3       NaN       NaN                       2.0  \n",
       "      4       NaN       NaN                       2.0  \n",
       "\n",
       "[5 rows x 84 columns]"
      ]
     },
     "execution_count": 25,
     "metadata": {},
     "output_type": "execute_result"
    }
   ],
   "source": [
    "# Now let us do the feature engineering \n",
    "# Let us create data for recency of enquiry for 365 days\n",
    "# Converting the data to date time so we can do date calculations easily\n",
    "enquiry_dt = pd.to_datetime(enquiry_joined['enquiry_dt'])\n",
    "dt_opened = pd.to_datetime(enquiry_joined['dt_opened'])\n",
    "\n",
    "# Creating colum for count of enquiry\n",
    "enquiry_joined['count_enquiry_recency_365'] = dt_opened - enquiry_dt \n",
    "\n",
    "enquiry_count = enquiry_joined[(enquiry_joined.count_enquiry_recency_365<= '365days')]\n",
    "group = enquiry_count.groupby(enquiry_count['customer_no'])\n",
    "group1 = group.count()\n",
    "enqCount = group1.loc[:,['count_enquiry_recency_365']]\n",
    "data_joined = data_joined.join(enqCount, on='customer_no')\n",
    "data_joined.count_enquiry_recency_365.fillna(0, inplace=True)\n",
    "data_joined.head()"
   ]
  },
  {
   "cell_type": "code",
   "execution_count": 26,
   "metadata": {
    "scrolled": true
   },
   "outputs": [
    {
     "data": {
      "text/html": [
       "<div>\n",
       "<style scoped>\n",
       "    .dataframe tbody tr th:only-of-type {\n",
       "        vertical-align: middle;\n",
       "    }\n",
       "\n",
       "    .dataframe tbody tr th {\n",
       "        vertical-align: top;\n",
       "    }\n",
       "\n",
       "    .dataframe thead th {\n",
       "        text-align: right;\n",
       "    }\n",
       "</style>\n",
       "<table border=\"1\" class=\"dataframe\">\n",
       "  <thead>\n",
       "    <tr style=\"text-align: right;\">\n",
       "      <th></th>\n",
       "      <th></th>\n",
       "      <th>Bad_label</th>\n",
       "      <th>customer_no</th>\n",
       "      <th>dt_opened</th>\n",
       "      <th>entry_time</th>\n",
       "      <th>feature_1</th>\n",
       "      <th>feature_10</th>\n",
       "      <th>feature_11</th>\n",
       "      <th>feature_12</th>\n",
       "      <th>feature_13</th>\n",
       "      <th>feature_14</th>\n",
       "      <th>...</th>\n",
       "      <th>feature_74</th>\n",
       "      <th>feature_75</th>\n",
       "      <th>feature_76</th>\n",
       "      <th>feature_77</th>\n",
       "      <th>feature_78</th>\n",
       "      <th>feature_79</th>\n",
       "      <th>feature_8</th>\n",
       "      <th>feature_9</th>\n",
       "      <th>count_enquiry_recency_365</th>\n",
       "      <th>count_enquiry_recency_90</th>\n",
       "    </tr>\n",
       "  </thead>\n",
       "  <tbody>\n",
       "    <tr>\n",
       "      <th rowspan=\"5\" valign=\"top\">train</th>\n",
       "      <th>0</th>\n",
       "      <td>0</td>\n",
       "      <td>1</td>\n",
       "      <td>18-Apr-15</td>\n",
       "      <td>13-Apr-15</td>\n",
       "      <td>Insignia</td>\n",
       "      <td>NaN</td>\n",
       "      <td>Y</td>\n",
       "      <td>IS1</td>\n",
       "      <td>NaN</td>\n",
       "      <td>0.0</td>\n",
       "      <td>...</td>\n",
       "      <td>NaN</td>\n",
       "      <td>0000-00-00</td>\n",
       "      <td>0.0</td>\n",
       "      <td>98332XXXXX</td>\n",
       "      <td>1.0</td>\n",
       "      <td>N</td>\n",
       "      <td>NaN</td>\n",
       "      <td>NaN</td>\n",
       "      <td>4.0</td>\n",
       "      <td>0.0</td>\n",
       "    </tr>\n",
       "    <tr>\n",
       "      <th>1</th>\n",
       "      <td>0</td>\n",
       "      <td>2</td>\n",
       "      <td>21-Apr-15</td>\n",
       "      <td>21-Apr-15</td>\n",
       "      <td>Insignia</td>\n",
       "      <td>NaN</td>\n",
       "      <td>Y</td>\n",
       "      <td>IS1</td>\n",
       "      <td>NaN</td>\n",
       "      <td>0.0</td>\n",
       "      <td>...</td>\n",
       "      <td>NaN</td>\n",
       "      <td>0000-00-00</td>\n",
       "      <td>0.0</td>\n",
       "      <td>99455XXXXX</td>\n",
       "      <td>1.0</td>\n",
       "      <td>N</td>\n",
       "      <td>NaN</td>\n",
       "      <td>NaN</td>\n",
       "      <td>19.0</td>\n",
       "      <td>2.0</td>\n",
       "    </tr>\n",
       "    <tr>\n",
       "      <th>2</th>\n",
       "      <td>0</td>\n",
       "      <td>3</td>\n",
       "      <td>22-Apr-15</td>\n",
       "      <td>21-Apr-15</td>\n",
       "      <td>Insignia</td>\n",
       "      <td>NaN</td>\n",
       "      <td>Y</td>\n",
       "      <td>IS1</td>\n",
       "      <td>NaN</td>\n",
       "      <td>0.0</td>\n",
       "      <td>...</td>\n",
       "      <td>NaN</td>\n",
       "      <td>0000-00-00</td>\n",
       "      <td>0.0</td>\n",
       "      <td>98456XXXXX</td>\n",
       "      <td>1.0</td>\n",
       "      <td>N</td>\n",
       "      <td>NaN</td>\n",
       "      <td>NaN</td>\n",
       "      <td>1.0</td>\n",
       "      <td>1.0</td>\n",
       "    </tr>\n",
       "    <tr>\n",
       "      <th>3</th>\n",
       "      <td>0</td>\n",
       "      <td>4</td>\n",
       "      <td>25-Apr-15</td>\n",
       "      <td>15-Apr-15</td>\n",
       "      <td>Insignia</td>\n",
       "      <td>NaN</td>\n",
       "      <td>Y</td>\n",
       "      <td>IS1</td>\n",
       "      <td>NaN</td>\n",
       "      <td>0.0</td>\n",
       "      <td>...</td>\n",
       "      <td>NaN</td>\n",
       "      <td>6/15/65</td>\n",
       "      <td>1.0</td>\n",
       "      <td>98220XXXXX</td>\n",
       "      <td>1.0</td>\n",
       "      <td>N</td>\n",
       "      <td>NaN</td>\n",
       "      <td>NaN</td>\n",
       "      <td>2.0</td>\n",
       "      <td>0.0</td>\n",
       "    </tr>\n",
       "    <tr>\n",
       "      <th>4</th>\n",
       "      <td>0</td>\n",
       "      <td>5</td>\n",
       "      <td>6-May-15</td>\n",
       "      <td>30-Apr-15</td>\n",
       "      <td>Insignia</td>\n",
       "      <td>NaN</td>\n",
       "      <td>Y</td>\n",
       "      <td>IS1</td>\n",
       "      <td>NaN</td>\n",
       "      <td>0.0</td>\n",
       "      <td>...</td>\n",
       "      <td>NaN</td>\n",
       "      <td>0000-00-00</td>\n",
       "      <td>0.0</td>\n",
       "      <td>98111XXXXX</td>\n",
       "      <td>1.0</td>\n",
       "      <td>N</td>\n",
       "      <td>NaN</td>\n",
       "      <td>NaN</td>\n",
       "      <td>2.0</td>\n",
       "      <td>0.0</td>\n",
       "    </tr>\n",
       "  </tbody>\n",
       "</table>\n",
       "<p>5 rows × 85 columns</p>\n",
       "</div>"
      ],
      "text/plain": [
       "         Bad_label  customer_no  dt_opened entry_time feature_1 feature_10  \\\n",
       "train 0          0            1  18-Apr-15  13-Apr-15  Insignia        NaN   \n",
       "      1          0            2  21-Apr-15  21-Apr-15  Insignia        NaN   \n",
       "      2          0            3  22-Apr-15  21-Apr-15  Insignia        NaN   \n",
       "      3          0            4  25-Apr-15  15-Apr-15  Insignia        NaN   \n",
       "      4          0            5   6-May-15  30-Apr-15  Insignia        NaN   \n",
       "\n",
       "        feature_11 feature_12 feature_13  feature_14  ... feature_74  \\\n",
       "train 0          Y        IS1        NaN         0.0  ...        NaN   \n",
       "      1          Y        IS1        NaN         0.0  ...        NaN   \n",
       "      2          Y        IS1        NaN         0.0  ...        NaN   \n",
       "      3          Y        IS1        NaN         0.0  ...        NaN   \n",
       "      4          Y        IS1        NaN         0.0  ...        NaN   \n",
       "\n",
       "         feature_75 feature_76  feature_77  feature_78 feature_79 feature_8  \\\n",
       "train 0  0000-00-00        0.0  98332XXXXX         1.0          N       NaN   \n",
       "      1  0000-00-00        0.0  99455XXXXX         1.0          N       NaN   \n",
       "      2  0000-00-00        0.0  98456XXXXX         1.0          N       NaN   \n",
       "      3     6/15/65        1.0  98220XXXXX         1.0          N       NaN   \n",
       "      4  0000-00-00        0.0  98111XXXXX         1.0          N       NaN   \n",
       "\n",
       "        feature_9 count_enquiry_recency_365 count_enquiry_recency_90  \n",
       "train 0       NaN                       4.0                      0.0  \n",
       "      1       NaN                      19.0                      2.0  \n",
       "      2       NaN                       1.0                      1.0  \n",
       "      3       NaN                       2.0                      0.0  \n",
       "      4       NaN                       2.0                      0.0  \n",
       "\n",
       "[5 rows x 85 columns]"
      ]
     },
     "execution_count": 26,
     "metadata": {},
     "output_type": "execute_result"
    }
   ],
   "source": [
    "# Now let us do the feature engineering \n",
    "# Let us create data for recency of enquiry for 90 days\n",
    "\n",
    "# Creating colum for count of enquiry for 90 days\n",
    "enquiry_joined['count_enquiry_recency_90'] = dt_opened - enquiry_dt \n",
    "\n",
    "enquiry_count = enquiry_joined[(enquiry_joined.count_enquiry_recency_90<= '90days')]\n",
    "group = enquiry_count.groupby(enquiry_count['customer_no'])\n",
    "group1 = group.count()\n",
    "enqCount = group1.loc[:,['count_enquiry_recency_90']]\n",
    "data_joined = data_joined.join(enqCount, on='customer_no')\n",
    "data_joined.count_enquiry_recency_90.fillna(0, inplace=True)\n",
    "data_joined.head()"
   ]
  },
  {
   "cell_type": "code",
   "execution_count": 27,
   "metadata": {},
   "outputs": [
    {
     "data": {
      "text/html": [
       "<div>\n",
       "<style scoped>\n",
       "    .dataframe tbody tr th:only-of-type {\n",
       "        vertical-align: middle;\n",
       "    }\n",
       "\n",
       "    .dataframe tbody tr th {\n",
       "        vertical-align: top;\n",
       "    }\n",
       "\n",
       "    .dataframe thead th {\n",
       "        text-align: right;\n",
       "    }\n",
       "</style>\n",
       "<table border=\"1\" class=\"dataframe\">\n",
       "  <thead>\n",
       "    <tr style=\"text-align: right;\">\n",
       "      <th></th>\n",
       "      <th></th>\n",
       "      <th>Bad_label</th>\n",
       "      <th>customer_no</th>\n",
       "      <th>dt_opened</th>\n",
       "      <th>entry_time</th>\n",
       "      <th>feature_1</th>\n",
       "      <th>feature_10</th>\n",
       "      <th>feature_11</th>\n",
       "      <th>feature_12</th>\n",
       "      <th>feature_13</th>\n",
       "      <th>feature_14</th>\n",
       "      <th>...</th>\n",
       "      <th>feature_75</th>\n",
       "      <th>feature_76</th>\n",
       "      <th>feature_77</th>\n",
       "      <th>feature_78</th>\n",
       "      <th>feature_79</th>\n",
       "      <th>feature_8</th>\n",
       "      <th>feature_9</th>\n",
       "      <th>count_enquiry_recency_365</th>\n",
       "      <th>count_enquiry_recency_90</th>\n",
       "      <th>mean_diff_open_enquiry_dt</th>\n",
       "    </tr>\n",
       "  </thead>\n",
       "  <tbody>\n",
       "    <tr>\n",
       "      <th rowspan=\"5\" valign=\"top\">train</th>\n",
       "      <th>0</th>\n",
       "      <td>0</td>\n",
       "      <td>1</td>\n",
       "      <td>18-Apr-15</td>\n",
       "      <td>13-Apr-15</td>\n",
       "      <td>Insignia</td>\n",
       "      <td>NaN</td>\n",
       "      <td>Y</td>\n",
       "      <td>IS1</td>\n",
       "      <td>NaN</td>\n",
       "      <td>0.0</td>\n",
       "      <td>...</td>\n",
       "      <td>0000-00-00</td>\n",
       "      <td>0.0</td>\n",
       "      <td>98332XXXXX</td>\n",
       "      <td>1.0</td>\n",
       "      <td>N</td>\n",
       "      <td>NaN</td>\n",
       "      <td>NaN</td>\n",
       "      <td>4.0</td>\n",
       "      <td>0.0</td>\n",
       "      <td>1378.0</td>\n",
       "    </tr>\n",
       "    <tr>\n",
       "      <th>1</th>\n",
       "      <td>0</td>\n",
       "      <td>2</td>\n",
       "      <td>21-Apr-15</td>\n",
       "      <td>21-Apr-15</td>\n",
       "      <td>Insignia</td>\n",
       "      <td>NaN</td>\n",
       "      <td>Y</td>\n",
       "      <td>IS1</td>\n",
       "      <td>NaN</td>\n",
       "      <td>0.0</td>\n",
       "      <td>...</td>\n",
       "      <td>0000-00-00</td>\n",
       "      <td>0.0</td>\n",
       "      <td>99455XXXXX</td>\n",
       "      <td>1.0</td>\n",
       "      <td>N</td>\n",
       "      <td>NaN</td>\n",
       "      <td>NaN</td>\n",
       "      <td>19.0</td>\n",
       "      <td>2.0</td>\n",
       "      <td>828.0</td>\n",
       "    </tr>\n",
       "    <tr>\n",
       "      <th>2</th>\n",
       "      <td>0</td>\n",
       "      <td>3</td>\n",
       "      <td>22-Apr-15</td>\n",
       "      <td>21-Apr-15</td>\n",
       "      <td>Insignia</td>\n",
       "      <td>NaN</td>\n",
       "      <td>Y</td>\n",
       "      <td>IS1</td>\n",
       "      <td>NaN</td>\n",
       "      <td>0.0</td>\n",
       "      <td>...</td>\n",
       "      <td>0000-00-00</td>\n",
       "      <td>0.0</td>\n",
       "      <td>98456XXXXX</td>\n",
       "      <td>1.0</td>\n",
       "      <td>N</td>\n",
       "      <td>NaN</td>\n",
       "      <td>NaN</td>\n",
       "      <td>1.0</td>\n",
       "      <td>1.0</td>\n",
       "      <td>1832.0</td>\n",
       "    </tr>\n",
       "    <tr>\n",
       "      <th>3</th>\n",
       "      <td>0</td>\n",
       "      <td>4</td>\n",
       "      <td>25-Apr-15</td>\n",
       "      <td>15-Apr-15</td>\n",
       "      <td>Insignia</td>\n",
       "      <td>NaN</td>\n",
       "      <td>Y</td>\n",
       "      <td>IS1</td>\n",
       "      <td>NaN</td>\n",
       "      <td>0.0</td>\n",
       "      <td>...</td>\n",
       "      <td>6/15/65</td>\n",
       "      <td>1.0</td>\n",
       "      <td>98220XXXXX</td>\n",
       "      <td>1.0</td>\n",
       "      <td>N</td>\n",
       "      <td>NaN</td>\n",
       "      <td>NaN</td>\n",
       "      <td>2.0</td>\n",
       "      <td>0.0</td>\n",
       "      <td>1977.0</td>\n",
       "    </tr>\n",
       "    <tr>\n",
       "      <th>4</th>\n",
       "      <td>0</td>\n",
       "      <td>5</td>\n",
       "      <td>6-May-15</td>\n",
       "      <td>30-Apr-15</td>\n",
       "      <td>Insignia</td>\n",
       "      <td>NaN</td>\n",
       "      <td>Y</td>\n",
       "      <td>IS1</td>\n",
       "      <td>NaN</td>\n",
       "      <td>0.0</td>\n",
       "      <td>...</td>\n",
       "      <td>0000-00-00</td>\n",
       "      <td>0.0</td>\n",
       "      <td>98111XXXXX</td>\n",
       "      <td>1.0</td>\n",
       "      <td>N</td>\n",
       "      <td>NaN</td>\n",
       "      <td>NaN</td>\n",
       "      <td>2.0</td>\n",
       "      <td>0.0</td>\n",
       "      <td>880.0</td>\n",
       "    </tr>\n",
       "  </tbody>\n",
       "</table>\n",
       "<p>5 rows × 86 columns</p>\n",
       "</div>"
      ],
      "text/plain": [
       "         Bad_label  customer_no  dt_opened entry_time feature_1 feature_10  \\\n",
       "train 0          0            1  18-Apr-15  13-Apr-15  Insignia        NaN   \n",
       "      1          0            2  21-Apr-15  21-Apr-15  Insignia        NaN   \n",
       "      2          0            3  22-Apr-15  21-Apr-15  Insignia        NaN   \n",
       "      3          0            4  25-Apr-15  15-Apr-15  Insignia        NaN   \n",
       "      4          0            5   6-May-15  30-Apr-15  Insignia        NaN   \n",
       "\n",
       "        feature_11 feature_12 feature_13  feature_14  ...  feature_75  \\\n",
       "train 0          Y        IS1        NaN         0.0  ...  0000-00-00   \n",
       "      1          Y        IS1        NaN         0.0  ...  0000-00-00   \n",
       "      2          Y        IS1        NaN         0.0  ...  0000-00-00   \n",
       "      3          Y        IS1        NaN         0.0  ...     6/15/65   \n",
       "      4          Y        IS1        NaN         0.0  ...  0000-00-00   \n",
       "\n",
       "        feature_76  feature_77 feature_78  feature_79 feature_8 feature_9  \\\n",
       "train 0        0.0  98332XXXXX        1.0           N       NaN       NaN   \n",
       "      1        0.0  99455XXXXX        1.0           N       NaN       NaN   \n",
       "      2        0.0  98456XXXXX        1.0           N       NaN       NaN   \n",
       "      3        1.0  98220XXXXX        1.0           N       NaN       NaN   \n",
       "      4        0.0  98111XXXXX        1.0           N       NaN       NaN   \n",
       "\n",
       "        count_enquiry_recency_365 count_enquiry_recency_90  \\\n",
       "train 0                       4.0                      0.0   \n",
       "      1                      19.0                      2.0   \n",
       "      2                       1.0                      1.0   \n",
       "      3                       2.0                      0.0   \n",
       "      4                       2.0                      0.0   \n",
       "\n",
       "        mean_diff_open_enquiry_dt  \n",
       "train 0                    1378.0  \n",
       "      1                     828.0  \n",
       "      2                    1832.0  \n",
       "      3                    1977.0  \n",
       "      4                     880.0  \n",
       "\n",
       "[5 rows x 86 columns]"
      ]
     },
     "execution_count": 27,
     "metadata": {},
     "output_type": "execute_result"
    }
   ],
   "source": [
    "# How many days are taken on an average for an enquiry after account opening\n",
    "enquiry_joined['mean_diff_open_enquiry_dt'] = dt_opened - enquiry_dt \n",
    "\n",
    "# Calculate Mean\n",
    "enquiry_count = enquiry_joined.groupby(\"customer_no\")[\"mean_diff_open_enquiry_dt\"].apply(lambda x: x.mean())\n",
    "\n",
    "# Get days\n",
    "enq_days= enquiry_count.dt.days\n",
    "\n",
    "# Join the data\n",
    "data_joined = data_joined.join(enq_days, on='customer_no')\n",
    "data_joined.mean_diff_open_enquiry_dt.fillna(0, inplace=True)\n",
    "data_joined.head()"
   ]
  },
  {
   "cell_type": "code",
   "execution_count": 28,
   "metadata": {},
   "outputs": [
    {
     "data": {
      "text/html": [
       "<div>\n",
       "<style scoped>\n",
       "    .dataframe tbody tr th:only-of-type {\n",
       "        vertical-align: middle;\n",
       "    }\n",
       "\n",
       "    .dataframe tbody tr th {\n",
       "        vertical-align: top;\n",
       "    }\n",
       "\n",
       "    .dataframe thead th {\n",
       "        text-align: right;\n",
       "    }\n",
       "</style>\n",
       "<table border=\"1\" class=\"dataframe\">\n",
       "  <thead>\n",
       "    <tr style=\"text-align: right;\">\n",
       "      <th></th>\n",
       "      <th></th>\n",
       "      <th>Bad_label</th>\n",
       "      <th>customer_no</th>\n",
       "      <th>dt_opened</th>\n",
       "      <th>entry_time</th>\n",
       "      <th>feature_1</th>\n",
       "      <th>feature_10</th>\n",
       "      <th>feature_11</th>\n",
       "      <th>feature_12</th>\n",
       "      <th>feature_13</th>\n",
       "      <th>feature_14</th>\n",
       "      <th>...</th>\n",
       "      <th>feature_76</th>\n",
       "      <th>feature_77</th>\n",
       "      <th>feature_78</th>\n",
       "      <th>feature_79</th>\n",
       "      <th>feature_8</th>\n",
       "      <th>feature_9</th>\n",
       "      <th>count_enquiry_recency_365</th>\n",
       "      <th>count_enquiry_recency_90</th>\n",
       "      <th>mean_diff_open_enquiry_dt</th>\n",
       "      <th>max_freq_enquiry</th>\n",
       "    </tr>\n",
       "  </thead>\n",
       "  <tbody>\n",
       "    <tr>\n",
       "      <th rowspan=\"5\" valign=\"top\">train</th>\n",
       "      <th>0</th>\n",
       "      <td>0</td>\n",
       "      <td>1</td>\n",
       "      <td>18-Apr-15</td>\n",
       "      <td>13-Apr-15</td>\n",
       "      <td>Insignia</td>\n",
       "      <td>NaN</td>\n",
       "      <td>Y</td>\n",
       "      <td>IS1</td>\n",
       "      <td>NaN</td>\n",
       "      <td>0.0</td>\n",
       "      <td>...</td>\n",
       "      <td>0.0</td>\n",
       "      <td>98332XXXXX</td>\n",
       "      <td>1.0</td>\n",
       "      <td>N</td>\n",
       "      <td>NaN</td>\n",
       "      <td>NaN</td>\n",
       "      <td>4.0</td>\n",
       "      <td>0.0</td>\n",
       "      <td>1378.0</td>\n",
       "      <td>51</td>\n",
       "    </tr>\n",
       "    <tr>\n",
       "      <th>1</th>\n",
       "      <td>0</td>\n",
       "      <td>2</td>\n",
       "      <td>21-Apr-15</td>\n",
       "      <td>21-Apr-15</td>\n",
       "      <td>Insignia</td>\n",
       "      <td>NaN</td>\n",
       "      <td>Y</td>\n",
       "      <td>IS1</td>\n",
       "      <td>NaN</td>\n",
       "      <td>0.0</td>\n",
       "      <td>...</td>\n",
       "      <td>0.0</td>\n",
       "      <td>99455XXXXX</td>\n",
       "      <td>1.0</td>\n",
       "      <td>N</td>\n",
       "      <td>NaN</td>\n",
       "      <td>NaN</td>\n",
       "      <td>19.0</td>\n",
       "      <td>2.0</td>\n",
       "      <td>828.0</td>\n",
       "      <td>54</td>\n",
       "    </tr>\n",
       "    <tr>\n",
       "      <th>2</th>\n",
       "      <td>0</td>\n",
       "      <td>3</td>\n",
       "      <td>22-Apr-15</td>\n",
       "      <td>21-Apr-15</td>\n",
       "      <td>Insignia</td>\n",
       "      <td>NaN</td>\n",
       "      <td>Y</td>\n",
       "      <td>IS1</td>\n",
       "      <td>NaN</td>\n",
       "      <td>0.0</td>\n",
       "      <td>...</td>\n",
       "      <td>0.0</td>\n",
       "      <td>98456XXXXX</td>\n",
       "      <td>1.0</td>\n",
       "      <td>N</td>\n",
       "      <td>NaN</td>\n",
       "      <td>NaN</td>\n",
       "      <td>1.0</td>\n",
       "      <td>1.0</td>\n",
       "      <td>1832.0</td>\n",
       "      <td>10</td>\n",
       "    </tr>\n",
       "    <tr>\n",
       "      <th>3</th>\n",
       "      <td>0</td>\n",
       "      <td>4</td>\n",
       "      <td>25-Apr-15</td>\n",
       "      <td>15-Apr-15</td>\n",
       "      <td>Insignia</td>\n",
       "      <td>NaN</td>\n",
       "      <td>Y</td>\n",
       "      <td>IS1</td>\n",
       "      <td>NaN</td>\n",
       "      <td>0.0</td>\n",
       "      <td>...</td>\n",
       "      <td>1.0</td>\n",
       "      <td>98220XXXXX</td>\n",
       "      <td>1.0</td>\n",
       "      <td>N</td>\n",
       "      <td>NaN</td>\n",
       "      <td>NaN</td>\n",
       "      <td>2.0</td>\n",
       "      <td>0.0</td>\n",
       "      <td>1977.0</td>\n",
       "      <td>52</td>\n",
       "    </tr>\n",
       "    <tr>\n",
       "      <th>4</th>\n",
       "      <td>0</td>\n",
       "      <td>5</td>\n",
       "      <td>6-May-15</td>\n",
       "      <td>30-Apr-15</td>\n",
       "      <td>Insignia</td>\n",
       "      <td>NaN</td>\n",
       "      <td>Y</td>\n",
       "      <td>IS1</td>\n",
       "      <td>NaN</td>\n",
       "      <td>0.0</td>\n",
       "      <td>...</td>\n",
       "      <td>0.0</td>\n",
       "      <td>98111XXXXX</td>\n",
       "      <td>1.0</td>\n",
       "      <td>N</td>\n",
       "      <td>NaN</td>\n",
       "      <td>NaN</td>\n",
       "      <td>2.0</td>\n",
       "      <td>0.0</td>\n",
       "      <td>880.0</td>\n",
       "      <td>51</td>\n",
       "    </tr>\n",
       "  </tbody>\n",
       "</table>\n",
       "<p>5 rows × 87 columns</p>\n",
       "</div>"
      ],
      "text/plain": [
       "         Bad_label  customer_no  dt_opened entry_time feature_1 feature_10  \\\n",
       "train 0          0            1  18-Apr-15  13-Apr-15  Insignia        NaN   \n",
       "      1          0            2  21-Apr-15  21-Apr-15  Insignia        NaN   \n",
       "      2          0            3  22-Apr-15  21-Apr-15  Insignia        NaN   \n",
       "      3          0            4  25-Apr-15  15-Apr-15  Insignia        NaN   \n",
       "      4          0            5   6-May-15  30-Apr-15  Insignia        NaN   \n",
       "\n",
       "        feature_11 feature_12 feature_13  feature_14  ... feature_76  \\\n",
       "train 0          Y        IS1        NaN         0.0  ...        0.0   \n",
       "      1          Y        IS1        NaN         0.0  ...        0.0   \n",
       "      2          Y        IS1        NaN         0.0  ...        0.0   \n",
       "      3          Y        IS1        NaN         0.0  ...        1.0   \n",
       "      4          Y        IS1        NaN         0.0  ...        0.0   \n",
       "\n",
       "         feature_77 feature_78 feature_79  feature_8 feature_9  \\\n",
       "train 0  98332XXXXX        1.0          N        NaN       NaN   \n",
       "      1  99455XXXXX        1.0          N        NaN       NaN   \n",
       "      2  98456XXXXX        1.0          N        NaN       NaN   \n",
       "      3  98220XXXXX        1.0          N        NaN       NaN   \n",
       "      4  98111XXXXX        1.0          N        NaN       NaN   \n",
       "\n",
       "        count_enquiry_recency_365 count_enquiry_recency_90  \\\n",
       "train 0                       4.0                      0.0   \n",
       "      1                      19.0                      2.0   \n",
       "      2                       1.0                      1.0   \n",
       "      3                       2.0                      0.0   \n",
       "      4                       2.0                      0.0   \n",
       "\n",
       "        mean_diff_open_enquiry_dt max_freq_enquiry  \n",
       "train 0                    1378.0               51  \n",
       "      1                     828.0               54  \n",
       "      2                    1832.0               10  \n",
       "      3                    1977.0               52  \n",
       "      4                     880.0               51  \n",
       "\n",
       "[5 rows x 87 columns]"
      ]
     },
     "execution_count": 28,
     "metadata": {},
     "output_type": "execute_result"
    }
   ],
   "source": [
    "# Getting the purpose of most recent enquiry purpose\n",
    "purpose_enq = enquiry_joined.groupby(\"customer_no\")[\"enq_purpose\"].apply(lambda x: x.max()) # To get most frequent enquiry purpose\n",
    "data_joined = data_joined.join(purpose_enq, on='customer_no')\n",
    "data_joined.rename(columns={ 'enq_purpose' : 'max_freq_enquiry' },inplace=True) # rename the lable to max_freq_enquiry\n",
    "data_joined[\"max_freq_enquiry\"] = data_joined[\"max_freq_enquiry\"].fillna(0.0).astype(int)\n",
    "data_joined.head()"
   ]
  },
  {
   "cell_type": "code",
   "execution_count": 1,
   "metadata": {},
   "outputs": [],
   "source": [
    "# Similar to this we can create more features such as followings\n",
    "\n",
    "# 1. Ratio of Current balance and credit limit\n",
    "# 2. Utilization Trend of Customer\n",
    "# 3. Average of payment duration\n",
    "# 4. Average ammount of Enquiry\n",
    "# We can do many more features like this\n",
    "\n",
    "\n",
    "# I will be creating a seprate file for train and test cleaning\n"
   ]
  },
  {
   "cell_type": "code",
   "execution_count": 29,
   "metadata": {},
   "outputs": [
    {
     "data": {
      "text/html": [
       "<div>\n",
       "<style scoped>\n",
       "    .dataframe tbody tr th:only-of-type {\n",
       "        vertical-align: middle;\n",
       "    }\n",
       "\n",
       "    .dataframe tbody tr th {\n",
       "        vertical-align: top;\n",
       "    }\n",
       "\n",
       "    .dataframe thead th {\n",
       "        text-align: right;\n",
       "    }\n",
       "</style>\n",
       "<table border=\"1\" class=\"dataframe\">\n",
       "  <thead>\n",
       "    <tr style=\"text-align: right;\">\n",
       "      <th></th>\n",
       "      <th>Total</th>\n",
       "      <th>Percentge</th>\n",
       "    </tr>\n",
       "  </thead>\n",
       "  <tbody>\n",
       "    <tr>\n",
       "      <th>feature_61</th>\n",
       "      <td>34121</td>\n",
       "      <td>0.999561</td>\n",
       "    </tr>\n",
       "    <tr>\n",
       "      <th>feature_74</th>\n",
       "      <td>34112</td>\n",
       "      <td>0.999297</td>\n",
       "    </tr>\n",
       "    <tr>\n",
       "      <th>feature_18</th>\n",
       "      <td>34105</td>\n",
       "      <td>0.999092</td>\n",
       "    </tr>\n",
       "    <tr>\n",
       "      <th>feature_10</th>\n",
       "      <td>34065</td>\n",
       "      <td>0.997920</td>\n",
       "    </tr>\n",
       "    <tr>\n",
       "      <th>feature_49</th>\n",
       "      <td>33977</td>\n",
       "      <td>0.995342</td>\n",
       "    </tr>\n",
       "    <tr>\n",
       "      <th>feature_17</th>\n",
       "      <td>32681</td>\n",
       "      <td>0.957376</td>\n",
       "    </tr>\n",
       "    <tr>\n",
       "      <th>feature_9</th>\n",
       "      <td>32343</td>\n",
       "      <td>0.947475</td>\n",
       "    </tr>\n",
       "    <tr>\n",
       "      <th>feature_8</th>\n",
       "      <td>32343</td>\n",
       "      <td>0.947475</td>\n",
       "    </tr>\n",
       "    <tr>\n",
       "      <th>feature_57</th>\n",
       "      <td>30705</td>\n",
       "      <td>0.899490</td>\n",
       "    </tr>\n",
       "    <tr>\n",
       "      <th>feature_73</th>\n",
       "      <td>29917</td>\n",
       "      <td>0.876406</td>\n",
       "    </tr>\n",
       "    <tr>\n",
       "      <th>feature_48</th>\n",
       "      <td>26365</td>\n",
       "      <td>0.772352</td>\n",
       "    </tr>\n",
       "    <tr>\n",
       "      <th>feature_6</th>\n",
       "      <td>23905</td>\n",
       "      <td>0.700287</td>\n",
       "    </tr>\n",
       "    <tr>\n",
       "      <th>feature_45</th>\n",
       "      <td>19618</td>\n",
       "      <td>0.574701</td>\n",
       "    </tr>\n",
       "    <tr>\n",
       "      <th>feature_13</th>\n",
       "      <td>18522</td>\n",
       "      <td>0.542594</td>\n",
       "    </tr>\n",
       "    <tr>\n",
       "      <th>feature_53</th>\n",
       "      <td>16594</td>\n",
       "      <td>0.486114</td>\n",
       "    </tr>\n",
       "    <tr>\n",
       "      <th>feature_51</th>\n",
       "      <td>16338</td>\n",
       "      <td>0.478615</td>\n",
       "    </tr>\n",
       "    <tr>\n",
       "      <th>feature_14</th>\n",
       "      <td>10996</td>\n",
       "      <td>0.322123</td>\n",
       "    </tr>\n",
       "    <tr>\n",
       "      <th>feature_36</th>\n",
       "      <td>8130</td>\n",
       "      <td>0.238165</td>\n",
       "    </tr>\n",
       "    <tr>\n",
       "      <th>feature_38</th>\n",
       "      <td>8130</td>\n",
       "      <td>0.238165</td>\n",
       "    </tr>\n",
       "    <tr>\n",
       "      <th>feature_37</th>\n",
       "      <td>8130</td>\n",
       "      <td>0.238165</td>\n",
       "    </tr>\n",
       "    <tr>\n",
       "      <th>feature_27</th>\n",
       "      <td>5170</td>\n",
       "      <td>0.151453</td>\n",
       "    </tr>\n",
       "    <tr>\n",
       "      <th>feature_2</th>\n",
       "      <td>4047</td>\n",
       "      <td>0.118555</td>\n",
       "    </tr>\n",
       "    <tr>\n",
       "      <th>feature_3</th>\n",
       "      <td>4047</td>\n",
       "      <td>0.118555</td>\n",
       "    </tr>\n",
       "    <tr>\n",
       "      <th>feature_24</th>\n",
       "      <td>916</td>\n",
       "      <td>0.026834</td>\n",
       "    </tr>\n",
       "    <tr>\n",
       "      <th>feature_46</th>\n",
       "      <td>144</td>\n",
       "      <td>0.004218</td>\n",
       "    </tr>\n",
       "    <tr>\n",
       "      <th>feature_16</th>\n",
       "      <td>39</td>\n",
       "      <td>0.001142</td>\n",
       "    </tr>\n",
       "    <tr>\n",
       "      <th>feature_15</th>\n",
       "      <td>37</td>\n",
       "      <td>0.001084</td>\n",
       "    </tr>\n",
       "    <tr>\n",
       "      <th>feature_71</th>\n",
       "      <td>24</td>\n",
       "      <td>0.000703</td>\n",
       "    </tr>\n",
       "    <tr>\n",
       "      <th>feature_63</th>\n",
       "      <td>24</td>\n",
       "      <td>0.000703</td>\n",
       "    </tr>\n",
       "    <tr>\n",
       "      <th>feature_58</th>\n",
       "      <td>24</td>\n",
       "      <td>0.000703</td>\n",
       "    </tr>\n",
       "    <tr>\n",
       "      <th>...</th>\n",
       "      <td>...</td>\n",
       "      <td>...</td>\n",
       "    </tr>\n",
       "    <tr>\n",
       "      <th>feature_12</th>\n",
       "      <td>24</td>\n",
       "      <td>0.000703</td>\n",
       "    </tr>\n",
       "    <tr>\n",
       "      <th>feature_72</th>\n",
       "      <td>24</td>\n",
       "      <td>0.000703</td>\n",
       "    </tr>\n",
       "    <tr>\n",
       "      <th>feature_7</th>\n",
       "      <td>24</td>\n",
       "      <td>0.000703</td>\n",
       "    </tr>\n",
       "    <tr>\n",
       "      <th>feature_21</th>\n",
       "      <td>24</td>\n",
       "      <td>0.000703</td>\n",
       "    </tr>\n",
       "    <tr>\n",
       "      <th>feature_55</th>\n",
       "      <td>24</td>\n",
       "      <td>0.000703</td>\n",
       "    </tr>\n",
       "    <tr>\n",
       "      <th>feature_54</th>\n",
       "      <td>24</td>\n",
       "      <td>0.000703</td>\n",
       "    </tr>\n",
       "    <tr>\n",
       "      <th>feature_25</th>\n",
       "      <td>24</td>\n",
       "      <td>0.000703</td>\n",
       "    </tr>\n",
       "    <tr>\n",
       "      <th>feature_26</th>\n",
       "      <td>24</td>\n",
       "      <td>0.000703</td>\n",
       "    </tr>\n",
       "    <tr>\n",
       "      <th>feature_28</th>\n",
       "      <td>24</td>\n",
       "      <td>0.000703</td>\n",
       "    </tr>\n",
       "    <tr>\n",
       "      <th>feature_29</th>\n",
       "      <td>24</td>\n",
       "      <td>0.000703</td>\n",
       "    </tr>\n",
       "    <tr>\n",
       "      <th>feature_30</th>\n",
       "      <td>24</td>\n",
       "      <td>0.000703</td>\n",
       "    </tr>\n",
       "    <tr>\n",
       "      <th>feature_31</th>\n",
       "      <td>24</td>\n",
       "      <td>0.000703</td>\n",
       "    </tr>\n",
       "    <tr>\n",
       "      <th>feature_32</th>\n",
       "      <td>24</td>\n",
       "      <td>0.000703</td>\n",
       "    </tr>\n",
       "    <tr>\n",
       "      <th>feature_33</th>\n",
       "      <td>24</td>\n",
       "      <td>0.000703</td>\n",
       "    </tr>\n",
       "    <tr>\n",
       "      <th>feature_34</th>\n",
       "      <td>24</td>\n",
       "      <td>0.000703</td>\n",
       "    </tr>\n",
       "    <tr>\n",
       "      <th>feature_35</th>\n",
       "      <td>24</td>\n",
       "      <td>0.000703</td>\n",
       "    </tr>\n",
       "    <tr>\n",
       "      <th>feature_39</th>\n",
       "      <td>24</td>\n",
       "      <td>0.000703</td>\n",
       "    </tr>\n",
       "    <tr>\n",
       "      <th>feature_4</th>\n",
       "      <td>24</td>\n",
       "      <td>0.000703</td>\n",
       "    </tr>\n",
       "    <tr>\n",
       "      <th>feature_40</th>\n",
       "      <td>24</td>\n",
       "      <td>0.000703</td>\n",
       "    </tr>\n",
       "    <tr>\n",
       "      <th>feature_41</th>\n",
       "      <td>24</td>\n",
       "      <td>0.000703</td>\n",
       "    </tr>\n",
       "    <tr>\n",
       "      <th>feature_42</th>\n",
       "      <td>24</td>\n",
       "      <td>0.000703</td>\n",
       "    </tr>\n",
       "    <tr>\n",
       "      <th>feature_43</th>\n",
       "      <td>24</td>\n",
       "      <td>0.000703</td>\n",
       "    </tr>\n",
       "    <tr>\n",
       "      <th>feature_44</th>\n",
       "      <td>24</td>\n",
       "      <td>0.000703</td>\n",
       "    </tr>\n",
       "    <tr>\n",
       "      <th>feature_1</th>\n",
       "      <td>24</td>\n",
       "      <td>0.000703</td>\n",
       "    </tr>\n",
       "    <tr>\n",
       "      <th>feature_19</th>\n",
       "      <td>24</td>\n",
       "      <td>0.000703</td>\n",
       "    </tr>\n",
       "    <tr>\n",
       "      <th>feature_5</th>\n",
       "      <td>24</td>\n",
       "      <td>0.000703</td>\n",
       "    </tr>\n",
       "    <tr>\n",
       "      <th>feature_50</th>\n",
       "      <td>24</td>\n",
       "      <td>0.000703</td>\n",
       "    </tr>\n",
       "    <tr>\n",
       "      <th>feature_23</th>\n",
       "      <td>24</td>\n",
       "      <td>0.000703</td>\n",
       "    </tr>\n",
       "    <tr>\n",
       "      <th>feature_52</th>\n",
       "      <td>24</td>\n",
       "      <td>0.000703</td>\n",
       "    </tr>\n",
       "    <tr>\n",
       "      <th>entry_time</th>\n",
       "      <td>24</td>\n",
       "      <td>0.000703</td>\n",
       "    </tr>\n",
       "  </tbody>\n",
       "</table>\n",
       "<p>76 rows × 2 columns</p>\n",
       "</div>"
      ],
      "text/plain": [
       "            Total  Percentge\n",
       "feature_61  34121   0.999561\n",
       "feature_74  34112   0.999297\n",
       "feature_18  34105   0.999092\n",
       "feature_10  34065   0.997920\n",
       "feature_49  33977   0.995342\n",
       "feature_17  32681   0.957376\n",
       "feature_9   32343   0.947475\n",
       "feature_8   32343   0.947475\n",
       "feature_57  30705   0.899490\n",
       "feature_73  29917   0.876406\n",
       "feature_48  26365   0.772352\n",
       "feature_6   23905   0.700287\n",
       "feature_45  19618   0.574701\n",
       "feature_13  18522   0.542594\n",
       "feature_53  16594   0.486114\n",
       "feature_51  16338   0.478615\n",
       "feature_14  10996   0.322123\n",
       "feature_36   8130   0.238165\n",
       "feature_38   8130   0.238165\n",
       "feature_37   8130   0.238165\n",
       "feature_27   5170   0.151453\n",
       "feature_2    4047   0.118555\n",
       "feature_3    4047   0.118555\n",
       "feature_24    916   0.026834\n",
       "feature_46    144   0.004218\n",
       "feature_16     39   0.001142\n",
       "feature_15     37   0.001084\n",
       "feature_71     24   0.000703\n",
       "feature_63     24   0.000703\n",
       "feature_58     24   0.000703\n",
       "...           ...        ...\n",
       "feature_12     24   0.000703\n",
       "feature_72     24   0.000703\n",
       "feature_7      24   0.000703\n",
       "feature_21     24   0.000703\n",
       "feature_55     24   0.000703\n",
       "feature_54     24   0.000703\n",
       "feature_25     24   0.000703\n",
       "feature_26     24   0.000703\n",
       "feature_28     24   0.000703\n",
       "feature_29     24   0.000703\n",
       "feature_30     24   0.000703\n",
       "feature_31     24   0.000703\n",
       "feature_32     24   0.000703\n",
       "feature_33     24   0.000703\n",
       "feature_34     24   0.000703\n",
       "feature_35     24   0.000703\n",
       "feature_39     24   0.000703\n",
       "feature_4      24   0.000703\n",
       "feature_40     24   0.000703\n",
       "feature_41     24   0.000703\n",
       "feature_42     24   0.000703\n",
       "feature_43     24   0.000703\n",
       "feature_44     24   0.000703\n",
       "feature_1      24   0.000703\n",
       "feature_19     24   0.000703\n",
       "feature_5      24   0.000703\n",
       "feature_50     24   0.000703\n",
       "feature_23     24   0.000703\n",
       "feature_52     24   0.000703\n",
       "entry_time     24   0.000703\n",
       "\n",
       "[76 rows x 2 columns]"
      ]
     },
     "execution_count": 29,
     "metadata": {},
     "output_type": "execute_result"
    }
   ],
   "source": [
    "# Now let us check how many missing values are there in the columns and their percentage\n",
    "\n",
    "merge_data = data_joined\n",
    "\n",
    "# Total missing values in every column\n",
    "total_missing = merge_data.isnull().sum()\n",
    "\n",
    "# Calculate percentage\n",
    "percentge = total_missing/merge_data.isnull().count()\n",
    "\n",
    "# Combine total and percentage values\n",
    "NAs = pd.concat([total_missing,percentge],axis=1,keys=('Total','Percentge'))\n",
    "\n",
    "# Getting columns where there are missing values\n",
    "NAs[NAs.Total>0].sort_values(by='Total',ascending=False)"
   ]
  },
  {
   "cell_type": "code",
   "execution_count": 30,
   "metadata": {
    "scrolled": true
   },
   "outputs": [
    {
     "data": {
      "text/plain": [
       "['feature_10',\n",
       " 'feature_13',\n",
       " 'feature_17',\n",
       " 'feature_18',\n",
       " 'feature_45',\n",
       " 'feature_48',\n",
       " 'feature_49',\n",
       " 'feature_51',\n",
       " 'feature_53',\n",
       " 'feature_57',\n",
       " 'feature_6',\n",
       " 'feature_61',\n",
       " 'feature_73',\n",
       " 'feature_74',\n",
       " 'feature_8',\n",
       " 'feature_9']"
      ]
     },
     "execution_count": 30,
     "metadata": {},
     "output_type": "execute_result"
    }
   ],
   "source": [
    "# Droping Columns where NA is more than 40 Percentages\n",
    "list(NAs.Percentge [NAs.Percentge > .4].index)"
   ]
  },
  {
   "cell_type": "code",
   "execution_count": null,
   "metadata": {},
   "outputs": [],
   "source": []
  }
 ],
 "metadata": {
  "kernelspec": {
   "display_name": "Python 3",
   "language": "python",
   "name": "python3"
  },
  "language_info": {
   "codemirror_mode": {
    "name": "ipython",
    "version": 3
   },
   "file_extension": ".py",
   "mimetype": "text/x-python",
   "name": "python",
   "nbconvert_exporter": "python",
   "pygments_lexer": "ipython3",
   "version": "3.7.3"
  }
 },
 "nbformat": 4,
 "nbformat_minor": 2
}
